{
 "cells": [
  {
   "cell_type": "code",
   "execution_count": 1,
   "id": "7c7bc03c-53b8-4deb-ad31-7bc3686445ac",
   "metadata": {},
   "outputs": [
    {
     "name": "stdout",
     "output_type": "stream",
     "text": [
      "The average price is: $121.00\n"
     ]
    }
   ],
   "source": [
    "import pandas as pd\n",
    "import plotly.express as px\n",
    "\n",
    "df = pd.read_csv('listings.csv')\n",
    "df['price'] = df['price'].replace({'\\$': '', ',': ''}, regex=True).astype(float)\n",
    "print(f\"The average price is: ${df['price'].mean():.2f}\")"
   ]
  },
  {
   "cell_type": "code",
   "execution_count": 2,
   "id": "c66929b6-c9f3-47ee-901e-e452ca944d79",
   "metadata": {},
   "outputs": [
    {
     "data": {
      "application/vnd.plotly.v1+json": {
       "config": {
        "plotlyServerURL": "https://plot.ly"
       },
       "data": [
        {
         "hovertemplate": "neighbourhood_group=%{x}<br>index=%{y}<extra></extra>",
         "legendgroup": "",
         "marker": {
          "color": "#636efa",
          "pattern": {
           "shape": ""
          }
         },
         "name": "",
         "orientation": "h",
         "showlegend": false,
         "textposition": "auto",
         "type": "bar",
         "x": {
          "bdata": "AAAAAAAA+H8AAAAAAAD4fwAAAAAAAPh/AAAAAAAA+H8AAAAAAAD4fwAAAAAAAPh/AAAAAAAA+H8AAAAAAAD4fwAAAAAAAPh/AAAAAAAA+H8AAAAAAAD4fwAAAAAAAPh/AAAAAAAA+H8AAAAAAAD4fwAAAAAAAPh/AAAAAAAA+H8AAAAAAAD4fwAAAAAAAPh/AAAAAAAA+H8AAAAAAAD4fwAAAAAAAPh/AAAAAAAA+H8AAAAAAAD4fwAAAAAAAPh/AAAAAAAA+H8AAAAAAAD4fwAAAAAAAPh/AAAAAAAA+H8AAAAAAAD4fwAAAAAAAPh/AAAAAAAA+H8AAAAAAAD4fwAAAAAAAPh/AAAAAAAA+H8AAAAAAAD4fwAAAAAAAPh/AAAAAAAA+H8AAAAAAAD4fwAAAAAAAPh/AAAAAAAA+H8AAAAAAAD4fwAAAAAAAPh/AAAAAAAA+H8AAAAAAAD4fwAAAAAAAPh/AAAAAAAA+H8AAAAAAAD4fwAAAAAAAPh/AAAAAAAA+H8AAAAAAAD4fwAAAAAAAPh/AAAAAAAA+H8AAAAAAAD4fwAAAAAAAPh/AAAAAAAA+H8AAAAAAAD4fwAAAAAAAPh/AAAAAAAA+H8AAAAAAAD4fwAAAAAAAPh/AAAAAAAA+H8AAAAAAAD4fwAAAAAAAPh/AAAAAAAA+H8AAAAAAAD4fwAAAAAAAPh/AAAAAAAA+H8AAAAAAAD4fwAAAAAAAPh/AAAAAAAA+H8AAAAAAAD4fwAAAAAAAPh/AAAAAAAA+H8AAAAAAAD4fwAAAAAAAPh/AAAAAAAA+H8AAAAAAAD4fwAAAAAAAPh/AAAAAAAA+H8AAAAAAAD4fwAAAAAAAPh/AAAAAAAA+H8AAAAAAAD4fwAAAAAAAPh/AAAAAAAA+H8AAAAAAAD4fwAAAAAAAPh/AAAAAAAA+H8AAAAAAAD4fwAAAAAAAPh/AAAAAAAA+H8AAAAAAAD4fwAAAAAAAPh/AAAAAAAA+H8AAAAAAAD4fwAAAAAAAPh/AAAAAAAA+H8AAAAAAAD4fwAAAAAAAPh/AAAAAAAA+H8AAAAAAAD4fwAAAAAAAPh/AAAAAAAA+H8AAAAAAAD4fwAAAAAAAPh/AAAAAAAA+H8AAAAAAAD4fwAAAAAAAPh/AAAAAAAA+H8AAAAAAAD4fwAAAAAAAPh/AAAAAAAA+H8AAAAAAAD4fwAAAAAAAPh/AAAAAAAA+H8AAAAAAAD4fwAAAAAAAPh/AAAAAAAA+H8AAAAAAAD4fwAAAAAAAPh/AAAAAAAA+H8AAAAAAAD4fwAAAAAAAPh/AAAAAAAA+H8AAAAAAAD4fwAAAAAAAPh/AAAAAAAA+H8AAAAAAAD4fwAAAAAAAPh/AAAAAAAA+H8AAAAAAAD4fwAAAAAAAPh/AAAAAAAA+H8AAAAAAAD4fwAAAAAAAPh/AAAAAAAA+H8AAAAAAAD4fwAAAAAAAPh/AAAAAAAA+H8AAAAAAAD4fwAAAAAAAPh/AAAAAAAA+H8AAAAAAAD4fwAAAAAAAPh/AAAAAAAA+H8AAAAAAAD4fwAAAAAAAPh/AAAAAAAA+H8AAAAAAAD4fwAAAAAAAPh/AAAAAAAA+H8AAAAAAAD4fwAAAAAAAPh/AAAAAAAA+H8AAAAAAAD4fwAAAAAAAPh/AAAAAAAA+H8AAAAAAAD4fwAAAAAAAPh/AAAAAAAA+H8AAAAAAAD4fwAAAAAAAPh/AAAAAAAA+H8AAAAAAAD4fwAAAAAAAPh/AAAAAAAA+H8AAAAAAAD4fwAAAAAAAPh/AAAAAAAA+H8AAAAAAAD4fwAAAAAAAPh/AAAAAAAA+H8AAAAAAAD4fwAAAAAAAPh/AAAAAAAA+H8AAAAAAAD4fwAAAAAAAPh/AAAAAAAA+H8AAAAAAAD4fwAAAAAAAPh/AAAAAAAA+H8AAAAAAAD4fwAAAAAAAPh/AAAAAAAA+H8AAAAAAAD4fwAAAAAAAPh/AAAAAAAA+H8AAAAAAAD4fwAAAAAAAPh/AAAAAAAA+H8AAAAAAAD4fwAAAAAAAPh/AAAAAAAA+H8AAAAAAAD4fwAAAAAAAPh/AAAAAAAA+H8AAAAAAAD4fwAAAAAAAPh/AAAAAAAA+H8AAAAAAAD4fwAAAAAAAPh/AAAAAAAA+H8AAAAAAAD4fwAAAAAAAPh/AAAAAAAA+H8AAAAAAAD4fwAAAAAAAPh/AAAAAAAA+H8AAAAAAAD4fwAAAAAAAPh/AAAAAAAA+H8AAAAAAAD4fwAAAAAAAPh/AAAAAAAA+H8AAAAAAAD4fwAAAAAAAPh/AAAAAAAA+H8AAAAAAAD4fwAAAAAAAPh/AAAAAAAA+H8AAAAAAAD4fwAAAAAAAPh/AAAAAAAA+H8AAAAAAAD4fwAAAAAAAPh/AAAAAAAA+H8AAAAAAAD4fwAAAAAAAPh/AAAAAAAA+H8AAAAAAAD4fwAAAAAAAPh/AAAAAAAA+H8AAAAAAAD4fwAAAAAAAPh/AAAAAAAA+H8AAAAAAAD4fwAAAAAAAPh/AAAAAAAA+H8AAAAAAAD4fwAAAAAAAPh/AAAAAAAA+H8AAAAAAAD4fwAAAAAAAPh/AAAAAAAA+H8AAAAAAAD4fwAAAAAAAPh/AAAAAAAA+H8AAAAAAAD4fwAAAAAAAPh/AAAAAAAA+H8AAAAAAAD4fwAAAAAAAPh/AAAAAAAA+H8AAAAAAAD4fwAAAAAAAPh/AAAAAAAA+H8AAAAAAAD4fwAAAAAAAPh/AAAAAAAA+H8AAAAAAAD4fwAAAAAAAPh/AAAAAAAA+H8AAAAAAAD4fwAAAAAAAPh/AAAAAAAA+H8AAAAAAAD4fwAAAAAAAPh/AAAAAAAA+H8AAAAAAAD4fwAAAAAAAPh/AAAAAAAA+H8AAAAAAAD4fwAAAAAAAPh/AAAAAAAA+H8AAAAAAAD4fwAAAAAAAPh/AAAAAAAA+H8AAAAAAAD4fwAAAAAAAPh/AAAAAAAA+H8AAAAAAAD4fwAAAAAAAPh/AAAAAAAA+H8AAAAAAAD4fwAAAAAAAPh/AAAAAAAA+H8AAAAAAAD4fwAAAAAAAPh/AAAAAAAA+H8AAAAAAAD4fwAAAAAAAPh/AAAAAAAA+H8AAAAAAAD4fwAAAAAAAPh/AAAAAAAA+H8AAAAAAAD4fwAAAAAAAPh/AAAAAAAA+H8AAAAAAAD4fwAAAAAAAPh/AAAAAAAA+H8AAAAAAAD4fwAAAAAAAPh/AAAAAAAA+H8AAAAAAAD4fwAAAAAAAPh/AAAAAAAA+H8AAAAAAAD4fwAAAAAAAPh/AAAAAAAA+H8AAAAAAAD4fwAAAAAAAPh/AAAAAAAA+H8AAAAAAAD4fwAAAAAAAPh/AAAAAAAA+H8AAAAAAAD4fwAAAAAAAPh/AAAAAAAA+H8AAAAAAAD4fwAAAAAAAPh/AAAAAAAA+H8AAAAAAAD4fwAAAAAAAPh/AAAAAAAA+H8AAAAAAAD4fwAAAAAAAPh/AAAAAAAA+H8AAAAAAAD4fwAAAAAAAPh/AAAAAAAA+H8AAAAAAAD4fwAAAAAAAPh/AAAAAAAA+H8AAAAAAAD4fwAAAAAAAPh/AAAAAAAA+H8AAAAAAAD4fwAAAAAAAPh/AAAAAAAA+H8AAAAAAAD4fwAAAAAAAPh/AAAAAAAA+H8AAAAAAAD4fwAAAAAAAPh/AAAAAAAA+H8AAAAAAAD4fwAAAAAAAPh/AAAAAAAA+H8AAAAAAAD4fwAAAAAAAPh/AAAAAAAA+H8AAAAAAAD4fwAAAAAAAPh/AAAAAAAA+H8AAAAAAAD4fwAAAAAAAPh/AAAAAAAA+H8AAAAAAAD4fwAAAAAAAPh/AAAAAAAA+H8AAAAAAAD4fwAAAAAAAPh/AAAAAAAA+H8AAAAAAAD4fwAAAAAAAPh/AAAAAAAA+H8AAAAAAAD4fwAAAAAAAPh/AAAAAAAA+H8AAAAAAAD4fwAAAAAAAPh/AAAAAAAA+H8AAAAAAAD4fwAAAAAAAPh/AAAAAAAA+H8AAAAAAAD4fwAAAAAAAPh/AAAAAAAA+H8AAAAAAAD4fwAAAAAAAPh/AAAAAAAA+H8AAAAAAAD4fwAAAAAAAPh/AAAAAAAA+H8AAAAAAAD4fwAAAAAAAPh/AAAAAAAA+H8AAAAAAAD4fwAAAAAAAPh/AAAAAAAA+H8AAAAAAAD4fwAAAAAAAPh/AAAAAAAA+H8AAAAAAAD4fwAAAAAAAPh/AAAAAAAA+H8AAAAAAAD4fwAAAAAAAPh/AAAAAAAA+H8AAAAAAAD4fwAAAAAAAPh/AAAAAAAA+H8AAAAAAAD4fwAAAAAAAPh/AAAAAAAA+H8AAAAAAAD4fwAAAAAAAPh/AAAAAAAA+H8AAAAAAAD4fwAAAAAAAPh/AAAAAAAA+H8AAAAAAAD4fwAAAAAAAPh/AAAAAAAA+H8AAAAAAAD4fwAAAAAAAPh/AAAAAAAA+H8AAAAAAAD4fwAAAAAAAPh/AAAAAAAA+H8AAAAAAAD4fwAAAAAAAPh/AAAAAAAA+H8AAAAAAAD4fwAAAAAAAPh/AAAAAAAA+H8AAAAAAAD4fwAAAAAAAPh/AAAAAAAA+H8AAAAAAAD4fwAAAAAAAPh/AAAAAAAA+H8AAAAAAAD4fwAAAAAAAPh/AAAAAAAA+H8AAAAAAAD4fwAAAAAAAPh/AAAAAAAA+H8AAAAAAAD4fwAAAAAAAPh/AAAAAAAA+H8AAAAAAAD4fwAAAAAAAPh/AAAAAAAA+H8AAAAAAAD4fwAAAAAAAPh/",
          "dtype": "f8"
         },
         "xaxis": "x",
         "y": {
          "bdata": "AAABAAIAAwAEAAUABgAHAAgACQAKAAsADAANAA4ADwAQABEAEgATABQAFQAWABcAGAAZABoAGwAcAB0AHgAfACAAIQAiACMAJAAlACYAJwAoACkAKgArACwALQAuAC8AMAAxADIAMwA0ADUANgA3ADgAOQA6ADsAPAA9AD4APwBAAEEAQgBDAEQARQBGAEcASABJAEoASwBMAE0ATgBPAFAAUQBSAFMAVABVAFYAVwBYAFkAWgBbAFwAXQBeAF8AYABhAGIAYwBkAGUAZgBnAGgAaQBqAGsAbABtAG4AbwBwAHEAcgBzAHQAdQB2AHcAeAB5AHoAewB8AH0AfgB/AIAAgQCCAIMAhACFAIYAhwCIAIkAigCLAIwAjQCOAI8AkACRAJIAkwCUAJUAlgCXAJgAmQCaAJsAnACdAJ4AnwCgAKEAogCjAKQApQCmAKcAqACpAKoAqwCsAK0ArgCvALAAsQCyALMAtAC1ALYAtwC4ALkAugC7ALwAvQC+AL8AwADBAMIAwwDEAMUAxgDHAMgAyQDKAMsAzADNAM4AzwDQANEA0gDTANQA1QDWANcA2ADZANoA2wDcAN0A3gDfAOAA4QDiAOMA5ADlAOYA5wDoAOkA6gDrAOwA7QDuAO8A8ADxAPIA8wD0APUA9gD3APgA+QD6APsA/AD9AP4A/wAAAQEBAgEDAQQBBQEGAQcBCAEJAQoBCwEMAQ0BDgEPARABEQESARMBFAEVARYBFwEYARkBGgEbARwBHQEeAR8BIAEhASIBIwEkASUBJgEnASgBKQEqASsBLAEtAS4BLwEwATEBMgEzATQBNQE2ATcBOAE5AToBOwE8AT0BPgE/AUABQQFCAUMBRAFFAUYBRwFIAUkBSgFLAUwBTQFOAU8BUAFRAVIBUwFUAVUBVgFXAVgBWQFaAVsBXAFdAV4BXwFgAWEBYgFjAWQBZQFmAWcBaAFpAWoBawFsAW0BbgFvAXABcQFyAXMBdAF1AXYBdwF4AXkBegF7AXwBfQF+AX8BgAGBAYIBgwGEAYUBhgGHAYgBiQGKAYsBjAGNAY4BjwGQAZEBkgGTAZQBlQGWAZcBmAGZAZoBmwGcAZ0BngGfAaABoQGiAaMBpAGlAaYBpwGoAakBqgGrAawBrQGuAa8BsAGxAbIBswG0AbUBtgG3AbgBuQG6AbsBvAG9Ab4B",
          "dtype": "i2"
         },
         "yaxis": "y"
        }
       ],
       "layout": {
        "barmode": "relative",
        "legend": {
         "tracegroupgap": 0
        },
        "template": {
         "data": {
          "bar": [
           {
            "error_x": {
             "color": "#2a3f5f"
            },
            "error_y": {
             "color": "#2a3f5f"
            },
            "marker": {
             "line": {
              "color": "#E5ECF6",
              "width": 0.5
             },
             "pattern": {
              "fillmode": "overlay",
              "size": 10,
              "solidity": 0.2
             }
            },
            "type": "bar"
           }
          ],
          "barpolar": [
           {
            "marker": {
             "line": {
              "color": "#E5ECF6",
              "width": 0.5
             },
             "pattern": {
              "fillmode": "overlay",
              "size": 10,
              "solidity": 0.2
             }
            },
            "type": "barpolar"
           }
          ],
          "carpet": [
           {
            "aaxis": {
             "endlinecolor": "#2a3f5f",
             "gridcolor": "white",
             "linecolor": "white",
             "minorgridcolor": "white",
             "startlinecolor": "#2a3f5f"
            },
            "baxis": {
             "endlinecolor": "#2a3f5f",
             "gridcolor": "white",
             "linecolor": "white",
             "minorgridcolor": "white",
             "startlinecolor": "#2a3f5f"
            },
            "type": "carpet"
           }
          ],
          "choropleth": [
           {
            "colorbar": {
             "outlinewidth": 0,
             "ticks": ""
            },
            "type": "choropleth"
           }
          ],
          "contour": [
           {
            "colorbar": {
             "outlinewidth": 0,
             "ticks": ""
            },
            "colorscale": [
             [
              0,
              "#0d0887"
             ],
             [
              0.1111111111111111,
              "#46039f"
             ],
             [
              0.2222222222222222,
              "#7201a8"
             ],
             [
              0.3333333333333333,
              "#9c179e"
             ],
             [
              0.4444444444444444,
              "#bd3786"
             ],
             [
              0.5555555555555556,
              "#d8576b"
             ],
             [
              0.6666666666666666,
              "#ed7953"
             ],
             [
              0.7777777777777778,
              "#fb9f3a"
             ],
             [
              0.8888888888888888,
              "#fdca26"
             ],
             [
              1,
              "#f0f921"
             ]
            ],
            "type": "contour"
           }
          ],
          "contourcarpet": [
           {
            "colorbar": {
             "outlinewidth": 0,
             "ticks": ""
            },
            "type": "contourcarpet"
           }
          ],
          "heatmap": [
           {
            "colorbar": {
             "outlinewidth": 0,
             "ticks": ""
            },
            "colorscale": [
             [
              0,
              "#0d0887"
             ],
             [
              0.1111111111111111,
              "#46039f"
             ],
             [
              0.2222222222222222,
              "#7201a8"
             ],
             [
              0.3333333333333333,
              "#9c179e"
             ],
             [
              0.4444444444444444,
              "#bd3786"
             ],
             [
              0.5555555555555556,
              "#d8576b"
             ],
             [
              0.6666666666666666,
              "#ed7953"
             ],
             [
              0.7777777777777778,
              "#fb9f3a"
             ],
             [
              0.8888888888888888,
              "#fdca26"
             ],
             [
              1,
              "#f0f921"
             ]
            ],
            "type": "heatmap"
           }
          ],
          "histogram": [
           {
            "marker": {
             "pattern": {
              "fillmode": "overlay",
              "size": 10,
              "solidity": 0.2
             }
            },
            "type": "histogram"
           }
          ],
          "histogram2d": [
           {
            "colorbar": {
             "outlinewidth": 0,
             "ticks": ""
            },
            "colorscale": [
             [
              0,
              "#0d0887"
             ],
             [
              0.1111111111111111,
              "#46039f"
             ],
             [
              0.2222222222222222,
              "#7201a8"
             ],
             [
              0.3333333333333333,
              "#9c179e"
             ],
             [
              0.4444444444444444,
              "#bd3786"
             ],
             [
              0.5555555555555556,
              "#d8576b"
             ],
             [
              0.6666666666666666,
              "#ed7953"
             ],
             [
              0.7777777777777778,
              "#fb9f3a"
             ],
             [
              0.8888888888888888,
              "#fdca26"
             ],
             [
              1,
              "#f0f921"
             ]
            ],
            "type": "histogram2d"
           }
          ],
          "histogram2dcontour": [
           {
            "colorbar": {
             "outlinewidth": 0,
             "ticks": ""
            },
            "colorscale": [
             [
              0,
              "#0d0887"
             ],
             [
              0.1111111111111111,
              "#46039f"
             ],
             [
              0.2222222222222222,
              "#7201a8"
             ],
             [
              0.3333333333333333,
              "#9c179e"
             ],
             [
              0.4444444444444444,
              "#bd3786"
             ],
             [
              0.5555555555555556,
              "#d8576b"
             ],
             [
              0.6666666666666666,
              "#ed7953"
             ],
             [
              0.7777777777777778,
              "#fb9f3a"
             ],
             [
              0.8888888888888888,
              "#fdca26"
             ],
             [
              1,
              "#f0f921"
             ]
            ],
            "type": "histogram2dcontour"
           }
          ],
          "mesh3d": [
           {
            "colorbar": {
             "outlinewidth": 0,
             "ticks": ""
            },
            "type": "mesh3d"
           }
          ],
          "parcoords": [
           {
            "line": {
             "colorbar": {
              "outlinewidth": 0,
              "ticks": ""
             }
            },
            "type": "parcoords"
           }
          ],
          "pie": [
           {
            "automargin": true,
            "type": "pie"
           }
          ],
          "scatter": [
           {
            "fillpattern": {
             "fillmode": "overlay",
             "size": 10,
             "solidity": 0.2
            },
            "type": "scatter"
           }
          ],
          "scatter3d": [
           {
            "line": {
             "colorbar": {
              "outlinewidth": 0,
              "ticks": ""
             }
            },
            "marker": {
             "colorbar": {
              "outlinewidth": 0,
              "ticks": ""
             }
            },
            "type": "scatter3d"
           }
          ],
          "scattercarpet": [
           {
            "marker": {
             "colorbar": {
              "outlinewidth": 0,
              "ticks": ""
             }
            },
            "type": "scattercarpet"
           }
          ],
          "scattergeo": [
           {
            "marker": {
             "colorbar": {
              "outlinewidth": 0,
              "ticks": ""
             }
            },
            "type": "scattergeo"
           }
          ],
          "scattergl": [
           {
            "marker": {
             "colorbar": {
              "outlinewidth": 0,
              "ticks": ""
             }
            },
            "type": "scattergl"
           }
          ],
          "scattermap": [
           {
            "marker": {
             "colorbar": {
              "outlinewidth": 0,
              "ticks": ""
             }
            },
            "type": "scattermap"
           }
          ],
          "scattermapbox": [
           {
            "marker": {
             "colorbar": {
              "outlinewidth": 0,
              "ticks": ""
             }
            },
            "type": "scattermapbox"
           }
          ],
          "scatterpolar": [
           {
            "marker": {
             "colorbar": {
              "outlinewidth": 0,
              "ticks": ""
             }
            },
            "type": "scatterpolar"
           }
          ],
          "scatterpolargl": [
           {
            "marker": {
             "colorbar": {
              "outlinewidth": 0,
              "ticks": ""
             }
            },
            "type": "scatterpolargl"
           }
          ],
          "scatterternary": [
           {
            "marker": {
             "colorbar": {
              "outlinewidth": 0,
              "ticks": ""
             }
            },
            "type": "scatterternary"
           }
          ],
          "surface": [
           {
            "colorbar": {
             "outlinewidth": 0,
             "ticks": ""
            },
            "colorscale": [
             [
              0,
              "#0d0887"
             ],
             [
              0.1111111111111111,
              "#46039f"
             ],
             [
              0.2222222222222222,
              "#7201a8"
             ],
             [
              0.3333333333333333,
              "#9c179e"
             ],
             [
              0.4444444444444444,
              "#bd3786"
             ],
             [
              0.5555555555555556,
              "#d8576b"
             ],
             [
              0.6666666666666666,
              "#ed7953"
             ],
             [
              0.7777777777777778,
              "#fb9f3a"
             ],
             [
              0.8888888888888888,
              "#fdca26"
             ],
             [
              1,
              "#f0f921"
             ]
            ],
            "type": "surface"
           }
          ],
          "table": [
           {
            "cells": {
             "fill": {
              "color": "#EBF0F8"
             },
             "line": {
              "color": "white"
             }
            },
            "header": {
             "fill": {
              "color": "#C8D4E3"
             },
             "line": {
              "color": "white"
             }
            },
            "type": "table"
           }
          ]
         },
         "layout": {
          "annotationdefaults": {
           "arrowcolor": "#2a3f5f",
           "arrowhead": 0,
           "arrowwidth": 1
          },
          "autotypenumbers": "strict",
          "coloraxis": {
           "colorbar": {
            "outlinewidth": 0,
            "ticks": ""
           }
          },
          "colorscale": {
           "diverging": [
            [
             0,
             "#8e0152"
            ],
            [
             0.1,
             "#c51b7d"
            ],
            [
             0.2,
             "#de77ae"
            ],
            [
             0.3,
             "#f1b6da"
            ],
            [
             0.4,
             "#fde0ef"
            ],
            [
             0.5,
             "#f7f7f7"
            ],
            [
             0.6,
             "#e6f5d0"
            ],
            [
             0.7,
             "#b8e186"
            ],
            [
             0.8,
             "#7fbc41"
            ],
            [
             0.9,
             "#4d9221"
            ],
            [
             1,
             "#276419"
            ]
           ],
           "sequential": [
            [
             0,
             "#0d0887"
            ],
            [
             0.1111111111111111,
             "#46039f"
            ],
            [
             0.2222222222222222,
             "#7201a8"
            ],
            [
             0.3333333333333333,
             "#9c179e"
            ],
            [
             0.4444444444444444,
             "#bd3786"
            ],
            [
             0.5555555555555556,
             "#d8576b"
            ],
            [
             0.6666666666666666,
             "#ed7953"
            ],
            [
             0.7777777777777778,
             "#fb9f3a"
            ],
            [
             0.8888888888888888,
             "#fdca26"
            ],
            [
             1,
             "#f0f921"
            ]
           ],
           "sequentialminus": [
            [
             0,
             "#0d0887"
            ],
            [
             0.1111111111111111,
             "#46039f"
            ],
            [
             0.2222222222222222,
             "#7201a8"
            ],
            [
             0.3333333333333333,
             "#9c179e"
            ],
            [
             0.4444444444444444,
             "#bd3786"
            ],
            [
             0.5555555555555556,
             "#d8576b"
            ],
            [
             0.6666666666666666,
             "#ed7953"
            ],
            [
             0.7777777777777778,
             "#fb9f3a"
            ],
            [
             0.8888888888888888,
             "#fdca26"
            ],
            [
             1,
             "#f0f921"
            ]
           ]
          },
          "colorway": [
           "#636efa",
           "#EF553B",
           "#00cc96",
           "#ab63fa",
           "#FFA15A",
           "#19d3f3",
           "#FF6692",
           "#B6E880",
           "#FF97FF",
           "#FECB52"
          ],
          "font": {
           "color": "#2a3f5f"
          },
          "geo": {
           "bgcolor": "white",
           "lakecolor": "white",
           "landcolor": "#E5ECF6",
           "showlakes": true,
           "showland": true,
           "subunitcolor": "white"
          },
          "hoverlabel": {
           "align": "left"
          },
          "hovermode": "closest",
          "mapbox": {
           "style": "light"
          },
          "paper_bgcolor": "white",
          "plot_bgcolor": "#E5ECF6",
          "polar": {
           "angularaxis": {
            "gridcolor": "white",
            "linecolor": "white",
            "ticks": ""
           },
           "bgcolor": "#E5ECF6",
           "radialaxis": {
            "gridcolor": "white",
            "linecolor": "white",
            "ticks": ""
           }
          },
          "scene": {
           "xaxis": {
            "backgroundcolor": "#E5ECF6",
            "gridcolor": "white",
            "gridwidth": 2,
            "linecolor": "white",
            "showbackground": true,
            "ticks": "",
            "zerolinecolor": "white"
           },
           "yaxis": {
            "backgroundcolor": "#E5ECF6",
            "gridcolor": "white",
            "gridwidth": 2,
            "linecolor": "white",
            "showbackground": true,
            "ticks": "",
            "zerolinecolor": "white"
           },
           "zaxis": {
            "backgroundcolor": "#E5ECF6",
            "gridcolor": "white",
            "gridwidth": 2,
            "linecolor": "white",
            "showbackground": true,
            "ticks": "",
            "zerolinecolor": "white"
           }
          },
          "shapedefaults": {
           "line": {
            "color": "#2a3f5f"
           }
          },
          "ternary": {
           "aaxis": {
            "gridcolor": "white",
            "linecolor": "white",
            "ticks": ""
           },
           "baxis": {
            "gridcolor": "white",
            "linecolor": "white",
            "ticks": ""
           },
           "bgcolor": "#E5ECF6",
           "caxis": {
            "gridcolor": "white",
            "linecolor": "white",
            "ticks": ""
           }
          },
          "title": {
           "x": 0.05
          },
          "xaxis": {
           "automargin": true,
           "gridcolor": "white",
           "linecolor": "white",
           "ticks": "",
           "title": {
            "standoff": 15
           },
           "zerolinecolor": "white",
           "zerolinewidth": 2
          },
          "yaxis": {
           "automargin": true,
           "gridcolor": "white",
           "linecolor": "white",
           "ticks": "",
           "title": {
            "standoff": 15
           },
           "zerolinecolor": "white",
           "zerolinewidth": 2
          }
         }
        },
        "title": {
         "text": "Number of Airbnb Listings by Albany Neighbourhood"
        },
        "xaxis": {
         "anchor": "y",
         "domain": [
          0,
          1
         ],
         "title": {
          "text": "neighbourhood_group"
         }
        },
        "yaxis": {
         "anchor": "x",
         "domain": [
          0,
          1
         ],
         "title": {
          "text": "index"
         }
        }
       }
      },
      "image/png": "[encoded data removed]"
     },
     "metadata": {},
     "output_type": "display_data"
    }
   ],
   "source": [
    "fig = px.bar(df,\n",
    "             x='neighbourhood',\n",
    "             title=\"Number of Airbnb Listings by Albany Neighbourhood\",\n",
    "             labels={'neighbourhood': 'Neighbourhood', 'count': 'Number of Listings'})\n",
    "fig.show()"
   ]
  },
  {
   "cell_type": "code",
   "execution_count": 3,
   "id": "a0b4cf80-b85c-4a9f-ac2b-bc43147b7ae5",
   "metadata": {},
   "outputs": [
    {
     "name": "stdout",
     "output_type": "stream",
     "text": [
      "room_type\n",
      "Entire home/apt    326\n",
      "Private room       121\n",
      "Name: count, dtype: int64\n"
     ]
    },
    {
     "data": {
      "application/vnd.plotly.v1+json": {
       "config": {
        "plotlyServerURL": "https://plot.ly"
       },
       "data": [
        {
         "domain": {
          "x": [
           0,
           1
          ],
          "y": [
           0,
           1
          ]
         },
         "hovertemplate": "room_type=%{label}<br>value=%{value}<extra></extra>",
         "labels": [
          "Entire home/apt",
          "Private room"
         ],
         "legendgroup": "",
         "name": "",
         "showlegend": true,
         "type": "pie",
         "values": {
          "bdata": "RgF5AA==",
          "dtype": "i2"
         }
        }
       ],
       "layout": {
        "legend": {
         "tracegroupgap": 0
        },
        "template": {
         "data": {
          "bar": [
           {
            "error_x": {
             "color": "#2a3f5f"
            },
            "error_y": {
             "color": "#2a3f5f"
            },
            "marker": {
             "line": {
              "color": "#E5ECF6",
              "width": 0.5
             },
             "pattern": {
              "fillmode": "overlay",
              "size": 10,
              "solidity": 0.2
             }
            },
            "type": "bar"
           }
          ],
          "barpolar": [
           {
            "marker": {
             "line": {
              "color": "#E5ECF6",
              "width": 0.5
             },
             "pattern": {
              "fillmode": "overlay",
              "size": 10,
              "solidity": 0.2
             }
            },
            "type": "barpolar"
           }
          ],
          "carpet": [
           {
            "aaxis": {
             "endlinecolor": "#2a3f5f",
             "gridcolor": "white",
             "linecolor": "white",
             "minorgridcolor": "white",
             "startlinecolor": "#2a3f5f"
            },
            "baxis": {
             "endlinecolor": "#2a3f5f",
             "gridcolor": "white",
             "linecolor": "white",
             "minorgridcolor": "white",
             "startlinecolor": "#2a3f5f"
            },
            "type": "carpet"
           }
          ],
          "choropleth": [
           {
            "colorbar": {
             "outlinewidth": 0,
             "ticks": ""
            },
            "type": "choropleth"
           }
          ],
          "contour": [
           {
            "colorbar": {
             "outlinewidth": 0,
             "ticks": ""
            },
            "colorscale": [
             [
              0,
              "#0d0887"
             ],
             [
              0.1111111111111111,
              "#46039f"
             ],
             [
              0.2222222222222222,
              "#7201a8"
             ],
             [
              0.3333333333333333,
              "#9c179e"
             ],
             [
              0.4444444444444444,
              "#bd3786"
             ],
             [
              0.5555555555555556,
              "#d8576b"
             ],
             [
              0.6666666666666666,
              "#ed7953"
             ],
             [
              0.7777777777777778,
              "#fb9f3a"
             ],
             [
              0.8888888888888888,
              "#fdca26"
             ],
             [
              1,
              "#f0f921"
             ]
            ],
            "type": "contour"
           }
          ],
          "contourcarpet": [
           {
            "colorbar": {
             "outlinewidth": 0,
             "ticks": ""
            },
            "type": "contourcarpet"
           }
          ],
          "heatmap": [
           {
            "colorbar": {
             "outlinewidth": 0,
             "ticks": ""
            },
            "colorscale": [
             [
              0,
              "#0d0887"
             ],
             [
              0.1111111111111111,
              "#46039f"
             ],
             [
              0.2222222222222222,
              "#7201a8"
             ],
             [
              0.3333333333333333,
              "#9c179e"
             ],
             [
              0.4444444444444444,
              "#bd3786"
             ],
             [
              0.5555555555555556,
              "#d8576b"
             ],
             [
              0.6666666666666666,
              "#ed7953"
             ],
             [
              0.7777777777777778,
              "#fb9f3a"
             ],
             [
              0.8888888888888888,
              "#fdca26"
             ],
             [
              1,
              "#f0f921"
             ]
            ],
            "type": "heatmap"
           }
          ],
          "histogram": [
           {
            "marker": {
             "pattern": {
              "fillmode": "overlay",
              "size": 10,
              "solidity": 0.2
             }
            },
            "type": "histogram"
           }
          ],
          "histogram2d": [
           {
            "colorbar": {
             "outlinewidth": 0,
             "ticks": ""
            },
            "colorscale": [
             [
              0,
              "#0d0887"
             ],
             [
              0.1111111111111111,
              "#46039f"
             ],
             [
              0.2222222222222222,
              "#7201a8"
             ],
             [
              0.3333333333333333,
              "#9c179e"
             ],
             [
              0.4444444444444444,
              "#bd3786"
             ],
             [
              0.5555555555555556,
              "#d8576b"
             ],
             [
              0.6666666666666666,
              "#ed7953"
             ],
             [
              0.7777777777777778,
              "#fb9f3a"
             ],
             [
              0.8888888888888888,
              "#fdca26"
             ],
             [
              1,
              "#f0f921"
             ]
            ],
            "type": "histogram2d"
           }
          ],
          "histogram2dcontour": [
           {
            "colorbar": {
             "outlinewidth": 0,
             "ticks": ""
            },
            "colorscale": [
             [
              0,
              "#0d0887"
             ],
             [
              0.1111111111111111,
              "#46039f"
             ],
             [
              0.2222222222222222,
              "#7201a8"
             ],
             [
              0.3333333333333333,
              "#9c179e"
             ],
             [
              0.4444444444444444,
              "#bd3786"
             ],
             [
              0.5555555555555556,
              "#d8576b"
             ],
             [
              0.6666666666666666,
              "#ed7953"
             ],
             [
              0.7777777777777778,
              "#fb9f3a"
             ],
             [
              0.8888888888888888,
              "#fdca26"
             ],
             [
              1,
              "#f0f921"
             ]
            ],
            "type": "histogram2dcontour"
           }
          ],
          "mesh3d": [
           {
            "colorbar": {
             "outlinewidth": 0,
             "ticks": ""
            },
            "type": "mesh3d"
           }
          ],
          "parcoords": [
           {
            "line": {
             "colorbar": {
              "outlinewidth": 0,
              "ticks": ""
             }
            },
            "type": "parcoords"
           }
          ],
          "pie": [
           {
            "automargin": true,
            "type": "pie"
           }
          ],
          "scatter": [
           {
            "fillpattern": {
             "fillmode": "overlay",
             "size": 10,
             "solidity": 0.2
            },
            "type": "scatter"
           }
          ],
          "scatter3d": [
           {
            "line": {
             "colorbar": {
              "outlinewidth": 0,
              "ticks": ""
             }
            },
            "marker": {
             "colorbar": {
              "outlinewidth": 0,
              "ticks": ""
             }
            },
            "type": "scatter3d"
           }
          ],
          "scattercarpet": [
           {
            "marker": {
             "colorbar": {
              "outlinewidth": 0,
              "ticks": ""
             }
            },
            "type": "scattercarpet"
           }
          ],
          "scattergeo": [
           {
            "marker": {
             "colorbar": {
              "outlinewidth": 0,
              "ticks": ""
             }
            },
            "type": "scattergeo"
           }
          ],
          "scattergl": [
           {
            "marker": {
             "colorbar": {
              "outlinewidth": 0,
              "ticks": ""
             }
            },
            "type": "scattergl"
           }
          ],
          "scattermap": [
           {
            "marker": {
             "colorbar": {
              "outlinewidth": 0,
              "ticks": ""
             }
            },
            "type": "scattermap"
           }
          ],
          "scattermapbox": [
           {
            "marker": {
             "colorbar": {
              "outlinewidth": 0,
              "ticks": ""
             }
            },
            "type": "scattermapbox"
           }
          ],
          "scatterpolar": [
           {
            "marker": {
             "colorbar": {
              "outlinewidth": 0,
              "ticks": ""
             }
            },
            "type": "scatterpolar"
           }
          ],
          "scatterpolargl": [
           {
            "marker": {
             "colorbar": {
              "outlinewidth": 0,
              "ticks": ""
             }
            },
            "type": "scatterpolargl"
           }
          ],
          "scatterternary": [
           {
            "marker": {
             "colorbar": {
              "outlinewidth": 0,
              "ticks": ""
             }
            },
            "type": "scatterternary"
           }
          ],
          "surface": [
           {
            "colorbar": {
             "outlinewidth": 0,
             "ticks": ""
            },
            "colorscale": [
             [
              0,
              "#0d0887"
             ],
             [
              0.1111111111111111,
              "#46039f"
             ],
             [
              0.2222222222222222,
              "#7201a8"
             ],
             [
              0.3333333333333333,
              "#9c179e"
             ],
             [
              0.4444444444444444,
              "#bd3786"
             ],
             [
              0.5555555555555556,
              "#d8576b"
             ],
             [
              0.6666666666666666,
              "#ed7953"
             ],
             [
              0.7777777777777778,
              "#fb9f3a"
             ],
             [
              0.8888888888888888,
              "#fdca26"
             ],
             [
              1,
              "#f0f921"
             ]
            ],
            "type": "surface"
           }
          ],
          "table": [
           {
            "cells": {
             "fill": {
              "color": "#EBF0F8"
             },
             "line": {
              "color": "white"
             }
            },
            "header": {
             "fill": {
              "color": "#C8D4E3"
             },
             "line": {
              "color": "white"
             }
            },
            "type": "table"
           }
          ]
         },
         "layout": {
          "annotationdefaults": {
           "arrowcolor": "#2a3f5f",
           "arrowhead": 0,
           "arrowwidth": 1
          },
          "autotypenumbers": "strict",
          "coloraxis": {
           "colorbar": {
            "outlinewidth": 0,
            "ticks": ""
           }
          },
          "colorscale": {
           "diverging": [
            [
             0,
             "#8e0152"
            ],
            [
             0.1,
             "#c51b7d"
            ],
            [
             0.2,
             "#de77ae"
            ],
            [
             0.3,
             "#f1b6da"
            ],
            [
             0.4,
             "#fde0ef"
            ],
            [
             0.5,
             "#f7f7f7"
            ],
            [
             0.6,
             "#e6f5d0"
            ],
            [
             0.7,
             "#b8e186"
            ],
            [
             0.8,
             "#7fbc41"
            ],
            [
             0.9,
             "#4d9221"
            ],
            [
             1,
             "#276419"
            ]
           ],
           "sequential": [
            [
             0,
             "#0d0887"
            ],
            [
             0.1111111111111111,
             "#46039f"
            ],
            [
             0.2222222222222222,
             "#7201a8"
            ],
            [
             0.3333333333333333,
             "#9c179e"
            ],
            [
             0.4444444444444444,
             "#bd3786"
            ],
            [
             0.5555555555555556,
             "#d8576b"
            ],
            [
             0.6666666666666666,
             "#ed7953"
            ],
            [
             0.7777777777777778,
             "#fb9f3a"
            ],
            [
             0.8888888888888888,
             "#fdca26"
            ],
            [
             1,
             "#f0f921"
            ]
           ],
           "sequentialminus": [
            [
             0,
             "#0d0887"
            ],
            [
             0.1111111111111111,
             "#46039f"
            ],
            [
             0.2222222222222222,
             "#7201a8"
            ],
            [
             0.3333333333333333,
             "#9c179e"
            ],
            [
             0.4444444444444444,
             "#bd3786"
            ],
            [
             0.5555555555555556,
             "#d8576b"
            ],
            [
             0.6666666666666666,
             "#ed7953"
            ],
            [
             0.7777777777777778,
             "#fb9f3a"
            ],
            [
             0.8888888888888888,
             "#fdca26"
            ],
            [
             1,
             "#f0f921"
            ]
           ]
          },
          "colorway": [
           "#636efa",
           "#EF553B",
           "#00cc96",
           "#ab63fa",
           "#FFA15A",
           "#19d3f3",
           "#FF6692",
           "#B6E880",
           "#FF97FF",
           "#FECB52"
          ],
          "font": {
           "color": "#2a3f5f"
          },
          "geo": {
           "bgcolor": "white",
           "lakecolor": "white",
           "landcolor": "#E5ECF6",
           "showlakes": true,
           "showland": true,
           "subunitcolor": "white"
          },
          "hoverlabel": {
           "align": "left"
          },
          "hovermode": "closest",
          "mapbox": {
           "style": "light"
          },
          "paper_bgcolor": "white",
          "plot_bgcolor": "#E5ECF6",
          "polar": {
           "angularaxis": {
            "gridcolor": "white",
            "linecolor": "white",
            "ticks": ""
           },
           "bgcolor": "#E5ECF6",
           "radialaxis": {
            "gridcolor": "white",
            "linecolor": "white",
            "ticks": ""
           }
          },
          "scene": {
           "xaxis": {
            "backgroundcolor": "#E5ECF6",
            "gridcolor": "white",
            "gridwidth": 2,
            "linecolor": "white",
            "showbackground": true,
            "ticks": "",
            "zerolinecolor": "white"
           },
           "yaxis": {
            "backgroundcolor": "#E5ECF6",
            "gridcolor": "white",
            "gridwidth": 2,
            "linecolor": "white",
            "showbackground": true,
            "ticks": "",
            "zerolinecolor": "white"
           },
           "zaxis": {
            "backgroundcolor": "#E5ECF6",
            "gridcolor": "white",
            "gridwidth": 2,
            "linecolor": "white",
            "showbackground": true,
            "ticks": "",
            "zerolinecolor": "white"
           }
          },
          "shapedefaults": {
           "line": {
            "color": "#2a3f5f"
           }
          },
          "ternary": {
           "aaxis": {
            "gridcolor": "white",
            "linecolor": "white",
            "ticks": ""
           },
           "baxis": {
            "gridcolor": "white",
            "linecolor": "white",
            "ticks": ""
           },
           "bgcolor": "#E5ECF6",
           "caxis": {
            "gridcolor": "white",
            "linecolor": "white",
            "ticks": ""
           }
          },
          "title": {
           "x": 0.05
          },
          "xaxis": {
           "automargin": true,
           "gridcolor": "white",
           "linecolor": "white",
           "ticks": "",
           "title": {
            "standoff": 15
           },
           "zerolinecolor": "white",
           "zerolinewidth": 2
          },
          "yaxis": {
           "automargin": true,
           "gridcolor": "white",
           "linecolor": "white",
           "ticks": "",
           "title": {
            "standoff": 15
           },
           "zerolinecolor": "white",
           "zerolinewidth": 2
          }
         }
        },
        "title": {
         "text": "Proportion of Airbnb Room Type in NYC"
        }
       }
      },
      "image/png": "[encoded data removed]"
     },
     "metadata": {},
     "output_type": "display_data"
    }
   ],
   "source": [
    "room_type_counts = df['room_type'].value_counts()\n",
    "print(room_type_counts)\n",
    "\n",
    "fig = px.pie(room_type_counts,\n",
    "             names=room_type_counts.index,\n",
    "             values=room_type_counts.values,\n",
    "             title=\"Proportion of Airbnb Room Type in Albany\")\n",
    "fig.show()"
   ]
  },
  {
   "cell_type": "code",
   "execution_count": 4,
   "id": "ada22fb4-96e4-4e78-a1c9-d4dd6400abaf",
   "metadata": {},
   "outputs": [
    {
     "data": {
      "application/vnd.plotly.v1+json": {
       "config": {
        "plotlyServerURL": "https://plot.ly"
       },
       "data": [
        {
         "alignmentgroup": "True",
         "hovertemplate": "Borough=%{x}<br>Price (USD)=%{y}<extra></extra>",
         "legendgroup": "",
         "marker": {
          "color": "#636efa"
         },
         "name": "",
         "notched": false,
         "offsetgroup": "",
         "orientation": "v",
         "showlegend": false,
         "type": "box",
         "x": {
          "bdata": "AAAAAAAA+H8AAAAAAAD4fwAAAAAAAPh/AAAAAAAA+H8AAAAAAAD4fwAAAAAAAPh/AAAAAAAA+H8AAAAAAAD4fwAAAAAAAPh/AAAAAAAA+H8AAAAAAAD4fwAAAAAAAPh/AAAAAAAA+H8AAAAAAAD4fwAAAAAAAPh/AAAAAAAA+H8AAAAAAAD4fwAAAAAAAPh/AAAAAAAA+H8AAAAAAAD4fwAAAAAAAPh/AAAAAAAA+H8AAAAAAAD4fwAAAAAAAPh/AAAAAAAA+H8AAAAAAAD4fwAAAAAAAPh/AAAAAAAA+H8AAAAAAAD4fwAAAAAAAPh/AAAAAAAA+H8AAAAAAAD4fwAAAAAAAPh/AAAAAAAA+H8AAAAAAAD4fwAAAAAAAPh/AAAAAAAA+H8AAAAAAAD4fwAAAAAAAPh/AAAAAAAA+H8AAAAAAAD4fwAAAAAAAPh/AAAAAAAA+H8AAAAAAAD4fwAAAAAAAPh/AAAAAAAA+H8AAAAAAAD4fwAAAAAAAPh/AAAAAAAA+H8AAAAAAAD4fwAAAAAAAPh/AAAAAAAA+H8AAAAAAAD4fwAAAAAAAPh/AAAAAAAA+H8AAAAAAAD4fwAAAAAAAPh/AAAAAAAA+H8AAAAAAAD4fwAAAAAAAPh/AAAAAAAA+H8AAAAAAAD4fwAAAAAAAPh/AAAAAAAA+H8AAAAAAAD4fwAAAAAAAPh/AAAAAAAA+H8AAAAAAAD4fwAAAAAAAPh/AAAAAAAA+H8AAAAAAAD4fwAAAAAAAPh/AAAAAAAA+H8AAAAAAAD4fwAAAAAAAPh/AAAAAAAA+H8AAAAAAAD4fwAAAAAAAPh/AAAAAAAA+H8AAAAAAAD4fwAAAAAAAPh/AAAAAAAA+H8AAAAAAAD4fwAAAAAAAPh/AAAAAAAA+H8AAAAAAAD4fwAAAAAAAPh/AAAAAAAA+H8AAAAAAAD4fwAAAAAAAPh/AAAAAAAA+H8AAAAAAAD4fwAAAAAAAPh/AAAAAAAA+H8AAAAAAAD4fwAAAAAAAPh/AAAAAAAA+H8AAAAAAAD4fwAAAAAAAPh/AAAAAAAA+H8AAAAAAAD4fwAAAAAAAPh/AAAAAAAA+H8AAAAAAAD4fwAAAAAAAPh/AAAAAAAA+H8AAAAAAAD4fwAAAAAAAPh/AAAAAAAA+H8AAAAAAAD4fwAAAAAAAPh/AAAAAAAA+H8AAAAAAAD4fwAAAAAAAPh/AAAAAAAA+H8AAAAAAAD4fwAAAAAAAPh/AAAAAAAA+H8AAAAAAAD4fwAAAAAAAPh/AAAAAAAA+H8AAAAAAAD4fwAAAAAAAPh/AAAAAAAA+H8AAAAAAAD4fwAAAAAAAPh/AAAAAAAA+H8AAAAAAAD4fwAAAAAAAPh/AAAAAAAA+H8AAAAAAAD4fwAAAAAAAPh/AAAAAAAA+H8AAAAAAAD4fwAAAAAAAPh/AAAAAAAA+H8AAAAAAAD4fwAAAAAAAPh/AAAAAAAA+H8AAAAAAAD4fwAAAAAAAPh/AAAAAAAA+H8AAAAAAAD4fwAAAAAAAPh/AAAAAAAA+H8AAAAAAAD4fwAAAAAAAPh/AAAAAAAA+H8AAAAAAAD4fwAAAAAAAPh/AAAAAAAA+H8AAAAAAAD4fwAAAAAAAPh/AAAAAAAA+H8AAAAAAAD4fwAAAAAAAPh/AAAAAAAA+H8AAAAAAAD4fwAAAAAAAPh/AAAAAAAA+H8AAAAAAAD4fwAAAAAAAPh/AAAAAAAA+H8AAAAAAAD4fwAAAAAAAPh/AAAAAAAA+H8AAAAAAAD4fwAAAAAAAPh/AAAAAAAA+H8AAAAAAAD4fwAAAAAAAPh/AAAAAAAA+H8AAAAAAAD4fwAAAAAAAPh/AAAAAAAA+H8AAAAAAAD4fwAAAAAAAPh/AAAAAAAA+H8AAAAAAAD4fwAAAAAAAPh/AAAAAAAA+H8AAAAAAAD4fwAAAAAAAPh/AAAAAAAA+H8AAAAAAAD4fwAAAAAAAPh/AAAAAAAA+H8AAAAAAAD4fwAAAAAAAPh/AAAAAAAA+H8AAAAAAAD4fwAAAAAAAPh/AAAAAAAA+H8AAAAAAAD4fwAAAAAAAPh/AAAAAAAA+H8AAAAAAAD4fwAAAAAAAPh/AAAAAAAA+H8AAAAAAAD4fwAAAAAAAPh/AAAAAAAA+H8AAAAAAAD4fwAAAAAAAPh/AAAAAAAA+H8AAAAAAAD4fwAAAAAAAPh/AAAAAAAA+H8AAAAAAAD4fwAAAAAAAPh/AAAAAAAA+H8AAAAAAAD4fwAAAAAAAPh/AAAAAAAA+H8AAAAAAAD4fwAAAAAAAPh/AAAAAAAA+H8AAAAAAAD4fwAAAAAAAPh/AAAAAAAA+H8AAAAAAAD4fwAAAAAAAPh/AAAAAAAA+H8AAAAAAAD4fwAAAAAAAPh/AAAAAAAA+H8AAAAAAAD4fwAAAAAAAPh/AAAAAAAA+H8AAAAAAAD4fwAAAAAAAPh/AAAAAAAA+H8AAAAAAAD4fwAAAAAAAPh/AAAAAAAA+H8AAAAAAAD4fwAAAAAAAPh/AAAAAAAA+H8AAAAAAAD4fwAAAAAAAPh/AAAAAAAA+H8AAAAAAAD4fwAAAAAAAPh/AAAAAAAA+H8AAAAAAAD4fwAAAAAAAPh/AAAAAAAA+H8AAAAAAAD4fwAAAAAAAPh/AAAAAAAA+H8AAAAAAAD4fwAAAAAAAPh/AAAAAAAA+H8AAAAAAAD4fwAAAAAAAPh/AAAAAAAA+H8AAAAAAAD4fwAAAAAAAPh/AAAAAAAA+H8AAAAAAAD4fwAAAAAAAPh/AAAAAAAA+H8AAAAAAAD4fwAAAAAAAPh/AAAAAAAA+H8AAAAAAAD4fwAAAAAAAPh/AAAAAAAA+H8AAAAAAAD4fwAAAAAAAPh/AAAAAAAA+H8AAAAAAAD4fwAAAAAAAPh/AAAAAAAA+H8AAAAAAAD4fwAAAAAAAPh/AAAAAAAA+H8AAAAAAAD4fwAAAAAAAPh/AAAAAAAA+H8AAAAAAAD4fwAAAAAAAPh/AAAAAAAA+H8AAAAAAAD4fwAAAAAAAPh/AAAAAAAA+H8AAAAAAAD4fwAAAAAAAPh/AAAAAAAA+H8AAAAAAAD4fwAAAAAAAPh/AAAAAAAA+H8AAAAAAAD4fwAAAAAAAPh/AAAAAAAA+H8AAAAAAAD4fwAAAAAAAPh/AAAAAAAA+H8AAAAAAAD4fwAAAAAAAPh/AAAAAAAA+H8AAAAAAAD4fwAAAAAAAPh/AAAAAAAA+H8AAAAAAAD4fwAAAAAAAPh/AAAAAAAA+H8AAAAAAAD4fwAAAAAAAPh/AAAAAAAA+H8AAAAAAAD4fwAAAAAAAPh/AAAAAAAA+H8AAAAAAAD4fwAAAAAAAPh/AAAAAAAA+H8AAAAAAAD4fwAAAAAAAPh/AAAAAAAA+H8AAAAAAAD4fwAAAAAAAPh/AAAAAAAA+H8AAAAAAAD4fwAAAAAAAPh/AAAAAAAA+H8AAAAAAAD4fwAAAAAAAPh/AAAAAAAA+H8AAAAAAAD4fwAAAAAAAPh/AAAAAAAA+H8AAAAAAAD4fwAAAAAAAPh/AAAAAAAA+H8AAAAAAAD4fwAAAAAAAPh/AAAAAAAA+H8AAAAAAAD4fwAAAAAAAPh/AAAAAAAA+H8AAAAAAAD4fwAAAAAAAPh/AAAAAAAA+H8AAAAAAAD4fwAAAAAAAPh/AAAAAAAA+H8AAAAAAAD4fwAAAAAAAPh/AAAAAAAA+H8AAAAAAAD4fwAAAAAAAPh/AAAAAAAA+H8AAAAAAAD4fwAAAAAAAPh/AAAAAAAA+H8AAAAAAAD4fwAAAAAAAPh/AAAAAAAA+H8AAAAAAAD4fwAAAAAAAPh/AAAAAAAA+H8AAAAAAAD4fwAAAAAAAPh/AAAAAAAA+H8AAAAAAAD4fwAAAAAAAPh/AAAAAAAA+H8AAAAAAAD4fwAAAAAAAPh/AAAAAAAA+H8AAAAAAAD4fwAAAAAAAPh/AAAAAAAA+H8AAAAAAAD4fwAAAAAAAPh/AAAAAAAA+H8AAAAAAAD4fwAAAAAAAPh/AAAAAAAA+H8AAAAAAAD4fwAAAAAAAPh/AAAAAAAA+H8AAAAAAAD4fwAAAAAAAPh/AAAAAAAA+H8AAAAAAAD4fwAAAAAAAPh/AAAAAAAA+H8AAAAAAAD4fwAAAAAAAPh/AAAAAAAA+H8AAAAAAAD4fwAAAAAAAPh/AAAAAAAA+H8AAAAAAAD4fwAAAAAAAPh/AAAAAAAA+H8AAAAAAAD4fwAAAAAAAPh/AAAAAAAA+H8AAAAAAAD4fwAAAAAAAPh/AAAAAAAA+H8AAAAAAAD4fwAAAAAAAPh/AAAAAAAA+H8AAAAAAAD4fwAAAAAAAPh/AAAAAAAA+H8=",
          "dtype": "f8"
         },
         "x0": " ",
         "xaxis": "x",
         "y": {
          "bdata": "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",
          "dtype": "f8"
         },
         "y0": " ",
         "yaxis": "y"
        }
       ],
       "layout": {
        "boxmode": "group",
        "legend": {
         "tracegroupgap": 0
        },
        "template": {
         "data": {
          "bar": [
           {
            "error_x": {
             "color": "#2a3f5f"
            },
            "error_y": {
             "color": "#2a3f5f"
            },
            "marker": {
             "line": {
              "color": "#E5ECF6",
              "width": 0.5
             },
             "pattern": {
              "fillmode": "overlay",
              "size": 10,
              "solidity": 0.2
             }
            },
            "type": "bar"
           }
          ],
          "barpolar": [
           {
            "marker": {
             "line": {
              "color": "#E5ECF6",
              "width": 0.5
             },
             "pattern": {
              "fillmode": "overlay",
              "size": 10,
              "solidity": 0.2
             }
            },
            "type": "barpolar"
           }
          ],
          "carpet": [
           {
            "aaxis": {
             "endlinecolor": "#2a3f5f",
             "gridcolor": "white",
             "linecolor": "white",
             "minorgridcolor": "white",
             "startlinecolor": "#2a3f5f"
            },
            "baxis": {
             "endlinecolor": "#2a3f5f",
             "gridcolor": "white",
             "linecolor": "white",
             "minorgridcolor": "white",
             "startlinecolor": "#2a3f5f"
            },
            "type": "carpet"
           }
          ],
          "choropleth": [
           {
            "colorbar": {
             "outlinewidth": 0,
             "ticks": ""
            },
            "type": "choropleth"
           }
          ],
          "contour": [
           {
            "colorbar": {
             "outlinewidth": 0,
             "ticks": ""
            },
            "colorscale": [
             [
              0,
              "#0d0887"
             ],
             [
              0.1111111111111111,
              "#46039f"
             ],
             [
              0.2222222222222222,
              "#7201a8"
             ],
             [
              0.3333333333333333,
              "#9c179e"
             ],
             [
              0.4444444444444444,
              "#bd3786"
             ],
             [
              0.5555555555555556,
              "#d8576b"
             ],
             [
              0.6666666666666666,
              "#ed7953"
             ],
             [
              0.7777777777777778,
              "#fb9f3a"
             ],
             [
              0.8888888888888888,
              "#fdca26"
             ],
             [
              1,
              "#f0f921"
             ]
            ],
            "type": "contour"
           }
          ],
          "contourcarpet": [
           {
            "colorbar": {
             "outlinewidth": 0,
             "ticks": ""
            },
            "type": "contourcarpet"
           }
          ],
          "heatmap": [
           {
            "colorbar": {
             "outlinewidth": 0,
             "ticks": ""
            },
            "colorscale": [
             [
              0,
              "#0d0887"
             ],
             [
              0.1111111111111111,
              "#46039f"
             ],
             [
              0.2222222222222222,
              "#7201a8"
             ],
             [
              0.3333333333333333,
              "#9c179e"
             ],
             [
              0.4444444444444444,
              "#bd3786"
             ],
             [
              0.5555555555555556,
              "#d8576b"
             ],
             [
              0.6666666666666666,
              "#ed7953"
             ],
             [
              0.7777777777777778,
              "#fb9f3a"
             ],
             [
              0.8888888888888888,
              "#fdca26"
             ],
             [
              1,
              "#f0f921"
             ]
            ],
            "type": "heatmap"
           }
          ],
          "histogram": [
           {
            "marker": {
             "pattern": {
              "fillmode": "overlay",
              "size": 10,
              "solidity": 0.2
             }
            },
            "type": "histogram"
           }
          ],
          "histogram2d": [
           {
            "colorbar": {
             "outlinewidth": 0,
             "ticks": ""
            },
            "colorscale": [
             [
              0,
              "#0d0887"
             ],
             [
              0.1111111111111111,
              "#46039f"
             ],
             [
              0.2222222222222222,
              "#7201a8"
             ],
             [
              0.3333333333333333,
              "#9c179e"
             ],
             [
              0.4444444444444444,
              "#bd3786"
             ],
             [
              0.5555555555555556,
              "#d8576b"
             ],
             [
              0.6666666666666666,
              "#ed7953"
             ],
             [
              0.7777777777777778,
              "#fb9f3a"
             ],
             [
              0.8888888888888888,
              "#fdca26"
             ],
             [
              1,
              "#f0f921"
             ]
            ],
            "type": "histogram2d"
           }
          ],
          "histogram2dcontour": [
           {
            "colorbar": {
             "outlinewidth": 0,
             "ticks": ""
            },
            "colorscale": [
             [
              0,
              "#0d0887"
             ],
             [
              0.1111111111111111,
              "#46039f"
             ],
             [
              0.2222222222222222,
              "#7201a8"
             ],
             [
              0.3333333333333333,
              "#9c179e"
             ],
             [
              0.4444444444444444,
              "#bd3786"
             ],
             [
              0.5555555555555556,
              "#d8576b"
             ],
             [
              0.6666666666666666,
              "#ed7953"
             ],
             [
              0.7777777777777778,
              "#fb9f3a"
             ],
             [
              0.8888888888888888,
              "#fdca26"
             ],
             [
              1,
              "#f0f921"
             ]
            ],
            "type": "histogram2dcontour"
           }
          ],
          "mesh3d": [
           {
            "colorbar": {
             "outlinewidth": 0,
             "ticks": ""
            },
            "type": "mesh3d"
           }
          ],
          "parcoords": [
           {
            "line": {
             "colorbar": {
              "outlinewidth": 0,
              "ticks": ""
             }
            },
            "type": "parcoords"
           }
          ],
          "pie": [
           {
            "automargin": true,
            "type": "pie"
           }
          ],
          "scatter": [
           {
            "fillpattern": {
             "fillmode": "overlay",
             "size": 10,
             "solidity": 0.2
            },
            "type": "scatter"
           }
          ],
          "scatter3d": [
           {
            "line": {
             "colorbar": {
              "outlinewidth": 0,
              "ticks": ""
             }
            },
            "marker": {
             "colorbar": {
              "outlinewidth": 0,
              "ticks": ""
             }
            },
            "type": "scatter3d"
           }
          ],
          "scattercarpet": [
           {
            "marker": {
             "colorbar": {
              "outlinewidth": 0,
              "ticks": ""
             }
            },
            "type": "scattercarpet"
           }
          ],
          "scattergeo": [
           {
            "marker": {
             "colorbar": {
              "outlinewidth": 0,
              "ticks": ""
             }
            },
            "type": "scattergeo"
           }
          ],
          "scattergl": [
           {
            "marker": {
             "colorbar": {
              "outlinewidth": 0,
              "ticks": ""
             }
            },
            "type": "scattergl"
           }
          ],
          "scattermap": [
           {
            "marker": {
             "colorbar": {
              "outlinewidth": 0,
              "ticks": ""
             }
            },
            "type": "scattermap"
           }
          ],
          "scattermapbox": [
           {
            "marker": {
             "colorbar": {
              "outlinewidth": 0,
              "ticks": ""
             }
            },
            "type": "scattermapbox"
           }
          ],
          "scatterpolar": [
           {
            "marker": {
             "colorbar": {
              "outlinewidth": 0,
              "ticks": ""
             }
            },
            "type": "scatterpolar"
           }
          ],
          "scatterpolargl": [
           {
            "marker": {
             "colorbar": {
              "outlinewidth": 0,
              "ticks": ""
             }
            },
            "type": "scatterpolargl"
           }
          ],
          "scatterternary": [
           {
            "marker": {
             "colorbar": {
              "outlinewidth": 0,
              "ticks": ""
             }
            },
            "type": "scatterternary"
           }
          ],
          "surface": [
           {
            "colorbar": {
             "outlinewidth": 0,
             "ticks": ""
            },
            "colorscale": [
             [
              0,
              "#0d0887"
             ],
             [
              0.1111111111111111,
              "#46039f"
             ],
             [
              0.2222222222222222,
              "#7201a8"
             ],
             [
              0.3333333333333333,
              "#9c179e"
             ],
             [
              0.4444444444444444,
              "#bd3786"
             ],
             [
              0.5555555555555556,
              "#d8576b"
             ],
             [
              0.6666666666666666,
              "#ed7953"
             ],
             [
              0.7777777777777778,
              "#fb9f3a"
             ],
             [
              0.8888888888888888,
              "#fdca26"
             ],
             [
              1,
              "#f0f921"
             ]
            ],
            "type": "surface"
           }
          ],
          "table": [
           {
            "cells": {
             "fill": {
              "color": "#EBF0F8"
             },
             "line": {
              "color": "white"
             }
            },
            "header": {
             "fill": {
              "color": "#C8D4E3"
             },
             "line": {
              "color": "white"
             }
            },
            "type": "table"
           }
          ]
         },
         "layout": {
          "annotationdefaults": {
           "arrowcolor": "#2a3f5f",
           "arrowhead": 0,
           "arrowwidth": 1
          },
          "autotypenumbers": "strict",
          "coloraxis": {
           "colorbar": {
            "outlinewidth": 0,
            "ticks": ""
           }
          },
          "colorscale": {
           "diverging": [
            [
             0,
             "#8e0152"
            ],
            [
             0.1,
             "#c51b7d"
            ],
            [
             0.2,
             "#de77ae"
            ],
            [
             0.3,
             "#f1b6da"
            ],
            [
             0.4,
             "#fde0ef"
            ],
            [
             0.5,
             "#f7f7f7"
            ],
            [
             0.6,
             "#e6f5d0"
            ],
            [
             0.7,
             "#b8e186"
            ],
            [
             0.8,
             "#7fbc41"
            ],
            [
             0.9,
             "#4d9221"
            ],
            [
             1,
             "#276419"
            ]
           ],
           "sequential": [
            [
             0,
             "#0d0887"
            ],
            [
             0.1111111111111111,
             "#46039f"
            ],
            [
             0.2222222222222222,
             "#7201a8"
            ],
            [
             0.3333333333333333,
             "#9c179e"
            ],
            [
             0.4444444444444444,
             "#bd3786"
            ],
            [
             0.5555555555555556,
             "#d8576b"
            ],
            [
             0.6666666666666666,
             "#ed7953"
            ],
            [
             0.7777777777777778,
             "#fb9f3a"
            ],
            [
             0.8888888888888888,
             "#fdca26"
            ],
            [
             1,
             "#f0f921"
            ]
           ],
           "sequentialminus": [
            [
             0,
             "#0d0887"
            ],
            [
             0.1111111111111111,
             "#46039f"
            ],
            [
             0.2222222222222222,
             "#7201a8"
            ],
            [
             0.3333333333333333,
             "#9c179e"
            ],
            [
             0.4444444444444444,
             "#bd3786"
            ],
            [
             0.5555555555555556,
             "#d8576b"
            ],
            [
             0.6666666666666666,
             "#ed7953"
            ],
            [
             0.7777777777777778,
             "#fb9f3a"
            ],
            [
             0.8888888888888888,
             "#fdca26"
            ],
            [
             1,
             "#f0f921"
            ]
           ]
          },
          "colorway": [
           "#636efa",
           "#EF553B",
           "#00cc96",
           "#ab63fa",
           "#FFA15A",
           "#19d3f3",
           "#FF6692",
           "#B6E880",
           "#FF97FF",
           "#FECB52"
          ],
          "font": {
           "color": "#2a3f5f"
          },
          "geo": {
           "bgcolor": "white",
           "lakecolor": "white",
           "landcolor": "#E5ECF6",
           "showlakes": true,
           "showland": true,
           "subunitcolor": "white"
          },
          "hoverlabel": {
           "align": "left"
          },
          "hovermode": "closest",
          "mapbox": {
           "style": "light"
          },
          "paper_bgcolor": "white",
          "plot_bgcolor": "#E5ECF6",
          "polar": {
           "angularaxis": {
            "gridcolor": "white",
            "linecolor": "white",
            "ticks": ""
           },
           "bgcolor": "#E5ECF6",
           "radialaxis": {
            "gridcolor": "white",
            "linecolor": "white",
            "ticks": ""
           }
          },
          "scene": {
           "xaxis": {
            "backgroundcolor": "#E5ECF6",
            "gridcolor": "white",
            "gridwidth": 2,
            "linecolor": "white",
            "showbackground": true,
            "ticks": "",
            "zerolinecolor": "white"
           },
           "yaxis": {
            "backgroundcolor": "#E5ECF6",
            "gridcolor": "white",
            "gridwidth": 2,
            "linecolor": "white",
            "showbackground": true,
            "ticks": "",
            "zerolinecolor": "white"
           },
           "zaxis": {
            "backgroundcolor": "#E5ECF6",
            "gridcolor": "white",
            "gridwidth": 2,
            "linecolor": "white",
            "showbackground": true,
            "ticks": "",
            "zerolinecolor": "white"
           }
          },
          "shapedefaults": {
           "line": {
            "color": "#2a3f5f"
           }
          },
          "ternary": {
           "aaxis": {
            "gridcolor": "white",
            "linecolor": "white",
            "ticks": ""
           },
           "baxis": {
            "gridcolor": "white",
            "linecolor": "white",
            "ticks": ""
           },
           "bgcolor": "#E5ECF6",
           "caxis": {
            "gridcolor": "white",
            "linecolor": "white",
            "ticks": ""
           }
          },
          "title": {
           "x": 0.05
          },
          "xaxis": {
           "automargin": true,
           "gridcolor": "white",
           "linecolor": "white",
           "ticks": "",
           "title": {
            "standoff": 15
           },
           "zerolinecolor": "white",
           "zerolinewidth": 2
          },
          "yaxis": {
           "automargin": true,
           "gridcolor": "white",
           "linecolor": "white",
           "ticks": "",
           "title": {
            "standoff": 15
           },
           "zerolinecolor": "white",
           "zerolinewidth": 2
          }
         }
        },
        "title": {
         "text": "Airbnb Price Distribution by NYC Borough"
        },
        "xaxis": {
         "anchor": "y",
         "domain": [
          0,
          1
         ],
         "title": {
          "text": "Borough"
         }
        },
        "yaxis": {
         "anchor": "x",
         "domain": [
          0,
          1
         ],
         "title": {
          "text": "Price (USD)"
         }
        }
       }
      },
      "image/png": "[encoded data removed]"
     },
     "metadata": {},
     "output_type": "display_data"
    }
   ],
   "source": [
    "df_filtered = df[df['price'] < 500]\n",
    "\n",
    "fig = px.box(df_filtered,\n",
    "             x='neighbourhood',\n",
    "             y='price',\n",
    "             title=\"Airbnb Price Distribution by Albany Neighbourhood\",\n",
    "             labels={'neighbourhood': 'Neighbourhood', 'price': 'Price (USD)'})\n",
    "fig.show()"
   ]
  },
  {
   "cell_type": "code",
   "execution_count": 5,
   "id": "48fde8e2-a3b6-4861-a527-026197ea4509",
   "metadata": {},
   "outputs": [
    {
     "data": {
      "application/vnd.plotly.v1+json": {
       "config": {
        "plotlyServerURL": "https://plot.ly"
       },
       "data": [
        {
         "alignmentgroup": "True",
         "hovertemplate": "Room Type=Entire home/apt<br>Borough=%{x}<br>Price (USD)=%{y}<extra></extra>",
         "legendgroup": "Entire home/apt",
         "marker": {
          "color": "#636efa"
         },
         "name": "Entire home/apt",
         "notched": false,
         "offsetgroup": "Entire home/apt",
         "orientation": "v",
         "showlegend": true,
         "type": "box",
         "x": {
          "bdata": "AAAAAAAA+H8AAAAAAAD4fwAAAAAAAPh/AAAAAAAA+H8AAAAAAAD4fwAAAAAAAPh/AAAAAAAA+H8AAAAAAAD4fwAAAAAAAPh/AAAAAAAA+H8AAAAAAAD4fwAAAAAAAPh/AAAAAAAA+H8AAAAAAAD4fwAAAAAAAPh/AAAAAAAA+H8AAAAAAAD4fwAAAAAAAPh/AAAAAAAA+H8AAAAAAAD4fwAAAAAAAPh/AAAAAAAA+H8AAAAAAAD4fwAAAAAAAPh/AAAAAAAA+H8AAAAAAAD4fwAAAAAAAPh/AAAAAAAA+H8AAAAAAAD4fwAAAAAAAPh/AAAAAAAA+H8AAAAAAAD4fwAAAAAAAPh/AAAAAAAA+H8AAAAAAAD4fwAAAAAAAPh/AAAAAAAA+H8AAAAAAAD4fwAAAAAAAPh/AAAAAAAA+H8AAAAAAAD4fwAAAAAAAPh/AAAAAAAA+H8AAAAAAAD4fwAAAAAAAPh/AAAAAAAA+H8AAAAAAAD4fwAAAAAAAPh/AAAAAAAA+H8AAAAAAAD4fwAAAAAAAPh/AAAAAAAA+H8AAAAAAAD4fwAAAAAAAPh/AAAAAAAA+H8AAAAAAAD4fwAAAAAAAPh/AAAAAAAA+H8AAAAAAAD4fwAAAAAAAPh/AAAAAAAA+H8AAAAAAAD4fwAAAAAAAPh/AAAAAAAA+H8AAAAAAAD4fwAAAAAAAPh/AAAAAAAA+H8AAAAAAAD4fwAAAAAAAPh/AAAAAAAA+H8AAAAAAAD4fwAAAAAAAPh/AAAAAAAA+H8AAAAAAAD4fwAAAAAAAPh/AAAAAAAA+H8AAAAAAAD4fwAAAAAAAPh/AAAAAAAA+H8AAAAAAAD4fwAAAAAAAPh/AAAAAAAA+H8AAAAAAAD4fwAAAAAAAPh/AAAAAAAA+H8AAAAAAAD4fwAAAAAAAPh/AAAAAAAA+H8AAAAAAAD4fwAAAAAAAPh/AAAAAAAA+H8AAAAAAAD4fwAAAAAAAPh/AAAAAAAA+H8AAAAAAAD4fwAAAAAAAPh/AAAAAAAA+H8AAAAAAAD4fwAAAAAAAPh/AAAAAAAA+H8AAAAAAAD4fwAAAAAAAPh/AAAAAAAA+H8AAAAAAAD4fwAAAAAAAPh/AAAAAAAA+H8AAAAAAAD4fwAAAAAAAPh/AAAAAAAA+H8AAAAAAAD4fwAAAAAAAPh/AAAAAAAA+H8AAAAAAAD4fwAAAAAAAPh/AAAAAAAA+H8AAAAAAAD4fwAAAAAAAPh/AAAAAAAA+H8AAAAAAAD4fwAAAAAAAPh/AAAAAAAA+H8AAAAAAAD4fwAAAAAAAPh/AAAAAAAA+H8AAAAAAAD4fwAAAAAAAPh/AAAAAAAA+H8AAAAAAAD4fwAAAAAAAPh/AAAAAAAA+H8AAAAAAAD4fwAAAAAAAPh/AAAAAAAA+H8AAAAAAAD4fwAAAAAAAPh/AAAAAAAA+H8AAAAAAAD4fwAAAAAAAPh/AAAAAAAA+H8AAAAAAAD4fwAAAAAAAPh/AAAAAAAA+H8AAAAAAAD4fwAAAAAAAPh/AAAAAAAA+H8AAAAAAAD4fwAAAAAAAPh/AAAAAAAA+H8AAAAAAAD4fwAAAAAAAPh/AAAAAAAA+H8AAAAAAAD4fwAAAAAAAPh/AAAAAAAA+H8AAAAAAAD4fwAAAAAAAPh/AAAAAAAA+H8AAAAAAAD4fwAAAAAAAPh/AAAAAAAA+H8AAAAAAAD4fwAAAAAAAPh/AAAAAAAA+H8AAAAAAAD4fwAAAAAAAPh/AAAAAAAA+H8AAAAAAAD4fwAAAAAAAPh/AAAAAAAA+H8AAAAAAAD4fwAAAAAAAPh/AAAAAAAA+H8AAAAAAAD4fwAAAAAAAPh/AAAAAAAA+H8AAAAAAAD4fwAAAAAAAPh/AAAAAAAA+H8AAAAAAAD4fwAAAAAAAPh/AAAAAAAA+H8AAAAAAAD4fwAAAAAAAPh/AAAAAAAA+H8AAAAAAAD4fwAAAAAAAPh/AAAAAAAA+H8AAAAAAAD4fwAAAAAAAPh/AAAAAAAA+H8AAAAAAAD4fwAAAAAAAPh/AAAAAAAA+H8AAAAAAAD4fwAAAAAAAPh/AAAAAAAA+H8AAAAAAAD4fwAAAAAAAPh/AAAAAAAA+H8AAAAAAAD4fwAAAAAAAPh/AAAAAAAA+H8AAAAAAAD4fwAAAAAAAPh/AAAAAAAA+H8AAAAAAAD4fwAAAAAAAPh/AAAAAAAA+H8AAAAAAAD4fwAAAAAAAPh/AAAAAAAA+H8AAAAAAAD4fwAAAAAAAPh/AAAAAAAA+H8AAAAAAAD4fwAAAAAAAPh/AAAAAAAA+H8AAAAAAAD4fwAAAAAAAPh/AAAAAAAA+H8AAAAAAAD4fwAAAAAAAPh/AAAAAAAA+H8AAAAAAAD4fwAAAAAAAPh/AAAAAAAA+H8AAAAAAAD4fwAAAAAAAPh/AAAAAAAA+H8AAAAAAAD4fwAAAAAAAPh/AAAAAAAA+H8AAAAAAAD4fwAAAAAAAPh/AAAAAAAA+H8AAAAAAAD4fwAAAAAAAPh/AAAAAAAA+H8AAAAAAAD4fwAAAAAAAPh/AAAAAAAA+H8AAAAAAAD4fwAAAAAAAPh/AAAAAAAA+H8AAAAAAAD4fwAAAAAAAPh/AAAAAAAA+H8AAAAAAAD4fwAAAAAAAPh/AAAAAAAA+H8AAAAAAAD4fwAAAAAAAPh/AAAAAAAA+H8AAAAAAAD4fwAAAAAAAPh/AAAAAAAA+H8AAAAAAAD4fwAAAAAAAPh/AAAAAAAA+H8AAAAAAAD4fwAAAAAAAPh/AAAAAAAA+H8AAAAAAAD4fwAAAAAAAPh/AAAAAAAA+H8AAAAAAAD4fwAAAAAAAPh/AAAAAAAA+H8AAAAAAAD4fwAAAAAAAPh/AAAAAAAA+H8AAAAAAAD4fwAAAAAAAPh/AAAAAAAA+H8AAAAAAAD4fwAAAAAAAPh/AAAAAAAA+H8AAAAAAAD4fwAAAAAAAPh/AAAAAAAA+H8AAAAAAAD4fwAAAAAAAPh/AAAAAAAA+H8AAAAAAAD4fwAAAAAAAPh/AAAAAAAA+H8AAAAAAAD4fwAAAAAAAPh/AAAAAAAA+H8AAAAAAAD4fwAAAAAAAPh/AAAAAAAA+H8AAAAAAAD4fwAAAAAAAPh/AAAAAAAA+H8AAAAAAAD4fwAAAAAAAPh/AAAAAAAA+H8AAAAAAAD4fwAAAAAAAPh/",
          "dtype": "f8"
         },
         "x0": " ",
         "xaxis": "x",
         "y": {
          "bdata": "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",
          "dtype": "f8"
         },
         "y0": " ",
         "yaxis": "y"
        },
        {
         "alignmentgroup": "True",
         "hovertemplate": "Room Type=Private room<br>Borough=%{x}<br>Price (USD)=%{y}<extra></extra>",
         "legendgroup": "Private room",
         "marker": {
          "color": "#EF553B"
         },
         "name": "Private room",
         "notched": false,
         "offsetgroup": "Private room",
         "orientation": "v",
         "showlegend": true,
         "type": "box",
         "x": {
          "bdata": "AAAAAAAA+H8AAAAAAAD4fwAAAAAAAPh/AAAAAAAA+H8AAAAAAAD4fwAAAAAAAPh/AAAAAAAA+H8AAAAAAAD4fwAAAAAAAPh/AAAAAAAA+H8AAAAAAAD4fwAAAAAAAPh/AAAAAAAA+H8AAAAAAAD4fwAAAAAAAPh/AAAAAAAA+H8AAAAAAAD4fwAAAAAAAPh/AAAAAAAA+H8AAAAAAAD4fwAAAAAAAPh/AAAAAAAA+H8AAAAAAAD4fwAAAAAAAPh/AAAAAAAA+H8AAAAAAAD4fwAAAAAAAPh/AAAAAAAA+H8AAAAAAAD4fwAAAAAAAPh/AAAAAAAA+H8AAAAAAAD4fwAAAAAAAPh/AAAAAAAA+H8AAAAAAAD4fwAAAAAAAPh/AAAAAAAA+H8AAAAAAAD4fwAAAAAAAPh/AAAAAAAA+H8AAAAAAAD4fwAAAAAAAPh/AAAAAAAA+H8AAAAAAAD4fwAAAAAAAPh/AAAAAAAA+H8AAAAAAAD4fwAAAAAAAPh/AAAAAAAA+H8AAAAAAAD4fwAAAAAAAPh/AAAAAAAA+H8AAAAAAAD4fwAAAAAAAPh/AAAAAAAA+H8AAAAAAAD4fwAAAAAAAPh/AAAAAAAA+H8AAAAAAAD4fwAAAAAAAPh/AAAAAAAA+H8AAAAAAAD4fwAAAAAAAPh/AAAAAAAA+H8AAAAAAAD4fwAAAAAAAPh/AAAAAAAA+H8AAAAAAAD4fwAAAAAAAPh/AAAAAAAA+H8AAAAAAAD4fwAAAAAAAPh/AAAAAAAA+H8AAAAAAAD4fwAAAAAAAPh/AAAAAAAA+H8AAAAAAAD4fwAAAAAAAPh/AAAAAAAA+H8AAAAAAAD4fwAAAAAAAPh/AAAAAAAA+H8AAAAAAAD4fwAAAAAAAPh/AAAAAAAA+H8AAAAAAAD4fwAAAAAAAPh/AAAAAAAA+H8AAAAAAAD4fwAAAAAAAPh/AAAAAAAA+H8AAAAAAAD4fwAAAAAAAPh/AAAAAAAA+H8AAAAAAAD4fwAAAAAAAPh/AAAAAAAA+H8AAAAAAAD4fwAAAAAAAPh/AAAAAAAA+H8AAAAAAAD4fwAAAAAAAPh/AAAAAAAA+H8AAAAAAAD4fwAAAAAAAPh/AAAAAAAA+H8AAAAAAAD4fwAAAAAAAPh/AAAAAAAA+H8=",
          "dtype": "f8"
         },
         "x0": " ",
         "xaxis": "x",
         "y": {
          "bdata": "AAAAAAAASkAAAAAAAABLQAAAAAAAgEtAAAAAAACAR0AAAAAAAABKQAAAAAAAAE5AAAAAAACASkAAAAAAAIBRQAAAAAAAAEJAAAAAAACAQkAAAAAAAIBBQAAAAAAAAEtAAAAAAAAAUUAAAAAAAMBRQAAAAAAAQFdAAAAAAAAAS0AAAAAAAMBSQAAAAAAAgE1AAAAAAACAUUAAAAAAAABTQAAAAAAAgEdAAAAAAAAAWkAAAAAAAABJQAAAAAAAgEpAAAAAAAAASkAAAAAAAIBWQAAAAAAAgERAAAAAAACARkAAAAAAAABYQAAAAAAAAE1AAAAAAAAATkAAAAAAAIBSQAAAAAAAAE5AAAAAAACAR0AAAAAAAEBTQAAAAAAAAEdAAAAAAAAATEAAAAAAAGBkQAAAAAAAgGBAAAAAAAAAYEAAAAAAAIBGQAAAAAAAAEpAAAAAAACAVUAAAAAAAIBOQAAAAAAAAEpAAAAAAAAAQkAAAAAAAABHQAAAAAAAgFFAAAAAAABAV0AAAAAAAKBkQAAAAAAAYGNAAAAAAACgZEAAAAAAAKBkQAAAAAAAoGRAAAAAAAAgZUAAAAAAAABJQAAAAAAAgENAAAAAAAAATUAAAAAAAABLQAAAAAAAgEtAAAAAAACASUAAAAAAAIBJQAAAAAAAgE1AAAAAAAAAOEAAAAAAAABMQAAAAAAAwFBAAAAAAABAWUAAAAAAAIBJQAAAAAAAAEdAAAAAAAAAQkAAAAAAAABMQAAAAAAAgEtAAAAAAAAASkAAAAAAAABpQAAAAAAAQFBAAAAAAACAQEAAAAAAAABFQAAAAAAAAExAAAAAAAAATEAAAAAAAABRQAAAAAAAgEtAAAAAAAAARkAAAAAAAEBSQAAAAAAAAEpAAAAAAAAASkAAAAAAAABZQAAAAAAAAEpAAAAAAAAASkAAAAAAAMBSQAAAAAAAgEhAAAAAAACAUUAAAAAAAEBeQAAAAAAAAENAAAAAAAAARUAAAAAAAABMQAAAAAAAAExAAAAAAACASUAAAAAAAIBQQAAAAAAAAEZAAAAAAAAASkAAAAAAAIBKQAAAAAAAgElAAAAAAACASUAAAAAAAIBKQAAAAAAAAEhAAAAAAACATEAAAAAAAIBAQAAAAAAAgENAAAAAAAAARkA=",
          "dtype": "f8"
         },
         "y0": " ",
         "yaxis": "y"
        }
       ],
       "layout": {
        "boxmode": "group",
        "legend": {
         "title": {
          "text": "Room Type"
         },
         "tracegroupgap": 0
        },
        "template": {
         "data": {
          "bar": [
           {
            "error_x": {
             "color": "#2a3f5f"
            },
            "error_y": {
             "color": "#2a3f5f"
            },
            "marker": {
             "line": {
              "color": "#E5ECF6",
              "width": 0.5
             },
             "pattern": {
              "fillmode": "overlay",
              "size": 10,
              "solidity": 0.2
             }
            },
            "type": "bar"
           }
          ],
          "barpolar": [
           {
            "marker": {
             "line": {
              "color": "#E5ECF6",
              "width": 0.5
             },
             "pattern": {
              "fillmode": "overlay",
              "size": 10,
              "solidity": 0.2
             }
            },
            "type": "barpolar"
           }
          ],
          "carpet": [
           {
            "aaxis": {
             "endlinecolor": "#2a3f5f",
             "gridcolor": "white",
             "linecolor": "white",
             "minorgridcolor": "white",
             "startlinecolor": "#2a3f5f"
            },
            "baxis": {
             "endlinecolor": "#2a3f5f",
             "gridcolor": "white",
             "linecolor": "white",
             "minorgridcolor": "white",
             "startlinecolor": "#2a3f5f"
            },
            "type": "carpet"
           }
          ],
          "choropleth": [
           {
            "colorbar": {
             "outlinewidth": 0,
             "ticks": ""
            },
            "type": "choropleth"
           }
          ],
          "contour": [
           {
            "colorbar": {
             "outlinewidth": 0,
             "ticks": ""
            },
            "colorscale": [
             [
              0,
              "#0d0887"
             ],
             [
              0.1111111111111111,
              "#46039f"
             ],
             [
              0.2222222222222222,
              "#7201a8"
             ],
             [
              0.3333333333333333,
              "#9c179e"
             ],
             [
              0.4444444444444444,
              "#bd3786"
             ],
             [
              0.5555555555555556,
              "#d8576b"
             ],
             [
              0.6666666666666666,
              "#ed7953"
             ],
             [
              0.7777777777777778,
              "#fb9f3a"
             ],
             [
              0.8888888888888888,
              "#fdca26"
             ],
             [
              1,
              "#f0f921"
             ]
            ],
            "type": "contour"
           }
          ],
          "contourcarpet": [
           {
            "colorbar": {
             "outlinewidth": 0,
             "ticks": ""
            },
            "type": "contourcarpet"
           }
          ],
          "heatmap": [
           {
            "colorbar": {
             "outlinewidth": 0,
             "ticks": ""
            },
            "colorscale": [
             [
              0,
              "#0d0887"
             ],
             [
              0.1111111111111111,
              "#46039f"
             ],
             [
              0.2222222222222222,
              "#7201a8"
             ],
             [
              0.3333333333333333,
              "#9c179e"
             ],
             [
              0.4444444444444444,
              "#bd3786"
             ],
             [
              0.5555555555555556,
              "#d8576b"
             ],
             [
              0.6666666666666666,
              "#ed7953"
             ],
             [
              0.7777777777777778,
              "#fb9f3a"
             ],
             [
              0.8888888888888888,
              "#fdca26"
             ],
             [
              1,
              "#f0f921"
             ]
            ],
            "type": "heatmap"
           }
          ],
          "histogram": [
           {
            "marker": {
             "pattern": {
              "fillmode": "overlay",
              "size": 10,
              "solidity": 0.2
             }
            },
            "type": "histogram"
           }
          ],
          "histogram2d": [
           {
            "colorbar": {
             "outlinewidth": 0,
             "ticks": ""
            },
            "colorscale": [
             [
              0,
              "#0d0887"
             ],
             [
              0.1111111111111111,
              "#46039f"
             ],
             [
              0.2222222222222222,
              "#7201a8"
             ],
             [
              0.3333333333333333,
              "#9c179e"
             ],
             [
              0.4444444444444444,
              "#bd3786"
             ],
             [
              0.5555555555555556,
              "#d8576b"
             ],
             [
              0.6666666666666666,
              "#ed7953"
             ],
             [
              0.7777777777777778,
              "#fb9f3a"
             ],
             [
              0.8888888888888888,
              "#fdca26"
             ],
             [
              1,
              "#f0f921"
             ]
            ],
            "type": "histogram2d"
           }
          ],
          "histogram2dcontour": [
           {
            "colorbar": {
             "outlinewidth": 0,
             "ticks": ""
            },
            "colorscale": [
             [
              0,
              "#0d0887"
             ],
             [
              0.1111111111111111,
              "#46039f"
             ],
             [
              0.2222222222222222,
              "#7201a8"
             ],
             [
              0.3333333333333333,
              "#9c179e"
             ],
             [
              0.4444444444444444,
              "#bd3786"
             ],
             [
              0.5555555555555556,
              "#d8576b"
             ],
             [
              0.6666666666666666,
              "#ed7953"
             ],
             [
              0.7777777777777778,
              "#fb9f3a"
             ],
             [
              0.8888888888888888,
              "#fdca26"
             ],
             [
              1,
              "#f0f921"
             ]
            ],
            "type": "histogram2dcontour"
           }
          ],
          "mesh3d": [
           {
            "colorbar": {
             "outlinewidth": 0,
             "ticks": ""
            },
            "type": "mesh3d"
           }
          ],
          "parcoords": [
           {
            "line": {
             "colorbar": {
              "outlinewidth": 0,
              "ticks": ""
             }
            },
            "type": "parcoords"
           }
          ],
          "pie": [
           {
            "automargin": true,
            "type": "pie"
           }
          ],
          "scatter": [
           {
            "fillpattern": {
             "fillmode": "overlay",
             "size": 10,
             "solidity": 0.2
            },
            "type": "scatter"
           }
          ],
          "scatter3d": [
           {
            "line": {
             "colorbar": {
              "outlinewidth": 0,
              "ticks": ""
             }
            },
            "marker": {
             "colorbar": {
              "outlinewidth": 0,
              "ticks": ""
             }
            },
            "type": "scatter3d"
           }
          ],
          "scattercarpet": [
           {
            "marker": {
             "colorbar": {
              "outlinewidth": 0,
              "ticks": ""
             }
            },
            "type": "scattercarpet"
           }
          ],
          "scattergeo": [
           {
            "marker": {
             "colorbar": {
              "outlinewidth": 0,
              "ticks": ""
             }
            },
            "type": "scattergeo"
           }
          ],
          "scattergl": [
           {
            "marker": {
             "colorbar": {
              "outlinewidth": 0,
              "ticks": ""
             }
            },
            "type": "scattergl"
           }
          ],
          "scattermap": [
           {
            "marker": {
             "colorbar": {
              "outlinewidth": 0,
              "ticks": ""
             }
            },
            "type": "scattermap"
           }
          ],
          "scattermapbox": [
           {
            "marker": {
             "colorbar": {
              "outlinewidth": 0,
              "ticks": ""
             }
            },
            "type": "scattermapbox"
           }
          ],
          "scatterpolar": [
           {
            "marker": {
             "colorbar": {
              "outlinewidth": 0,
              "ticks": ""
             }
            },
            "type": "scatterpolar"
           }
          ],
          "scatterpolargl": [
           {
            "marker": {
             "colorbar": {
              "outlinewidth": 0,
              "ticks": ""
             }
            },
            "type": "scatterpolargl"
           }
          ],
          "scatterternary": [
           {
            "marker": {
             "colorbar": {
              "outlinewidth": 0,
              "ticks": ""
             }
            },
            "type": "scatterternary"
           }
          ],
          "surface": [
           {
            "colorbar": {
             "outlinewidth": 0,
             "ticks": ""
            },
            "colorscale": [
             [
              0,
              "#0d0887"
             ],
             [
              0.1111111111111111,
              "#46039f"
             ],
             [
              0.2222222222222222,
              "#7201a8"
             ],
             [
              0.3333333333333333,
              "#9c179e"
             ],
             [
              0.4444444444444444,
              "#bd3786"
             ],
             [
              0.5555555555555556,
              "#d8576b"
             ],
             [
              0.6666666666666666,
              "#ed7953"
             ],
             [
              0.7777777777777778,
              "#fb9f3a"
             ],
             [
              0.8888888888888888,
              "#fdca26"
             ],
             [
              1,
              "#f0f921"
             ]
            ],
            "type": "surface"
           }
          ],
          "table": [
           {
            "cells": {
             "fill": {
              "color": "#EBF0F8"
             },
             "line": {
              "color": "white"
             }
            },
            "header": {
             "fill": {
              "color": "#C8D4E3"
             },
             "line": {
              "color": "white"
             }
            },
            "type": "table"
           }
          ]
         },
         "layout": {
          "annotationdefaults": {
           "arrowcolor": "#2a3f5f",
           "arrowhead": 0,
           "arrowwidth": 1
          },
          "autotypenumbers": "strict",
          "coloraxis": {
           "colorbar": {
            "outlinewidth": 0,
            "ticks": ""
           }
          },
          "colorscale": {
           "diverging": [
            [
             0,
             "#8e0152"
            ],
            [
             0.1,
             "#c51b7d"
            ],
            [
             0.2,
             "#de77ae"
            ],
            [
             0.3,
             "#f1b6da"
            ],
            [
             0.4,
             "#fde0ef"
            ],
            [
             0.5,
             "#f7f7f7"
            ],
            [
             0.6,
             "#e6f5d0"
            ],
            [
             0.7,
             "#b8e186"
            ],
            [
             0.8,
             "#7fbc41"
            ],
            [
             0.9,
             "#4d9221"
            ],
            [
             1,
             "#276419"
            ]
           ],
           "sequential": [
            [
             0,
             "#0d0887"
            ],
            [
             0.1111111111111111,
             "#46039f"
            ],
            [
             0.2222222222222222,
             "#7201a8"
            ],
            [
             0.3333333333333333,
             "#9c179e"
            ],
            [
             0.4444444444444444,
             "#bd3786"
            ],
            [
             0.5555555555555556,
             "#d8576b"
            ],
            [
             0.6666666666666666,
             "#ed7953"
            ],
            [
             0.7777777777777778,
             "#fb9f3a"
            ],
            [
             0.8888888888888888,
             "#fdca26"
            ],
            [
             1,
             "#f0f921"
            ]
           ],
           "sequentialminus": [
            [
             0,
             "#0d0887"
            ],
            [
             0.1111111111111111,
             "#46039f"
            ],
            [
             0.2222222222222222,
             "#7201a8"
            ],
            [
             0.3333333333333333,
             "#9c179e"
            ],
            [
             0.4444444444444444,
             "#bd3786"
            ],
            [
             0.5555555555555556,
             "#d8576b"
            ],
            [
             0.6666666666666666,
             "#ed7953"
            ],
            [
             0.7777777777777778,
             "#fb9f3a"
            ],
            [
             0.8888888888888888,
             "#fdca26"
            ],
            [
             1,
             "#f0f921"
            ]
           ]
          },
          "colorway": [
           "#636efa",
           "#EF553B",
           "#00cc96",
           "#ab63fa",
           "#FFA15A",
           "#19d3f3",
           "#FF6692",
           "#B6E880",
           "#FF97FF",
           "#FECB52"
          ],
          "font": {
           "color": "#2a3f5f"
          },
          "geo": {
           "bgcolor": "white",
           "lakecolor": "white",
           "landcolor": "#E5ECF6",
           "showlakes": true,
           "showland": true,
           "subunitcolor": "white"
          },
          "hoverlabel": {
           "align": "left"
          },
          "hovermode": "closest",
          "mapbox": {
           "style": "light"
          },
          "paper_bgcolor": "white",
          "plot_bgcolor": "#E5ECF6",
          "polar": {
           "angularaxis": {
            "gridcolor": "white",
            "linecolor": "white",
            "ticks": ""
           },
           "bgcolor": "#E5ECF6",
           "radialaxis": {
            "gridcolor": "white",
            "linecolor": "white",
            "ticks": ""
           }
          },
          "scene": {
           "xaxis": {
            "backgroundcolor": "#E5ECF6",
            "gridcolor": "white",
            "gridwidth": 2,
            "linecolor": "white",
            "showbackground": true,
            "ticks": "",
            "zerolinecolor": "white"
           },
           "yaxis": {
            "backgroundcolor": "#E5ECF6",
            "gridcolor": "white",
            "gridwidth": 2,
            "linecolor": "white",
            "showbackground": true,
            "ticks": "",
            "zerolinecolor": "white"
           },
           "zaxis": {
            "backgroundcolor": "#E5ECF6",
            "gridcolor": "white",
            "gridwidth": 2,
            "linecolor": "white",
            "showbackground": true,
            "ticks": "",
            "zerolinecolor": "white"
           }
          },
          "shapedefaults": {
           "line": {
            "color": "#2a3f5f"
           }
          },
          "ternary": {
           "aaxis": {
            "gridcolor": "white",
            "linecolor": "white",
            "ticks": ""
           },
           "baxis": {
            "gridcolor": "white",
            "linecolor": "white",
            "ticks": ""
           },
           "bgcolor": "#E5ECF6",
           "caxis": {
            "gridcolor": "white",
            "linecolor": "white",
            "ticks": ""
           }
          },
          "title": {
           "x": 0.05
          },
          "xaxis": {
           "automargin": true,
           "gridcolor": "white",
           "linecolor": "white",
           "ticks": "",
           "title": {
            "standoff": 15
           },
           "zerolinecolor": "white",
           "zerolinewidth": 2
          },
          "yaxis": {
           "automargin": true,
           "gridcolor": "white",
           "linecolor": "white",
           "ticks": "",
           "title": {
            "standoff": 15
           },
           "zerolinecolor": "white",
           "zerolinewidth": 2
          }
         }
        },
        "title": {
         "text": "Airbnb Price Distribution by Borough and Room Type"
        },
        "xaxis": {
         "anchor": "y",
         "domain": [
          0,
          1
         ],
         "title": {
          "text": "Borough"
         }
        },
        "yaxis": {
         "anchor": "x",
         "domain": [
          0,
          1
         ],
         "title": {
          "text": "Price (USD)"
         }
        }
       }
      },
      "image/png": "[encoded data removed]"
     },
     "metadata": {},
     "output_type": "display_data"
    }
   ],
   "source": [
    "fig = px.box(df_filtered,\n",
    "             x='neighbourhood',\n",
    "             y='price',\n",
    "             color='room_type',\n",
    "             title=\"Airbnb Price Distribution by Neighbourhood and Room Type\",\n",
    "             labels={'neighbourhood': 'Neighbourhood', 'price': 'Price (USD)', 'room_type': 'Room Type'})\n",
    "fig.show()"
   ]
  },
  {
   "cell_type": "code",
   "execution_count": 6,
   "id": "7203a9bd-851c-4375-87d3-08f67527c377",
   "metadata": {},
   "outputs": [
    {
     "data": {
      "application/vnd.plotly.v1+json": {
       "config": {
        "plotlyServerURL": "https://plot.ly"
       },
       "data": [
        {
         "customdata": [
          [
           "THIRD WARD",
           70,
           "Entire home/apt"
          ],
          [
           "SIXTH WARD",
           100,
           "Entire home/apt"
          ],
          [
           "SECOND WARD",
           75,
           "Entire home/apt"
          ],
          [
           "SIXTH WARD",
           95,
           "Entire home/apt"
          ],
          [
           "SIXTH WARD",
           86,
           "Entire home/apt"
          ],
          [
           "SECOND WARD",
           52,
           "Private room"
          ],
          [
           "FOURTEENTH WARD",
           54,
           "Private room"
          ],
          [
           "FIFTEENTH WARD",
           264,
           "Entire home/apt"
          ],
          [
           "ELEVENTH WARD",
           55,
           "Private room"
          ],
          [
           "SIXTH WARD",
           47,
           "Private room"
          ],
          [
           "FIFTEENTH WARD",
           219,
           "Entire home/apt"
          ],
          [
           "FIFTEENTH WARD",
           260,
           "Entire home/apt"
          ],
          [
           "NINTH WARD",
           52,
           "Private room"
          ],
          [
           "FOURTEENTH WARD",
           60,
           "Private room"
          ],
          [
           "FIFTH WARD",
           53,
           "Private room"
          ],
          [
           "FIFTEENTH WARD",
           376,
           "Entire home/apt"
          ],
          [
           "NINTH WARD",
           70,
           "Private room"
          ],
          [
           "FOURTH WARD",
           214,
           "Entire home/apt"
          ],
          [
           "FOURTEENTH WARD",
           290,
           "Entire home/apt"
          ],
          [
           "FIFTEENTH WARD",
           196,
           "Entire home/apt"
          ],
          [
           "SEVENTH WARD",
           116,
           "Entire home/apt"
          ],
          [
           "NINTH WARD",
           68,
           "Entire home/apt"
          ],
          [
           "THIRTEENTH WARD",
           36,
           "Private room"
          ],
          [
           "NINTH WARD",
           60,
           "Entire home/apt"
          ],
          [
           "TENTH WARD",
           67,
           "Entire home/apt"
          ],
          [
           "ELEVENTH WARD",
           37,
           "Private room"
          ],
          [
           "ELEVENTH WARD",
           35,
           "Private room"
          ],
          [
           "NINTH WARD",
           54,
           "Private room"
          ],
          [
           "FOURTEENTH WARD",
           68,
           "Private room"
          ],
          [
           "NINTH WARD",
           71,
           "Private room"
          ],
          [
           "SIXTH WARD",
           72,
           "Entire home/apt"
          ],
          [
           "SIXTH WARD",
           93,
           "Private room"
          ],
          [
           "SIXTH WARD",
           80,
           "Entire home/apt"
          ],
          [
           "NINTH WARD",
           54,
           "Private room"
          ],
          [
           "EIGHTH WARD",
           302,
           "Entire home/apt"
          ],
          [
           "SIXTH WARD",
           75,
           "Private room"
          ],
          [
           "NINTH WARD",
           59,
           "Private room"
          ],
          [
           "SECOND WARD",
           81,
           "Entire home/apt"
          ],
          [
           "SECOND WARD",
           56,
           "Entire home/apt"
          ],
          [
           "FOURTH WARD",
           70,
           "Private room"
          ],
          [
           "SIXTH WARD",
           82,
           "Entire home/apt"
          ],
          [
           "NINTH WARD",
           76,
           "Private room"
          ],
          [
           "FIFTEENTH WARD",
           47,
           "Private room"
          ],
          [
           "FOURTH WARD",
           104,
           "Private room"
          ],
          [
           "SECOND WARD",
           86,
           "Entire home/apt"
          ],
          [
           "SECOND WARD",
           87,
           "Entire home/apt"
          ],
          [
           "SECOND WARD",
           118,
           "Entire home/apt"
          ],
          [
           "SEVENTH WARD",
           50,
           "Private room"
          ],
          [
           "SECOND WARD",
           89,
           "Entire home/apt"
          ],
          [
           "THIRTEENTH WARD",
           126,
           "Entire home/apt"
          ],
          [
           "EIGHTH WARD",
           53,
           "Private room"
          ],
          [
           "SIXTH WARD",
           104,
           "Entire home/apt"
          ],
          [
           "NINTH WARD",
           110,
           "Entire home/apt"
          ],
          [
           "THIRTEENTH WARD",
           92,
           "Entire home/apt"
          ],
          [
           "FOURTH WARD",
           121,
           "Entire home/apt"
          ],
          [
           "SIXTH WARD",
           97,
           "Entire home/apt"
          ],
          [
           "SIXTH WARD",
           122,
           "Entire home/apt"
          ],
          [
           "FOURTEENTH WARD",
           52,
           "Private room"
          ],
          [
           "SECOND WARD",
           174,
           "Entire home/apt"
          ],
          [
           "NINTH WARD",
           183,
           "Entire home/apt"
          ],
          [
           "FIRST WARD",
           102,
           "Entire home/apt"
          ],
          [
           "SECOND WARD",
           87,
           "Entire home/apt"
          ],
          [
           "SIXTH WARD",
           114,
           "Entire home/apt"
          ],
          [
           "EIGHTH WARD",
           248,
           "Entire home/apt"
          ],
          [
           "SIXTH WARD",
           102,
           "Entire home/apt"
          ],
          [
           "SIXTH WARD",
           103,
           "Entire home/apt"
          ],
          [
           "EIGHTH WARD",
           146,
           "Entire home/apt"
          ],
          [
           "FOURTEENTH WARD",
           132,
           "Entire home/apt"
          ],
          [
           "SECOND WARD",
           67,
           "Entire home/apt"
          ],
          [
           "NINTH WARD",
           89,
           "Entire home/apt"
          ],
          [
           "SECOND WARD",
           108,
           "Entire home/apt"
          ],
          [
           "SECOND WARD",
           108,
           "Entire home/apt"
          ],
          [
           "SECOND WARD",
           117,
           "Entire home/apt"
          ],
          [
           "NINTH WARD",
           152,
           "Entire home/apt"
          ],
          [
           "THIRTEENTH WARD",
           92,
           "Entire home/apt"
          ],
          [
           "SIXTH WARD",
           96,
           "Entire home/apt"
          ],
          [
           "FOURTEENTH WARD",
           77,
           "Entire home/apt"
          ],
          [
           "THIRTEENTH WARD",
           90,
           "Private room"
          ],
          [
           "THIRD WARD",
           134,
           "Entire home/apt"
          ],
          [
           "THIRTEENTH WARD",
           125,
           "Entire home/apt"
          ],
          [
           "THIRD WARD",
           95,
           "Entire home/apt"
          ],
          [
           "TENTH WARD",
           201,
           "Entire home/apt"
          ],
          [
           "THIRD WARD",
           130,
           "Entire home/apt"
          ],
          [
           "NINTH WARD",
           41,
           "Private room"
          ],
          [
           "SIXTH WARD",
           93,
           "Entire home/apt"
          ],
          [
           "THIRTEENTH WARD",
           182,
           "Entire home/apt"
          ],
          [
           "FOURTH WARD",
           104,
           "Entire home/apt"
          ],
          [
           "ELEVENTH WARD",
           105,
           "Entire home/apt"
          ],
          [
           "SIXTH WARD",
           135,
           "Entire home/apt"
          ],
          [
           "FOURTH WARD",
           108,
           "Entire home/apt"
          ],
          [
           "THIRD WARD",
           65,
           "Entire home/apt"
          ],
          [
           "TENTH WARD",
           89,
           "Entire home/apt"
          ],
          [
           "THIRD WARD",
           138,
           "Entire home/apt"
          ],
          [
           "FOURTH WARD",
           99,
           "Entire home/apt"
          ],
          [
           "THIRD WARD",
           89,
           "Entire home/apt"
          ],
          [
           "FIFTEENTH WARD",
           45,
           "Private room"
          ],
          [
           "FIRST WARD",
           96,
           "Entire home/apt"
          ],
          [
           "SIXTH WARD",
           75,
           "Entire home/apt"
          ],
          [
           "NINTH WARD",
           149,
           "Entire home/apt"
          ],
          [
           "THIRTEENTH WARD",
           106,
           "Entire home/apt"
          ],
          [
           "TENTH WARD",
           476,
           "Entire home/apt"
          ],
          [
           "THIRTEENTH WARD",
           120,
           "Entire home/apt"
          ],
          [
           "FOURTH WARD",
           104,
           "Entire home/apt"
          ],
          [
           "SIXTH WARD",
           105,
           "Entire home/apt"
          ],
          [
           "EIGHTH WARD",
           257,
           "Entire home/apt"
          ],
          [
           "SECOND WARD",
           78,
           "Entire home/apt"
          ],
          [
           "FOURTEENTH WARD",
           205,
           "Entire home/apt"
          ],
          [
           "SIXTH WARD",
           98,
           "Entire home/apt"
          ],
          [
           "FOURTH WARD",
           135,
           "Entire home/apt"
          ],
          [
           "FIFTEENTH WARD",
           343,
           "Entire home/apt"
          ],
          [
           "SECOND WARD",
           300,
           "Entire home/apt"
          ],
          [
           "TENTH WARD",
           83,
           "Entire home/apt"
          ],
          [
           "SIXTH WARD",
           110,
           "Entire home/apt"
          ],
          [
           "SIXTH WARD",
           92,
           "Entire home/apt"
          ],
          [
           "SIXTH WARD",
           144,
           "Entire home/apt"
          ],
          [
           "SIXTH WARD",
           164,
           "Entire home/apt"
          ],
          [
           "NINTH WARD",
           97,
           "Entire home/apt"
          ],
          [
           "TENTH WARD",
           77,
           "Entire home/apt"
          ],
          [
           "NINTH WARD",
           68,
           "Entire home/apt"
          ],
          [
           "THIRD WARD",
           92,
           "Entire home/apt"
          ],
          [
           "SECOND WARD",
           118,
           "Entire home/apt"
          ],
          [
           "THIRTEENTH WARD",
           96,
           "Private room"
          ],
          [
           "SIXTH WARD",
           214,
           "Entire home/apt"
          ],
          [
           "SIXTH WARD",
           98,
           "Entire home/apt"
          ],
          [
           "SIXTH WARD",
           135,
           "Entire home/apt"
          ],
          [
           "SECOND WARD",
           133,
           "Entire home/apt"
          ],
          [
           "SEVENTH WARD",
           133,
           "Entire home/apt"
          ],
          [
           "SECOND WARD",
           99,
           "Entire home/apt"
          ],
          [
           "THIRD WARD",
           58,
           "Private room"
          ],
          [
           "SECOND WARD",
           98,
           "Entire home/apt"
          ],
          [
           "SECOND WARD",
           90,
           "Entire home/apt"
          ],
          [
           "SIXTH WARD",
           130,
           "Entire home/apt"
          ],
          [
           "FOURTH WARD",
           104,
           "Entire home/apt"
          ],
          [
           "FIRST WARD",
           140,
           "Entire home/apt"
          ],
          [
           "FIRST WARD",
           125,
           "Entire home/apt"
          ],
          [
           "SIXTH WARD",
           109,
           "Entire home/apt"
          ],
          [
           "FOURTEENTH WARD",
           60,
           "Private room"
          ],
          [
           "FOURTEENTH WARD",
           74,
           "Private room"
          ],
          [
           "SECOND WARD",
           181,
           "Entire home/apt"
          ],
          [
           "SECOND WARD",
           198,
           "Entire home/apt"
          ],
          [
           "SIXTH WARD",
           84,
           "Entire home/apt"
          ],
          [
           "ELEVENTH WARD",
           104,
           "Entire home/apt"
          ],
          [
           "THIRTEENTH WARD",
           158,
           "Entire home/apt"
          ],
          [
           "THIRTEENTH WARD",
           82,
           "Entire home/apt"
          ],
          [
           "SECOND WARD",
           109,
           "Entire home/apt"
          ],
          [
           "THIRTEENTH WARD",
           137,
           "Entire home/apt"
          ],
          [
           "NINTH WARD",
           151,
           "Entire home/apt"
          ],
          [
           "SIXTH WARD",
           101,
           "Entire home/apt"
          ],
          [
           "SIXTH WARD",
           68,
           "Entire home/apt"
          ],
          [
           "THIRD WARD",
           80,
           "Entire home/apt"
          ],
          [
           "TENTH WARD",
           157,
           "Entire home/apt"
          ],
          [
           "NINTH WARD",
           60,
           "Private room"
          ],
          [
           "NINTH WARD",
           90,
           "Entire home/apt"
          ],
          [
           "SEVENTH WARD",
           77,
           "Entire home/apt"
          ],
          [
           "SEVENTH WARD",
           107,
           "Entire home/apt"
          ],
          [
           "FIFTH WARD",
           115,
           "Entire home/apt"
          ],
          [
           "SECOND WARD",
           156,
           "Entire home/apt"
          ],
          [
           "SECOND WARD",
           97,
           "Entire home/apt"
          ],
          [
           "SIXTH WARD",
           47,
           "Private room"
          ],
          [
           "SIXTH WARD",
           65,
           "Entire home/apt"
          ],
          [
           "THIRTEENTH WARD",
           140,
           "Entire home/apt"
          ],
          [
           "SIXTH WARD",
           98,
           "Entire home/apt"
          ],
          [
           "TENTH WARD",
           77,
           "Private room"
          ],
          [
           "FOURTEENTH WARD",
           63,
           "Entire home/apt"
          ],
          [
           "FOURTEENTH WARD",
           46,
           "Private room"
          ],
          [
           "THIRD WARD",
           97,
           "Entire home/apt"
          ],
          [
           "SIXTH WARD",
           128,
           "Entire home/apt"
          ],
          [
           "FIFTH WARD",
           86,
           "Entire home/apt"
          ],
          [
           "FOURTEENTH WARD",
           227,
           "Entire home/apt"
          ],
          [
           "SECOND WARD",
           128,
           "Entire home/apt"
          ],
          [
           "FIFTH WARD",
           91,
           "Entire home/apt"
          ],
          [
           "TENTH WARD",
           56,
           "Private room"
          ],
          [
           "SIXTH WARD",
           163,
           "Private room"
          ],
          [
           "FOURTEENTH WARD",
           125,
           "Entire home/apt"
          ],
          [
           "THIRTEENTH WARD",
           146,
           "Entire home/apt"
          ],
          [
           "NINTH WARD",
           132,
           "Private room"
          ],
          [
           "NINTH WARD",
           128,
           "Private room"
          ],
          [
           "NINTH WARD",
           86,
           "Entire home/apt"
          ],
          [
           "THIRTEENTH WARD",
           45,
           "Private room"
          ],
          [
           "SIXTH WARD",
           92,
           "Entire home/apt"
          ],
          [
           "FOURTEENTH WARD",
           52,
           "Private room"
          ],
          [
           "NINTH WARD",
           91,
           "Entire home/apt"
          ],
          [
           "FIFTEENTH WARD",
           246,
           "Entire home/apt"
          ],
          [
           "SIXTH WARD",
           137,
           "Entire home/apt"
          ],
          [
           "SIXTH WARD",
           120,
           "Entire home/apt"
          ],
          [
           "SIXTH WARD",
           122,
           "Entire home/apt"
          ],
          [
           "FIRST WARD",
           320,
           "Entire home/apt"
          ],
          [
           "TWELFTH WARD",
           221,
           "Entire home/apt"
          ],
          [
           "SIXTH WARD",
           270,
           "Entire home/apt"
          ],
          [
           "SECOND WARD",
           86,
           "Private room"
          ],
          [
           "THIRTEENTH WARD",
           61,
           "Private room"
          ],
          [
           "THIRD WARD",
           89,
           "Entire home/apt"
          ],
          [
           "FOURTEENTH WARD",
           52,
           "Private room"
          ],
          [
           "SIXTH WARD",
           100,
           "Entire home/apt"
          ],
          [
           "TENTH WARD",
           64,
           "Entire home/apt"
          ],
          [
           "THIRD WARD",
           36,
           "Private room"
          ],
          [
           "THIRD WARD",
           46,
           "Private room"
          ],
          [
           "TENTH WARD",
           200,
           "Entire home/apt"
          ],
          [
           "SEVENTH WARD",
           140,
           "Entire home/apt"
          ],
          [
           "TENTH WARD",
           70,
           "Private room"
          ],
          [
           "THIRTEENTH WARD",
           239,
           "Entire home/apt"
          ],
          [
           "TENTH WARD",
           203,
           "Entire home/apt"
          ],
          [
           "FIFTH WARD",
           93,
           "Private room"
          ],
          [
           "THIRD WARD",
           103,
           "Entire home/apt"
          ],
          [
           "THIRTEENTH WARD",
           63,
           "Entire home/apt"
          ],
          [
           "THIRTEENTH WARD",
           143,
           "Entire home/apt"
          ],
          [
           "THIRTEENTH WARD",
           106,
           "Entire home/apt"
          ],
          [
           "SIXTH WARD",
           165,
           "Private room"
          ],
          [
           "ELEVENTH WARD",
           155,
           "Private room"
          ],
          [
           "TENTH WARD",
           165,
           "Private room"
          ],
          [
           "TENTH WARD",
           165,
           "Private room"
          ],
          [
           "SIXTH WARD",
           165,
           "Private room"
          ],
          [
           "TENTH WARD",
           169,
           "Private room"
          ],
          [
           "TENTH WARD",
           313,
           "Entire home/apt"
          ],
          [
           "ELEVENTH WARD",
           50,
           "Private room"
          ],
          [
           "THIRTEENTH WARD",
           39,
           "Private room"
          ],
          [
           "TWELFTH WARD",
           162,
           "Entire home/apt"
          ],
          [
           "FIFTEENTH WARD",
           58,
           "Private room"
          ],
          [
           "ELEVENTH WARD",
           54,
           "Private room"
          ],
          [
           "SIXTH WARD",
           104,
           "Entire home/apt"
          ],
          [
           "NINTH WARD",
           126,
           "Entire home/apt"
          ],
          [
           "FIFTEENTH WARD",
           116,
           "Entire home/apt"
          ],
          [
           "SIXTH WARD",
           89,
           "Entire home/apt"
          ],
          [
           "FIFTEENTH WARD",
           136,
           "Entire home/apt"
          ],
          [
           "FOURTEENTH WARD",
           55,
           "Private room"
          ],
          [
           "SIXTH WARD",
           91,
           "Entire home/apt"
          ],
          [
           "FIFTH WARD",
           116,
           "Entire home/apt"
          ],
          [
           "THIRD WARD",
           77,
           "Entire home/apt"
          ],
          [
           "FOURTEENTH WARD",
           100,
           "Entire home/apt"
          ],
          [
           "SEVENTH WARD",
           222,
           "Entire home/apt"
          ],
          [
           "THIRD WARD",
           90,
           "Entire home/apt"
          ],
          [
           "EIGHTH WARD",
           163,
           "Entire home/apt"
          ],
          [
           "SECOND WARD",
           196,
           "Entire home/apt"
          ],
          [
           "THIRTEENTH WARD",
           51,
           "Private room"
          ],
          [
           "THIRTEENTH WARD",
           51,
           "Private room"
          ],
          [
           "FOURTEENTH WARD",
           59,
           "Private room"
          ],
          [
           "NINTH WARD",
           24,
           "Private room"
          ],
          [
           "SIXTH WARD",
           70,
           "Entire home/apt"
          ],
          [
           "SECOND WARD",
           102,
           "Entire home/apt"
          ],
          [
           "FOURTEENTH WARD",
           56,
           "Private room"
          ],
          [
           "THIRTEENTH WARD",
           67,
           "Private room"
          ],
          [
           "SIXTH WARD",
           79,
           "Entire home/apt"
          ],
          [
           "SECOND WARD",
           65,
           "Entire home/apt"
          ],
          [
           "THIRD WARD",
           107,
           "Entire home/apt"
          ],
          [
           "THIRD WARD",
           107,
           "Entire home/apt"
          ],
          [
           "ELEVENTH WARD",
           116,
           "Entire home/apt"
          ],
          [
           "THIRD WARD",
           91,
           "Entire home/apt"
          ],
          [
           "SIXTH WARD",
           67,
           "Entire home/apt"
          ],
          [
           "SECOND WARD",
           115,
           "Entire home/apt"
          ],
          [
           "SEVENTH WARD",
           53,
           "Entire home/apt"
          ],
          [
           "FIRST WARD",
           114,
           "Entire home/apt"
          ],
          [
           "TWELFTH WARD",
           101,
           "Private room"
          ],
          [
           "SECOND WARD",
           337,
           "Entire home/apt"
          ],
          [
           "THIRTEENTH WARD",
           51,
           "Private room"
          ],
          [
           "SEVENTH WARD",
           53,
           "Entire home/apt"
          ],
          [
           "TWELFTH WARD",
           140,
           "Entire home/apt"
          ],
          [
           "SIXTH WARD",
           145,
           "Entire home/apt"
          ],
          [
           "THIRD WARD",
           70,
           "Entire home/apt"
          ],
          [
           "TENTH WARD",
           136,
           "Entire home/apt"
          ],
          [
           "SECOND WARD",
           76,
           "Entire home/apt"
          ],
          [
           "SIXTH WARD",
           88,
           "Entire home/apt"
          ],
          [
           "FOURTEENTH WARD",
           94,
           "Entire home/apt"
          ],
          [
           "SIXTH WARD",
           90,
           "Entire home/apt"
          ],
          [
           "THIRD WARD",
           184,
           "Entire home/apt"
          ],
          [
           "THIRD WARD",
           46,
           "Private room"
          ],
          [
           "THIRD WARD",
           99,
           "Entire home/apt"
          ],
          [
           "SIXTH WARD",
           74,
           "Entire home/apt"
          ],
          [
           "SEVENTH WARD",
           90,
           "Entire home/apt"
          ],
          [
           "SIXTH WARD",
           87,
           "Entire home/apt"
          ],
          [
           "SIXTH WARD",
           90,
           "Entire home/apt"
          ],
          [
           "FIFTEENTH WARD",
           165,
           "Entire home/apt"
          ],
          [
           "SECOND WARD",
           64,
           "Entire home/apt"
          ],
          [
           "SECOND WARD",
           94,
           "Entire home/apt"
          ],
          [
           "THIRD WARD",
           135,
           "Entire home/apt"
          ],
          [
           "FIFTEENTH WARD",
           153,
           "Entire home/apt"
          ],
          [
           "THIRD WARD",
           70,
           "Entire home/apt"
          ],
          [
           "THIRTEENTH WARD",
           36,
           "Private room"
          ],
          [
           "THIRTEENTH WARD",
           56,
           "Private room"
          ],
          [
           "THIRTEENTH WARD",
           72,
           "Entire home/apt"
          ],
          [
           "SIXTH WARD",
           88,
           "Entire home/apt"
          ],
          [
           "ELEVENTH WARD",
           55,
           "Private room"
          ],
          [
           "SIXTH WARD",
           87,
           "Entire home/apt"
          ],
          [
           "SIXTH WARD",
           95,
           "Entire home/apt"
          ],
          [
           "TENTH WARD",
           52,
           "Private room"
          ],
          [
           "THIRD WARD",
           80,
           "Entire home/apt"
          ],
          [
           "SEVENTH WARD",
           107,
           "Entire home/apt"
          ],
          [
           "SECOND WARD",
           292,
           "Entire home/apt"
          ],
          [
           "SIXTH WARD",
           128,
           "Entire home/apt"
          ],
          [
           "SECOND WARD",
           200,
           "Private room"
          ],
          [
           "SEVENTH WARD",
           213,
           "Entire home/apt"
          ],
          [
           "THIRTEENTH WARD",
           99,
           "Entire home/apt"
          ],
          [
           "SIXTH WARD",
           78,
           "Entire home/apt"
          ],
          [
           "SIXTH WARD",
           75,
           "Entire home/apt"
          ],
          [
           "SIXTH WARD",
           67,
           "Entire home/apt"
          ],
          [
           "SECOND WARD",
           120,
           "Entire home/apt"
          ],
          [
           "SIXTH WARD",
           85,
           "Entire home/apt"
          ],
          [
           "FOURTEENTH WARD",
           65,
           "Private room"
          ],
          [
           "NINTH WARD",
           168,
           "Entire home/apt"
          ],
          [
           "SIXTH WARD",
           113,
           "Entire home/apt"
          ],
          [
           "TENTH WARD",
           82,
           "Entire home/apt"
          ],
          [
           "TENTH WARD",
           33,
           "Private room"
          ],
          [
           "NINTH WARD",
           42,
           "Private room"
          ],
          [
           "SIXTH WARD",
           280,
           "Entire home/apt"
          ],
          [
           "TENTH WARD",
           56,
           "Private room"
          ],
          [
           "TENTH WARD",
           56,
           "Private room"
          ],
          [
           "THIRTEENTH WARD",
           68,
           "Private room"
          ],
          [
           "EIGHTH WARD",
           199,
           "Entire home/apt"
          ],
          [
           "ELEVENTH WARD",
           108,
           "Entire home/apt"
          ],
          [
           "THIRTEENTH WARD",
           55,
           "Private room"
          ],
          [
           "THIRTEENTH WARD",
           158,
           "Entire home/apt"
          ],
          [
           "TENTH WARD",
           150,
           "Entire home/apt"
          ],
          [
           "ELEVENTH WARD",
           145,
           "Entire home/apt"
          ],
          [
           "SIXTH WARD",
           115,
           "Entire home/apt"
          ],
          [
           "SIXTH WARD",
           74,
           "Entire home/apt"
          ],
          [
           "SIXTH WARD",
           82,
           "Entire home/apt"
          ],
          [
           "SIXTH WARD",
           74,
           "Entire home/apt"
          ],
          [
           "SECOND WARD",
           44,
           "Private room"
          ],
          [
           "SECOND WARD",
           73,
           "Private room"
          ],
          [
           "TENTH WARD",
           52,
           "Private room"
          ],
          [
           "TENTH WARD",
           52,
           "Private room"
          ],
          [
           "THIRD WARD",
           100,
           "Private room"
          ],
          [
           "EIGHTH WARD",
           285,
           "Entire home/apt"
          ],
          [
           "TENTH WARD",
           52,
           "Private room"
          ],
          [
           "SIXTH WARD",
           88,
           "Entire home/apt"
          ],
          [
           "TENTH WARD",
           52,
           "Private room"
          ],
          [
           "SIXTH WARD",
           83,
           "Entire home/apt"
          ],
          [
           "SIXTH WARD",
           93,
           "Entire home/apt"
          ],
          [
           "SEVENTH WARD",
           131,
           "Entire home/apt"
          ],
          [
           "SIXTH WARD",
           68,
           "Entire home/apt"
          ],
          [
           "SIXTH WARD",
           75,
           "Private room"
          ],
          [
           "SIXTH WARD",
           80,
           "Entire home/apt"
          ],
          [
           "THIRTEENTH WARD",
           49,
           "Private room"
          ],
          [
           "FIFTEENTH WARD",
           164,
           "Entire home/apt"
          ],
          [
           "THIRD WARD",
           102,
           "Entire home/apt"
          ],
          [
           "SIXTH WARD",
           188,
           "Entire home/apt"
          ],
          [
           "TENTH WARD",
           178,
           "Entire home/apt"
          ],
          [
           "FOURTH WARD",
           92,
           "Entire home/apt"
          ],
          [
           "THIRD WARD",
           90,
           "Entire home/apt"
          ],
          [
           "THIRD WARD",
           127,
           "Entire home/apt"
          ],
          [
           "THIRD WARD",
           127,
           "Entire home/apt"
          ],
          [
           "THIRD WARD",
           114,
           "Entire home/apt"
          ],
          [
           "SIXTH WARD",
           79,
           "Entire home/apt"
          ],
          [
           "TENTH WARD",
           73,
           "Entire home/apt"
          ],
          [
           "SECOND WARD",
           342,
           "Entire home/apt"
          ],
          [
           "TENTH WARD",
           70,
           "Private room"
          ],
          [
           "EIGHTH WARD",
           186,
           "Entire home/apt"
          ],
          [
           "THIRTEENTH WARD",
           121,
           "Private room"
          ],
          [
           "THIRTEENTH WARD",
           38,
           "Private room"
          ],
          [
           "ELEVENTH WARD",
           42,
           "Private room"
          ],
          [
           "SECOND WARD",
           100,
           "Entire home/apt"
          ],
          [
           "FIRST WARD",
           104,
           "Entire home/apt"
          ],
          [
           "TENTH WARD",
           56,
           "Private room"
          ],
          [
           "TENTH WARD",
           56,
           "Private room"
          ],
          [
           "ELEVENTH WARD",
           51,
           "Private room"
          ],
          [
           "FIFTEENTH WARD",
           250,
           "Entire home/apt"
          ],
          [
           "SIXTH WARD",
           75,
           "Entire home/apt"
          ],
          [
           "FIFTEENTH WARD",
           106,
           "Entire home/apt"
          ],
          [
           "SIXTH WARD",
           101,
           "Entire home/apt"
          ],
          [
           "SIXTH WARD",
           170,
           "Entire home/apt"
          ],
          [
           "SIXTH WARD",
           103,
           "Entire home/apt"
          ],
          [
           "SIXTH WARD",
           83,
           "Entire home/apt"
          ],
          [
           "SECOND WARD",
           108,
           "Entire home/apt"
          ],
          [
           "FOURTH WARD",
           83,
           "Entire home/apt"
          ],
          [
           "FOURTH WARD",
           69,
           "Entire home/apt"
          ],
          [
           "SIXTH WARD",
           71,
           "Entire home/apt"
          ],
          [
           "TWELFTH WARD",
           126,
           "Entire home/apt"
          ],
          [
           "FIFTEENTH WARD",
           149,
           "Entire home/apt"
          ],
          [
           "NINTH WARD",
           66,
           "Private room"
          ],
          [
           "THIRD WARD",
           86,
           "Entire home/apt"
          ],
          [
           "THIRTEENTH WARD",
           217,
           "Entire home/apt"
          ],
          [
           "SECOND WARD",
           91,
           "Entire home/apt"
          ],
          [
           "EIGHTH WARD",
           258,
           "Entire home/apt"
          ],
          [
           "FOURTH WARD",
           85,
           "Entire home/apt"
          ],
          [
           "FIRST WARD",
           203,
           "Entire home/apt"
          ],
          [
           "TENTH WARD",
           164,
           "Entire home/apt"
          ],
          [
           "SIXTH WARD",
           68,
           "Entire home/apt"
          ],
          [
           "FOURTEENTH WARD",
           128,
           "Entire home/apt"
          ],
          [
           "SEVENTH WARD",
           74,
           "Entire home/apt"
          ],
          [
           "TENTH WARD",
           44,
           "Private room"
          ],
          [
           "TENTH WARD",
           52,
           "Private room"
          ],
          [
           "TENTH WARD",
           53,
           "Private room"
          ],
          [
           "TWELFTH WARD",
           64,
           "Entire home/apt"
          ],
          [
           "ELEVENTH WARD",
           51,
           "Private room"
          ],
          [
           "ELEVENTH WARD",
           49,
           "Entire home/apt"
          ],
          [
           "TENTH WARD",
           51,
           "Private room"
          ],
          [
           "NINTH WARD",
           53,
           "Private room"
          ],
          [
           "ELEVENTH WARD",
           55,
           "Entire home/apt"
          ],
          [
           "FIFTH WARD",
           70,
           "Entire home/apt"
          ],
          [
           "ELEVENTH WARD",
           56,
           "Entire home/apt"
          ],
          [
           "ELEVENTH WARD",
           57,
           "Entire home/apt"
          ],
          [
           "NINTH WARD",
           48,
           "Private room"
          ],
          [
           "FIFTH WARD",
           47,
           "Entire home/apt"
          ],
          [
           "SECOND WARD",
           57,
           "Private room"
          ],
          [
           "THIRTEENTH WARD",
           33,
           "Private room"
          ],
          [
           "FOURTEENTH WARD",
           39,
           "Private room"
          ],
          [
           "TENTH WARD",
           129,
           "Entire home/apt"
          ],
          [
           "TENTH WARD",
           44,
           "Private room"
          ],
          [
           "SIXTH WARD",
           89,
           "Entire home/apt"
          ],
          [
           "SEVENTH WARD",
           107,
           "Entire home/apt"
          ],
          [
           "ELEVENTH WARD",
           67,
           "Entire home/apt"
          ],
          [
           "ELEVENTH WARD",
           98,
           "Entire home/apt"
          ],
          [
           "SECOND WARD",
           89,
           "Entire home/apt"
          ],
          [
           "ELEVENTH WARD",
           64,
           "Entire home/apt"
          ],
          [
           "SIXTH WARD",
           78,
           "Entire home/apt"
          ],
          [
           "NINTH WARD",
           120,
           "Entire home/apt"
          ],
          [
           "SECOND WARD",
           150,
           "Entire home/apt"
          ],
          [
           "THIRD WARD",
           107,
           "Entire home/apt"
          ],
          [
           "ELEVENTH WARD",
           57,
           "Entire home/apt"
          ],
          [
           "ELEVENTH WARD",
           61,
           "Entire home/apt"
          ]
         ],
         "hovertemplate": "<b>%{hovertext}</b><br><br>latitude=%{lat}<br>longitude=%{lon}<br>neighbourhood=%{customdata[0]}<br>price=%{marker.color}<br>room_type=%{customdata[2]}<extra></extra>",
         "hovertext": [
          "Luxury 2 bedroom apartment",
          "Restored Precinct in Center Sq. w/Parking",
          "Large studio apt  by Capital Center & ESP@",
          "Center Sq. Loft in Converted Precinct w/ Parking",
          "Studio in The heart of Center SQ, in Albany NY",
          "Spacious suite with full bath by Capital  Center",
          "Alb hospital area studio bath wifi. (Red)",
          "/Fire Place Bungalow\\ 1917 SUNY Eagle 6Beds 2Baths",
          "$55twin($30 foreign student)FreeBF Noa/c no smoke",
          "Private Room in the Hearth of the Albany",
          "Pristine Cape Cod on the Creek - 4 Large Bedrooms",
          "/Miller Colonial\\ 1946 SUNY Eagle Hill 5Bed 2Baths",
          "Alb Medical/Dtwn Albany/Colleges ROOM H",
          "On a little park in Albany pine hills. (Blue)",
          "$53($25 foreign student)Twin, noa/cno\nSmoke freeBF",
          "/Sauna Ranch 1961\\ SUNY Eagle Hill 4Beds 1Bath",
          "Charming 1 Bedroom in a Historic Residential Home",
          "The Honey Comb hideout",
          "8 year SuperHost 5Bedroom In Albany",
          "/Red Warhol Ranch\\ 1959 SUNY Eagle Hill 4beds1Bath",
          "Garden Apartment, on the Park, close to Capital.",
          "The Metropolitan",
          "Cozy bedroom with (2) walk-in closets",
          "The Blair Suite",
          "NEW LISTING! Modern, completely updated, LOCATION!",
          "Cozy downstairs bedroom in quiet neighborhood!",
          "Cozy upstairs room with (1) walk-in closet",
          "Elegant Guest Suite in our beautiful Victorian!",
          "One Bedroom apartment with private entrance",
          "The Western Suite",
          "Quiet and Pretty in the Heart of Center Square",
          "City Feel - Green Room",
          "Garden Apartment in Ctr. Square: Monthly Discounts",
          "The Rock & Roll Suite",
          "Albany Cozy home with fireplaces and Sunroom",
          "Private room in historic building on the park",
          "Private Room in Historic Residential Home",
          "✍Historic Loft Suite @ Downtown Albany",
          "⭐Cozy Garden Suite Full Amenities @Downtown Albany",
          "Spacious\nprivate suite and private bath",
          "Funky Urban 1 Bedroom Apt w/ Parking in Center Sq",
          "Seashore Suite At The Inn on South Lake",
          "Nest in Hazel",
          "Moroccan Sands",
          "✨Historic Full Amenities 2BR Apt @Downtown Albany",
          "Historic, Spacious & Fun 2BR Apt @ Downtown Albany",
          "Muhammed Ali Lounge & Pool Hall ⬢⬡",
          "Cozy Bedroom in Historic Residential Home",
          "The Poker Room ♤ Downtown Albany",
          "Sophisticated Retreat: 2BR in heart of Albany",
          "Comfy and quiet",
          "Center Square Safe 2 Bedroom Long  Stay w/ Parking",
          "Spacious Designer 1-Bed Near Albany Med",
          "Renovated, private parking,location, washer dryer!",
          "Comfortable! One Bedroom A/C Apartment Queen Bed",
          "Modern Carriage in the Heart of Albany",
          "Center Square Sanctuary: Private 2-Bedroom Gem",
          "Private Bedroom in Cozy Ranch Home",
          "Central Albany Apartment: Walk to State Capitol!",
          "Homey",
          "Charming dog friendly home with private yard!",
          "Classic & Homey 2BD/1BA Fl 2 Apt @ Downtown Albany",
          "Luxury 1 bedroom Apt in the heart of Center Square",
          "* Quaint home located in residential neighborhood*",
          "Historic Queen Studio Across from Washington Park!",
          "Parkside Queen 1 Bedroom (1800's) Brownstone!",
          "Spacious upscale luxury apartment with huge yard",
          "Private Apt Queen 1 Bed Sanctuary with many Extras",
          "Secluded Studio Suite Fl 3 @ Downtown Albany",
          "Adorable & Trendy 1 Bd Apt Minutes to Albany Med!",
          "UNIQUE Gem in HEART of Albany ★ Spiral Staircase",
          "WOW ★ Bright Apt ★ PRIME downtown Walk Everywhere",
          "★ 2 BEDROOM / 1 BATH TRENDY Apt ★ Downtown Albany",
          "Our Antique Bungalow",
          "Newly renovated,Amazing Location,private parking",
          "Bright large 1 bdr loft in Center Sq -free parking",
          "Quiet cozy apartment, private laundry, great spot!",
          "The Historic J. Buel Farmhouse - Luxury Suite Loft",
          "Center Square Albany 2BR Apt w/Parking near all",
          "Renovated 2br/2ba, close to Alb Med & St. Petes.",
          "Downtown Albany 1 Bed + Workstation @ Maiden Lane",
          "*The Rustic Home* 3 Bedroom Second Floor Apartment",
          "Downtown Albany 2 Bedroom + Workstation @ The Mark",
          "The Down Under Suite",
          "Capital View I",
          "Quiet 2-bedroom condo in the heart of Albany",
          "★ RARE 1BR Apt with Character GREAT Location! W/D★",
          "Cozy Studio By Washington Park | Walkable!",
          "Heart of Center Square: Designer 2-Bed Retreat",
          "★CHIC, Renovated Brownstone★ in PRIME DT Albany",
          "Chic-romantic, center-city, hotel-style apartment.",
          "🍃Chic & Cozy Near Washington Park Garden Suite",
          "Walk to Everything Downtown Albany! Luxury Apt!",
          "★MODERN 1BR GREAT Location Downtown! W/D Parking!★",
          "Lovely 1 Bedroom Unit In Historic Brownstone!",
          "Queen bed w/garden hammocks & home gym",
          "Modern space, everything you could want!",
          "Garden Apartment in Historic Center Square Home",
          "* Adorable home w/parking near great restaurants *",
          "* Centrally located Eclectic vibe 2 bed w/parking",
          "+ Perfect place to make memories with loved ones +",
          "*Hidden gem w/in walking distance to Madison Ave *",
          "★MODERN 1BR Apt w/ PRIVATE deck! W/D★",
          "Washington Parkside 1 Bedroom In 1800s Brownstone!",
          "Cozy 3BR House in Whitehall near DT Albany",
          "* 1 bed near Times Union center & Egg w/parking *",
          "Spacious Urban APT w/4BR & Office in Albany",
          "Private Garden Apt in Downtown Albany|Pets Allowed",
          "★ BEAUTIFUL  2 BED 2 BATH  w/ SOAKER TUB + W/D★",
          "/ Sauna Garden Getaway\\ 1943 SUNY Eagle Hill",
          "B Unieke",
          "Beautiful 1 bedroom in a quiet residential area.",
          "Beautiful Apartment in the heart of Albany",
          "Beautiful 1 bedroom In the heart of Albany",
          "Modern & Cozy Cntr Square Townhouse Gem from 1854",
          "Charming 170-Year-Old Home in the Heart of Albany",
          "Cozy townhouse, close to hospital, free parking!",
          "Lovely 1 bedroom rental close to Alb Med!",
          "Cozy 1 bedroom with office and luxurious King size",
          "◆UNIQUE◆ spacious LOFT with photo studio w/d!",
          "Modern one bedroom with free off street parking",
          "The Historic J. Buel Farmhouse - Luxury Suite",
          "Newly refurbished 2 bedroom close to Lark",
          "Iconic City Center Apt in Downtown | Pets Allowed",
          "Huge loft with a king bed, balcony and park views",
          "Modern luxury one bedroom with off street parking",
          "Lovely renovated, 2-bedroom home with free parking",
          "★SPACIOUS 1BR Apt w/ Character 10ft Ceilings W/D!★",
          "Clean lines and accessible Convenient Location!",
          "★PRIVATE 1 BDRM Newly Renovated Apt W/D Patio★",
          "Modern luxury studio with free off street parking",
          "Lovely apartment in heart of Albany",
          "★ Private 1 bdrm w/ backyard access ★ In-unit W/D",
          "CHEERFULL 3 BEDROOM HOME WITH FREE PARKING.",
          "Beautiful 4 bedroom house Large eat in kitchen",
          "Pied-a-terre albany",
          "The Historic J. Buel Farmhouse-  Rose Feather Room",
          "The Historic J. Buel Farmhouse - Silk Hearth Room",
          "Albany-2 bedrooms apt (1st fl) A&A-Sisters Rental",
          "Albany-3 bedrooms apt (2nd fl) A&A-Sisters Rental",
          "Elegant, spacious studio apt in historic mansion",
          "Relax in Style by Washington Park - Free Parking",
          "Cozy Albany Home",
          "Cozy 1 Bedroom Apt in  desirable Albany locale",
          "Luxurious one bedroom with off-street parking",
          "Centrally located 2 bed w/ off street parking",
          "Modern home, King Bed 4 bed 2bath, Crib, parking",
          "Cozy Greenwood Flat (1 BDR Apartment in Albany)",
          "Historic 1 bed/ 1 bath",
          "Modern & Homey 1BD/1BA Fl 1 Apt @ Downtown Albany",
          "4 bed all on one floor",
          "Adirondack Suite #1",
          "Cozy apartment 2min walk to Albanymed office space",
          "1 Bedroom on Lincoln Park, near Lark and Downtown",
          "Clean Escape- Centrally located- Self Check-In",
          "Modern- Cozy Center City 2 Bedroom Apartment Style",
          "Cozy luxury brownstone w/ parking & yard",
          "Penthouse Brownstone w/ luxury amenities",
          "Private Room in the Center of the Albany",
          "Elegant Studio in Center Square",
          "Charming location near universities & hospital",
          "Great place in the heart of Albany, with Parking",
          "Rest+Restore Room • Short & Extended Stay •",
          "Entire cozy unit in Albany",
          "Private bedroom and private bath w/separate entry",
          "Center Square Gem: Junior 1 Bedroom",
          "Glamorous 1BR Retreat in Center Square",
          "Elegant newly renovated cozy smart apartment",
          "*The Allen House* Gorgeous Apartment - Sleeps 8",
          "Spacious 2 bed w/parking",
          "Newly Renovated| Washer&Dryer|5G Wifi",
          "Alb Medical/colleges/Dtwn Albany Room O",
          "Mads Mansion - Room 6",
          "3br/2ba Near Alb Med & St.Petes.",
          "Modern and Cozy Pine Hills Home from Early 1900s",
          "Mads Mansion - Room 5",
          "Mads Mansion - Room 1",
          "Two bedroom apartment near hospitals pet friendly",
          "The front room w/ TV and king size bed",
          "Cozy Apartment across the Park",
          "COMFY Room/w Private BATH + TV",
          "2 br apt 2 min walk to albanymed offstreet parking",
          "Boho-Chic Cape Conveniently Located",
          "Mellow Cove",
          "Cozy Cove Away From Home",
          "Center Square Serenity: 2-Bedroom Elegance",
          "Modern Cottage-Perfect for Families!",
          "Spacious Home Away from Home!",
          "Your luxury home away from home",
          "Stunning Guest Suite in Historic 1874 Row House",
          "Plum room, private queen near hospitals, UAlbany",
          "Updated Historic Brownstone Apt.",
          "Quiet Room Near Everything",
          "Exposed Brick with Park Views",
          "Modern / Downtown Albany 1 BR APT",
          "The Comfort II",
          "The Comfort",
          "Airy 5Br-2Ba,Kids Rm, 6TVs,Pvt Fence-yard&Parking!",
          "2 bdrm Modern & Hip Apt w/ Patio",
          "\"The LEO Home\" Private Bedroom 4",
          "/Luxury Modern Western Hideout\\",
          "*The Red House* 4 Bedrooms•Beautifully Renovated",
          "Room for rent",
          "Work hard! Play hard!",
          "Newly Renovated Gem in Melrose - Pet Friendly",
          "Cozy space all on 1 floor close to U Albany",
          "Stylish top floor apt w/parking",
          "Hudson 2 at The Argus Hotel",
          "Hudson 1 at The Argus Hotel",
          "Hudson 3 ADA at The Argus Hotel",
          "Hudson 4 at The Argus Hotel",
          "Hudson 5 at The Argus Hotel",
          "Knickerbocker 1 The Argus Hotel",
          "Historic Carriage House  in Washington Park",
          "The backroom with TV, Queen bed and extra futon",
          "The little room with TV and twin bed",
          "Colorful and eclectic apartment",
          "Sunny King bed w private luxurious bath & garden",
          "The spacious room w/ tv dresser/desk",
          "Historic, Spacious Mansion Suite",
          "2 bedroom+home office, private parking & backyard",
          "Oasis Garden Apt w/Queen Bed",
          "Comfy studio in heart of Albany",
          "Modern 2-bed Apt / Hospitals, SUNY, State Office",
          "Abba House historic Retreat - 1st Floor Queen Bed",
          "Chic Madison Parkview",
          "The House That Pat Built",
          "Modern 1BR in a great location",
          "Two bedroom close to colleges!",
          "Beautiful  5 bedrm , 3.5 bathroom, private parking",
          "Spacious Apartment Downtown Albany, NY",
          "Elegant Albany Retreat | Mins to D/T & UAlbany",
          "Massive 4BD/3BA 2-Fl Townhouse Apt Downtown Albany",
          "Abba House Historic Retreat - 3rd Flr Twin Bed",
          "Abba House historic Retreat - 3rd Floor Single Bed",
          "Abba House Historic Retreat - 2nd Floor Full Bed",
          "纽约州首府的温馨小屋",
          "Heart of Albany - Downtown Near Everything",
          "Spacious Townhouse Walking Distance from Downtown",
          "Cozy Room w/ Walk-In Closet, Hot Tub and Coffee!",
          "Abba House Historic Retreat - 2nd Floor Queen Bed",
          "1 Comfy Bedroom Across the Park",
          "Downtown Studio",
          "*Beautiful* Spacious Prime DT 1 Bedroom Apt w GYM",
          "*Spacious* Modern 1 Bedroom RARE Apt w GYM",
          "Great home in Albany",
          "*Huge, bright, private 2Bedroom*",
          "Safe - Sweet -Serene - Long Term",
          "2 bed room Apartment",
          "Renovated Cozy 1920’s Apartment",
          "Charming Bungalow in Albany!",
          "Bonjour, Bienvenue A Chez Pierre",
          "Massive 5BD/4BA 3-Story Duplex @ Downtown Albany",
          "Nighthawk room, private twin near AMC, UAlbany",
          "In the heart of Albany",
          "The Tangerine Door",
          "Lark St Oasis: Parking & Laundry",
          "Newly renovated cozy apartment !",
          "2 bed with parking off Madison",
          "Triplex oasis w:parking near MVP",
          "New Center square studio",
          "Homey, Quiet 2BR W/ Washer Dryer",
          "Lovely 1 bedroom across the Park",
          "Downtown Brownstone with a View!",
          "downtown",
          "Historical Pastures",
          "Serene 1BR Escape: Walk to Eateries & Parks in ALB",
          "1 bed 1 bath Apartment",
          "Garden Apt Suite in Historic 1858 Row House + W/D",
          "Cozy apartment in Albany",
          "Modern townhouse 2 Bedrooms, King Bed, parking",
          "Charming 1BR Near Capitol-Dwntwn",
          "Modern Duplex - Historical Home",
          "Downtown Albany Vacation Rental - Chic & Walkable!",
          "Modern 2 BR near MVP Arena, Colleges, Airport",
          "Calling all travelers",
          "Cozy Bedrooms in Albany",
          "\"The LEO Home\" Private Bedroom 1",
          "Bright & Clean Apartment – August Price Special!",
          "Larson Green",
          "491 Washington Ave FL1Rare",
          "Larson Blue",
          "Albany historic Washington Park",
          "\"The Albany Allen Home\" Private Bedroom 1",
          "Funky loft studio",
          "*Private Entrance* Cozy Apt Bright + Modern W/D",
          "/An Oasis 8 ppl Yard Grill W/D\\",
          "Walk to convention center:Lark St:Capital",
          "/A spacious suite: King/Queen beds Grill WD yard\\",
          "New near major medical facility",
          "Spacious, Modern Gem in Melrose - Pet Friendly",
          "Limited Time Listing",
          "Upscale Listing-Heart of Albany",
          "Albany Business Class Apartment",
          "NEW studio w/2 beds near MVP",
          "Empire Plaza Apartment",
          "\"The Albany Allen Home\" Private Bedroom 3",
          "House near major medical center",
          "Beautiful 2 Bedroom with Parking",
          "Lovely 1 Bedroom with Parking",
          "Room in Albany, 4 minutes from AMC",
          "Privateroom with shared bathroom for Nurses&grads",
          "Albany Vacation Rental w/ State Capitol Views!",
          "\"The LEO Home\" Private Bedroom 2",
          "\"The Albany Allen Home\" Private Bedroom 5",
          "Dali room, private queen near AMC, UAlbany",
          "Charming Home",
          "493 Washington Ave, Albany 12206, 1st Floor",
          "White Cozy Room",
          "/Audubon Apartment\\ 3bed 1bath built1928 Pine Hill",
          "It's Like a Treehouse",
          "Indigo Bunting Nest",
          "King Bed, Workspace & Laundry | Center Square Apt",
          "Larson Gold",
          "Spacious Garden Apt in Center Square",
          "Tasteful…in more ways than one!",
          "Private suite with separate entrance in Mansion",
          "Nice room in downtown albany",
          "Room close to AMC and St peter",
          "\"The Albany Allen Home\" Private Bedroom 4",
          "The Old Lawmaker's Building.",
          "staycation CAP region",
          "\"The Albany Allen Home\" Private Bedroom 2",
          "Lovely 1 bedroom across the park",
          "\"The LEO Home\" Private Bedroom 3",
          "Cozy Boho 1BR Near Albany Med & St Peter Hospitals",
          "In Town Convenient Studio | Washington Park Albany",
          "*Serene* Parkside 2BR Apt: Private Entrance, W/D",
          "Stylish studio - downtown Albany",
          "Row house on the park",
          "Central Location 1 Bed 1 Bath With Parking",
          "King Bed in Spacious Aparment Close to Everything",
          "3 Bedroom Cozy Ranch",
          "Two bedroom apartment in the heart of Albany",
          "Large Center Sq Luxury Retreat.",
          "Spacious 4-Bedroom Home with Modern Amenities",
          "Cowen Residence Hospitality.",
          "Lofts at Washington 109 Spacious 1 Bedroom 1 Bath",
          "Lofts at Washington 303 Spacious 1 Bedroom 1 Bath",
          "Lofts at Washington 304 Spacious 1 Bedroom 1 Bath",
          "Washington Lofts 109 Spacious 1 Bedroom 1 Bath",
          "Lofts at Washington 310 Spacious 1 Bedroom 1 Bath",
          "1 bedroom apt close to hospitals,3min to Albanymed",
          "The Belvedere",
          "‘The Blue Home’ Private Bedroom 3 / 1 Full Bath",
          "Modern Luxury 2 bedroom w/yard",
          "'The Blue Home' Private Bedroom 1 / 1 Full Bath",
          "Room in Albany",
          "Room In Albany, NY",
          "Fresh & Modernized 2BR Fl 1 Apt @ Downtown Albany",
          "Hope On The Hill",
          "‘The Blue Home’ Private Bedroom 2 / 1 Full Bath",
          "‘The Blue Home’ Private Bedroom 4 / 1 Full Bath",
          "Private Room In Albany",
          "COZY  house",
          "Prime Location - 1 Bedroom",
          "The Sweet spot",
          "Walk to Washington Park: Remote Work-Ready Apt!",
          "The Whisky House",
          "Top of The Capital",
          "Albany Prime Location - 1 Bed",
          "Charming & Roomy 3BR/1BA Fl 2 Apt @Downtown Albany",
          "Business Travelers Retreat",
          "Capital City Executive Suites",
          "Stylish 1BR | Center Sq. Gem!",
          "Cozy Home in Heart of Albany",
          "Capital City Escape",
          "Traveler’s Haven!",
          "Two bedroom apartment in Albany",
          "A piece of mind",
          "Downtown Albany Spacious 2BR | Free Parking",
          "Vacation Home in Albany",
          "Capital Comfort Stay",
          "Near Hospitals: Home w/ Yard in Albany!",
          "Central cozy quiet 4 bedroom w/King bed",
          "Walk to Albany Med, MVP Arena, Washington Park",
          "A peaceful home away from home",
          "Cozy Sunshine",
          "Woodlands room, private queen, walk to AMC",
          "Bright private queen room",
          "Peony room, private w/ King bed!",
          "Furnished brand new studio",
          "Luxury Albany Hotel w/Breakfast Next to Downtown",
          "Albany 2BR Stay Close to Downtown W/Free Breakfast",
          "Cranberry room, large private queen, central loc.",
          "New Large Bedroom! Has Parking!",
          "Cozy Albany Suite Close to downtown W/breakfast.",
          "Cozy Albany Suite Next to downtown W/breakfast",
          "Albany 2BR Stay Close to Downtown W/Breakfast",
          "Albany Cozy 2BR Room with breakfast & Gym",
          "New Bedroom! Includes Parking!",
          "Albany Luxury 2BR Room with free Breakfast",
          "Nice",
          "The Small Yellow Room with twin bed /tv",
          "New Bedroom Centrally Located! Parking & Laundry",
          "4 bedroom house in Albany",
          "Room near SUNY Albany",
          "Historic Studio and Great Eats",
          "Beautiful 1 bed apartment",
          "Clean Albany by Shops",
          "Standard Albany | Central",
          "Near All \nDowntown Albany Apartment",
          "Modern Albany Queen | Shops",
          "Charming Historic Apartment",
          "Modern Historical Albany Living",
          "Café Capriccio Suite",
          "Charming, Stylish Apt Downtown",
          "Cozy Albany Suite Next to Downtown with Gym",
          "Stylish Albany Room minutes to Downtown"
         ],
         "lat": {
          "bdata": "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",
          "dtype": "f8"
         },
         "legendgroup": "",
         "lon": {
          "bdata": "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",
          "dtype": "f8"
         },
         "marker": {
          "color": {
           "bdata": "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",
           "dtype": "f8"
          },
          "coloraxis": "coloraxis"
         },
         "mode": "markers",
         "name": "",
         "showlegend": false,
         "subplot": "map",
         "type": "scattermap"
        }
       ],
       "layout": {
        "coloraxis": {
         "colorbar": {
          "title": {
           "text": "price"
          }
         },
         "colorscale": [
          [
           0,
           "#000000"
          ],
          [
           0.0625,
           "#001f4d"
          ],
          [
           0.125,
           "#003786"
          ],
          [
           0.1875,
           "#0e58a8"
          ],
          [
           0.25,
           "#217eb8"
          ],
          [
           0.3125,
           "#30a4ca"
          ],
          [
           0.375,
           "#54c8df"
          ],
          [
           0.4375,
           "#9be4ef"
          ],
          [
           0.5,
           "#e1e9d1"
          ],
          [
           0.5625,
           "#f3d573"
          ],
          [
           0.625,
           "#e7b000"
          ],
          [
           0.6875,
           "#da8200"
          ],
          [
           0.75,
           "#c65400"
          ],
          [
           0.8125,
           "#ac2301"
          ],
          [
           0.875,
           "#820000"
          ],
          [
           0.9375,
           "#4c0000"
          ],
          [
           1,
           "#000000"
          ]
         ]
        },
        "legend": {
         "tracegroupgap": 0
        },
        "map": {
         "center": {
          "lat": 42.658567951980935,
          "lon": -73.77691090382268
         },
         "domain": {
          "x": [
           0,
           1
          ],
          "y": [
           0,
           1
          ]
         },
         "style": "carto-positron",
         "zoom": 10
        },
        "mapbox": {
         "center": {
          "lat": 42.658567951980935,
          "lon": -73.77691090382268
         },
         "style": "carto-positron",
         "zoom": 10
        },
        "template": {
         "data": {
          "bar": [
           {
            "error_x": {
             "color": "#2a3f5f"
            },
            "error_y": {
             "color": "#2a3f5f"
            },
            "marker": {
             "line": {
              "color": "#E5ECF6",
              "width": 0.5
             },
             "pattern": {
              "fillmode": "overlay",
              "size": 10,
              "solidity": 0.2
             }
            },
            "type": "bar"
           }
          ],
          "barpolar": [
           {
            "marker": {
             "line": {
              "color": "#E5ECF6",
              "width": 0.5
             },
             "pattern": {
              "fillmode": "overlay",
              "size": 10,
              "solidity": 0.2
             }
            },
            "type": "barpolar"
           }
          ],
          "carpet": [
           {
            "aaxis": {
             "endlinecolor": "#2a3f5f",
             "gridcolor": "white",
             "linecolor": "white",
             "minorgridcolor": "white",
             "startlinecolor": "#2a3f5f"
            },
            "baxis": {
             "endlinecolor": "#2a3f5f",
             "gridcolor": "white",
             "linecolor": "white",
             "minorgridcolor": "white",
             "startlinecolor": "#2a3f5f"
            },
            "type": "carpet"
           }
          ],
          "choropleth": [
           {
            "colorbar": {
             "outlinewidth": 0,
             "ticks": ""
            },
            "type": "choropleth"
           }
          ],
          "contour": [
           {
            "colorbar": {
             "outlinewidth": 0,
             "ticks": ""
            },
            "colorscale": [
             [
              0,
              "#0d0887"
             ],
             [
              0.1111111111111111,
              "#46039f"
             ],
             [
              0.2222222222222222,
              "#7201a8"
             ],
             [
              0.3333333333333333,
              "#9c179e"
             ],
             [
              0.4444444444444444,
              "#bd3786"
             ],
             [
              0.5555555555555556,
              "#d8576b"
             ],
             [
              0.6666666666666666,
              "#ed7953"
             ],
             [
              0.7777777777777778,
              "#fb9f3a"
             ],
             [
              0.8888888888888888,
              "#fdca26"
             ],
             [
              1,
              "#f0f921"
             ]
            ],
            "type": "contour"
           }
          ],
          "contourcarpet": [
           {
            "colorbar": {
             "outlinewidth": 0,
             "ticks": ""
            },
            "type": "contourcarpet"
           }
          ],
          "heatmap": [
           {
            "colorbar": {
             "outlinewidth": 0,
             "ticks": ""
            },
            "colorscale": [
             [
              0,
              "#0d0887"
             ],
             [
              0.1111111111111111,
              "#46039f"
             ],
             [
              0.2222222222222222,
              "#7201a8"
             ],
             [
              0.3333333333333333,
              "#9c179e"
             ],
             [
              0.4444444444444444,
              "#bd3786"
             ],
             [
              0.5555555555555556,
              "#d8576b"
             ],
             [
              0.6666666666666666,
              "#ed7953"
             ],
             [
              0.7777777777777778,
              "#fb9f3a"
             ],
             [
              0.8888888888888888,
              "#fdca26"
             ],
             [
              1,
              "#f0f921"
             ]
            ],
            "type": "heatmap"
           }
          ],
          "histogram": [
           {
            "marker": {
             "pattern": {
              "fillmode": "overlay",
              "size": 10,
              "solidity": 0.2
             }
            },
            "type": "histogram"
           }
          ],
          "histogram2d": [
           {
            "colorbar": {
             "outlinewidth": 0,
             "ticks": ""
            },
            "colorscale": [
             [
              0,
              "#0d0887"
             ],
             [
              0.1111111111111111,
              "#46039f"
             ],
             [
              0.2222222222222222,
              "#7201a8"
             ],
             [
              0.3333333333333333,
              "#9c179e"
             ],
             [
              0.4444444444444444,
              "#bd3786"
             ],
             [
              0.5555555555555556,
              "#d8576b"
             ],
             [
              0.6666666666666666,
              "#ed7953"
             ],
             [
              0.7777777777777778,
              "#fb9f3a"
             ],
             [
              0.8888888888888888,
              "#fdca26"
             ],
             [
              1,
              "#f0f921"
             ]
            ],
            "type": "histogram2d"
           }
          ],
          "histogram2dcontour": [
           {
            "colorbar": {
             "outlinewidth": 0,
             "ticks": ""
            },
            "colorscale": [
             [
              0,
              "#0d0887"
             ],
             [
              0.1111111111111111,
              "#46039f"
             ],
             [
              0.2222222222222222,
              "#7201a8"
             ],
             [
              0.3333333333333333,
              "#9c179e"
             ],
             [
              0.4444444444444444,
              "#bd3786"
             ],
             [
              0.5555555555555556,
              "#d8576b"
             ],
             [
              0.6666666666666666,
              "#ed7953"
             ],
             [
              0.7777777777777778,
              "#fb9f3a"
             ],
             [
              0.8888888888888888,
              "#fdca26"
             ],
             [
              1,
              "#f0f921"
             ]
            ],
            "type": "histogram2dcontour"
           }
          ],
          "mesh3d": [
           {
            "colorbar": {
             "outlinewidth": 0,
             "ticks": ""
            },
            "type": "mesh3d"
           }
          ],
          "parcoords": [
           {
            "line": {
             "colorbar": {
              "outlinewidth": 0,
              "ticks": ""
             }
            },
            "type": "parcoords"
           }
          ],
          "pie": [
           {
            "automargin": true,
            "type": "pie"
           }
          ],
          "scatter": [
           {
            "fillpattern": {
             "fillmode": "overlay",
             "size": 10,
             "solidity": 0.2
            },
            "type": "scatter"
           }
          ],
          "scatter3d": [
           {
            "line": {
             "colorbar": {
              "outlinewidth": 0,
              "ticks": ""
             }
            },
            "marker": {
             "colorbar": {
              "outlinewidth": 0,
              "ticks": ""
             }
            },
            "type": "scatter3d"
           }
          ],
          "scattercarpet": [
           {
            "marker": {
             "colorbar": {
              "outlinewidth": 0,
              "ticks": ""
             }
            },
            "type": "scattercarpet"
           }
          ],
          "scattergeo": [
           {
            "marker": {
             "colorbar": {
              "outlinewidth": 0,
              "ticks": ""
             }
            },
            "type": "scattergeo"
           }
          ],
          "scattergl": [
           {
            "marker": {
             "colorbar": {
              "outlinewidth": 0,
              "ticks": ""
             }
            },
            "type": "scattergl"
           }
          ],
          "scattermap": [
           {
            "marker": {
             "colorbar": {
              "outlinewidth": 0,
              "ticks": ""
             }
            },
            "type": "scattermap"
           }
          ],
          "scattermapbox": [
           {
            "marker": {
             "colorbar": {
              "outlinewidth": 0,
              "ticks": ""
             }
            },
            "type": "scattermapbox"
           }
          ],
          "scatterpolar": [
           {
            "marker": {
             "colorbar": {
              "outlinewidth": 0,
              "ticks": ""
             }
            },
            "type": "scatterpolar"
           }
          ],
          "scatterpolargl": [
           {
            "marker": {
             "colorbar": {
              "outlinewidth": 0,
              "ticks": ""
             }
            },
            "type": "scatterpolargl"
           }
          ],
          "scatterternary": [
           {
            "marker": {
             "colorbar": {
              "outlinewidth": 0,
              "ticks": ""
             }
            },
            "type": "scatterternary"
           }
          ],
          "surface": [
           {
            "colorbar": {
             "outlinewidth": 0,
             "ticks": ""
            },
            "colorscale": [
             [
              0,
              "#0d0887"
             ],
             [
              0.1111111111111111,
              "#46039f"
             ],
             [
              0.2222222222222222,
              "#7201a8"
             ],
             [
              0.3333333333333333,
              "#9c179e"
             ],
             [
              0.4444444444444444,
              "#bd3786"
             ],
             [
              0.5555555555555556,
              "#d8576b"
             ],
             [
              0.6666666666666666,
              "#ed7953"
             ],
             [
              0.7777777777777778,
              "#fb9f3a"
             ],
             [
              0.8888888888888888,
              "#fdca26"
             ],
             [
              1,
              "#f0f921"
             ]
            ],
            "type": "surface"
           }
          ],
          "table": [
           {
            "cells": {
             "fill": {
              "color": "#EBF0F8"
             },
             "line": {
              "color": "white"
             }
            },
            "header": {
             "fill": {
              "color": "#C8D4E3"
             },
             "line": {
              "color": "white"
             }
            },
            "type": "table"
           }
          ]
         },
         "layout": {
          "annotationdefaults": {
           "arrowcolor": "#2a3f5f",
           "arrowhead": 0,
           "arrowwidth": 1
          },
          "autotypenumbers": "strict",
          "coloraxis": {
           "colorbar": {
            "outlinewidth": 0,
            "ticks": ""
           }
          },
          "colorscale": {
           "diverging": [
            [
             0,
             "#8e0152"
            ],
            [
             0.1,
             "#c51b7d"
            ],
            [
             0.2,
             "#de77ae"
            ],
            [
             0.3,
             "#f1b6da"
            ],
            [
             0.4,
             "#fde0ef"
            ],
            [
             0.5,
             "#f7f7f7"
            ],
            [
             0.6,
             "#e6f5d0"
            ],
            [
             0.7,
             "#b8e186"
            ],
            [
             0.8,
             "#7fbc41"
            ],
            [
             0.9,
             "#4d9221"
            ],
            [
             1,
             "#276419"
            ]
           ],
           "sequential": [
            [
             0,
             "#0d0887"
            ],
            [
             0.1111111111111111,
             "#46039f"
            ],
            [
             0.2222222222222222,
             "#7201a8"
            ],
            [
             0.3333333333333333,
             "#9c179e"
            ],
            [
             0.4444444444444444,
             "#bd3786"
            ],
            [
             0.5555555555555556,
             "#d8576b"
            ],
            [
             0.6666666666666666,
             "#ed7953"
            ],
            [
             0.7777777777777778,
             "#fb9f3a"
            ],
            [
             0.8888888888888888,
             "#fdca26"
            ],
            [
             1,
             "#f0f921"
            ]
           ],
           "sequentialminus": [
            [
             0,
             "#0d0887"
            ],
            [
             0.1111111111111111,
             "#46039f"
            ],
            [
             0.2222222222222222,
             "#7201a8"
            ],
            [
             0.3333333333333333,
             "#9c179e"
            ],
            [
             0.4444444444444444,
             "#bd3786"
            ],
            [
             0.5555555555555556,
             "#d8576b"
            ],
            [
             0.6666666666666666,
             "#ed7953"
            ],
            [
             0.7777777777777778,
             "#fb9f3a"
            ],
            [
             0.8888888888888888,
             "#fdca26"
            ],
            [
             1,
             "#f0f921"
            ]
           ]
          },
          "colorway": [
           "#636efa",
           "#EF553B",
           "#00cc96",
           "#ab63fa",
           "#FFA15A",
           "#19d3f3",
           "#FF6692",
           "#B6E880",
           "#FF97FF",
           "#FECB52"
          ],
          "font": {
           "color": "#2a3f5f"
          },
          "geo": {
           "bgcolor": "white",
           "lakecolor": "white",
           "landcolor": "#E5ECF6",
           "showlakes": true,
           "showland": true,
           "subunitcolor": "white"
          },
          "hoverlabel": {
           "align": "left"
          },
          "hovermode": "closest",
          "mapbox": {
           "style": "light"
          },
          "paper_bgcolor": "white",
          "plot_bgcolor": "#E5ECF6",
          "polar": {
           "angularaxis": {
            "gridcolor": "white",
            "linecolor": "white",
            "ticks": ""
           },
           "bgcolor": "#E5ECF6",
           "radialaxis": {
            "gridcolor": "white",
            "linecolor": "white",
            "ticks": ""
           }
          },
          "scene": {
           "xaxis": {
            "backgroundcolor": "#E5ECF6",
            "gridcolor": "white",
            "gridwidth": 2,
            "linecolor": "white",
            "showbackground": true,
            "ticks": "",
            "zerolinecolor": "white"
           },
           "yaxis": {
            "backgroundcolor": "#E5ECF6",
            "gridcolor": "white",
            "gridwidth": 2,
            "linecolor": "white",
            "showbackground": true,
            "ticks": "",
            "zerolinecolor": "white"
           },
           "zaxis": {
            "backgroundcolor": "#E5ECF6",
            "gridcolor": "white",
            "gridwidth": 2,
            "linecolor": "white",
            "showbackground": true,
            "ticks": "",
            "zerolinecolor": "white"
           }
          },
          "shapedefaults": {
           "line": {
            "color": "#2a3f5f"
           }
          },
          "ternary": {
           "aaxis": {
            "gridcolor": "white",
            "linecolor": "white",
            "ticks": ""
           },
           "baxis": {
            "gridcolor": "white",
            "linecolor": "white",
            "ticks": ""
           },
           "bgcolor": "#E5ECF6",
           "caxis": {
            "gridcolor": "white",
            "linecolor": "white",
            "ticks": ""
           }
          },
          "title": {
           "x": 0.05
          },
          "xaxis": {
           "automargin": true,
           "gridcolor": "white",
           "linecolor": "white",
           "ticks": "",
           "title": {
            "standoff": 15
           },
           "zerolinecolor": "white",
           "zerolinewidth": 2
          },
          "yaxis": {
           "automargin": true,
           "gridcolor": "white",
           "linecolor": "white",
           "ticks": "",
           "title": {
            "standoff": 15
           },
           "zerolinecolor": "white",
           "zerolinewidth": 2
          }
         }
        },
        "title": {
         "text": "Map of NYC Airbnb Prices"
        }
       }
      },
      "image/png": "[encoded data removed]"
     },
     "metadata": {},
     "output_type": "display_data"
    }
   ],
   "source": [
    "fig = px.scatter_map(df_filtered,\n",
    "                        lat=\"latitude\",\n",
    "                        lon=\"longitude\",\n",
    "                        color=\"price\",\n",
    "                        color_continuous_scale=px.colors.cyclical.IceFire,\n",
    "                        zoom=10,\n",
    "                        map_style=\"carto-positron\",\n",
    "                        title=\"Map of Albany Airbnb Prices\",\n",
    "                        hover_name=\"name\",\n",
    "                        hover_data={\"neighbourhood\": True, \"price\": True, \"room_type\": True})\n",
    "fig.show()"
   ]
  },
  {
   "cell_type": "code",
   "execution_count": 7,
   "id": "4fa7c7da-65b4-4c7e-b896-54eea2cc6419",
   "metadata": {},
   "outputs": [
    {
     "data": {
      "application/vnd.plotly.v1+json": {
       "config": {
        "plotlyServerURL": "https://plot.ly"
       },
       "data": [
        {
         "hovertemplate": "availability_category=Low<br>latitude=%{lat}<br>longitude=%{lon}<extra></extra>",
         "lat": {
          "bdata": "xy5RvTVURUC7Jw8LtVJFQKnw8KScVUVAnMQgsHJURUBQqn06HlNFQNjw9EpZUkVAmPp5U5FSRUBQwkzbv1ZFQCxlGeJYU0VAJuSDns1SRUA8pYP1f1JFQManABjPVEVAgxd9BWlSRUBfe2ZJgFJFQNk9eVioVUVAzR5oBYZURUA0orQ3+FZFQDliLT4FVEVAIHu9++NVRUCSlsrbEVZFQJFhFW9kUkVAmrZ/ZaVVRUDP2m0XmlNFQOZizZOyVEVAD2JnCp1TRUAfhetRuFJFQPpEniRdU0VAWrvtQnNVRUAvwD46dVVFQBHkoISZUkVAkSxgArdSRUBR2ht8YVZFQDV7oBUYVkVAqmVrfZFURUA1e6AVGFZFQFSM8zehVEVAgPm/fuNURUB381SH3FRFQElL5e0IV0VAH9eGinFSRUDBHD1+b1NFQIs3Mo/8VUVAVACMZ9BURUA1e6AVGFZFQBKI1/ULVkVAKxiV1AlURUCMxleaCldFQC9uowG8UUVAXSCcqtZTRUA1Ru9kDVRFQEz9vKlIVUVAbLKBq4pSRUC5UzpY/1NFQLjM6bKYVEVAfbxGgfRTRUAOEMzR41NFQEI+6NmsUkVAdqbQeY1VRUDy7zMuHFRFQEgbR6zFU0VA/aTap+NRRUDyXrUy4VNFQGqkpfJ2VEVAH9eGinFSRUADWyVYHFJFQI82jliLU0VAsRU0LbFSRUBgWWlSClJFQMqmXOFdUkVAz9ptF5pTRUB8LH3oglJFQLRxxFp8UkVAmwRvSKNTRUC6FFeVfVNFQIj029eBU0VAH9eGinFSRUCduvJZnlNFQOscA7LXU0VAcLGiBtNURUAgKSLDKlZFQF8FJ72bU0VAkj5Zj5lSRUBNRGomxlRFQCsTfqmfU0VABkzC+HJWRUC8Xdudx1ZFQCVPGSvkU0VAePym9z5VRUCrGtBzq1RFQA==",
          "dtype": "f8"
         },
         "legendgroup": "Low",
         "lon": {
          "bdata": "sb/snjxwUsAUBfpEnnBSwL5N6fV0b1LAQGoTJ/dzUsCBeF2/YHNSwNxoAG+BcFLAfA+XHHdwUsCMhLacS29SwKmkTkATcVLA2EenrnxwUsCVK7zLRXBSwNU+HY8ZclLAnwJgPINyUsCgVPt0PHBSwLcLzXUac1LAM6fLYmJxUsCRCmMLQXRSwB75g4HncFLASddMvtlyUsAJFoczv3JSwD/G3LWEcFLAGmmpvB1zUsAXZTbIJHFSwCV9NVPwcFLAyZOkayZxUsAKSzygbHBSwCntDb4wcVLApb3BFyZzUsDQuHAgJHNSwN/DJcedcFLANWPRdHZwUsD3ksZoHXNSwPSJPEm6clLA3NeBc0ZyUsD0iTxJunJSwBQF+kSeclLAKsjPRi50UsC1bK0vEnRSwHE486s5cFLAPIidKXRwUsAFbt3NU3FSwPsFu2HbclLAuwopP6lyUsAYYB+dunJSwKnZA63AclLABP9byY5xUsC2hdq1SnRSwNDyPLg7cVLAKj9fac9yUsAAAAAe9m9SwP5g4Ln3cFLAAX4I3XVxUsAZmHBD53BSwMcuUb01clLAl15RAPtyUsBUOlj/53BSwH9N1qiHcFLAJ4Oj5NVxUsA8oGzKFXBSwNvcmJ6wcFLA9dvXgXNwUsCeB3dn7XBSwBH8byU7clLAPIidKXRwUsAdWmQ733FSwNBhvrwAcVLAlsyxvKtwUsBos+pztXFSwOrsZHCUcFLAPujZrPpwUsANiXssfXBSwATKplzhcVLA3vvA+uRwUsBiodY073BSwNAKDFndcFLAPIidKXRwUsAC8bp+wXBSwHh/vFetclLApOTVOQZyUsC4QILix3JSwHb389xCcVLAfaKY/YFwUsDuhT9JCHJSwN5Zu+1CcVLAEZFl7AFwUsDSSrmd7W9SwM9r+VYLc1LAAAAwPGd0UsC+B7BXaHJSwA==",
          "dtype": "f8"
         },
         "marker": {
          "color": "blue"
         },
         "mode": "markers",
         "name": "Low",
         "showlegend": true,
         "subplot": "map",
         "type": "scattermap"
        },
        {
         "hovertemplate": "availability_category=High<br>latitude=%{lat}<br>longitude=%{lon}<extra></extra>",
         "lat": {
          "bdata": "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",
          "dtype": "f8"
         },
         "legendgroup": "High",
         "lon": {
          "bdata": "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",
          "dtype": "f8"
         },
         "marker": {
          "color": "red"
         },
         "mode": "markers",
         "name": "High",
         "showlegend": true,
         "subplot": "map",
         "type": "scattermap"
        }
       ],
       "layout": {
        "legend": {
         "title": {
          "text": "availability_category"
         },
         "tracegroupgap": 0
        },
        "map": {
         "center": {
          "lat": 42.65848679059065,
          "lon": -73.77697544242547
         },
         "domain": {
          "x": [
           0,
           1
          ],
          "y": [
           0,
           1
          ]
         },
         "style": "carto-positron",
         "zoom": 10
        },
        "mapbox": {
         "center": {
          "lat": 42.65848679059065,
          "lon": -73.77697544242547
         },
         "style": "carto-positron",
         "zoom": 10
        },
        "template": {
         "data": {
          "bar": [
           {
            "error_x": {
             "color": "#2a3f5f"
            },
            "error_y": {
             "color": "#2a3f5f"
            },
            "marker": {
             "line": {
              "color": "#E5ECF6",
              "width": 0.5
             },
             "pattern": {
              "fillmode": "overlay",
              "size": 10,
              "solidity": 0.2
             }
            },
            "type": "bar"
           }
          ],
          "barpolar": [
           {
            "marker": {
             "line": {
              "color": "#E5ECF6",
              "width": 0.5
             },
             "pattern": {
              "fillmode": "overlay",
              "size": 10,
              "solidity": 0.2
             }
            },
            "type": "barpolar"
           }
          ],
          "carpet": [
           {
            "aaxis": {
             "endlinecolor": "#2a3f5f",
             "gridcolor": "white",
             "linecolor": "white",
             "minorgridcolor": "white",
             "startlinecolor": "#2a3f5f"
            },
            "baxis": {
             "endlinecolor": "#2a3f5f",
             "gridcolor": "white",
             "linecolor": "white",
             "minorgridcolor": "white",
             "startlinecolor": "#2a3f5f"
            },
            "type": "carpet"
           }
          ],
          "choropleth": [
           {
            "colorbar": {
             "outlinewidth": 0,
             "ticks": ""
            },
            "type": "choropleth"
           }
          ],
          "contour": [
           {
            "colorbar": {
             "outlinewidth": 0,
             "ticks": ""
            },
            "colorscale": [
             [
              0,
              "#0d0887"
             ],
             [
              0.1111111111111111,
              "#46039f"
             ],
             [
              0.2222222222222222,
              "#7201a8"
             ],
             [
              0.3333333333333333,
              "#9c179e"
             ],
             [
              0.4444444444444444,
              "#bd3786"
             ],
             [
              0.5555555555555556,
              "#d8576b"
             ],
             [
              0.6666666666666666,
              "#ed7953"
             ],
             [
              0.7777777777777778,
              "#fb9f3a"
             ],
             [
              0.8888888888888888,
              "#fdca26"
             ],
             [
              1,
              "#f0f921"
             ]
            ],
            "type": "contour"
           }
          ],
          "contourcarpet": [
           {
            "colorbar": {
             "outlinewidth": 0,
             "ticks": ""
            },
            "type": "contourcarpet"
           }
          ],
          "heatmap": [
           {
            "colorbar": {
             "outlinewidth": 0,
             "ticks": ""
            },
            "colorscale": [
             [
              0,
              "#0d0887"
             ],
             [
              0.1111111111111111,
              "#46039f"
             ],
             [
              0.2222222222222222,
              "#7201a8"
             ],
             [
              0.3333333333333333,
              "#9c179e"
             ],
             [
              0.4444444444444444,
              "#bd3786"
             ],
             [
              0.5555555555555556,
              "#d8576b"
             ],
             [
              0.6666666666666666,
              "#ed7953"
             ],
             [
              0.7777777777777778,
              "#fb9f3a"
             ],
             [
              0.8888888888888888,
              "#fdca26"
             ],
             [
              1,
              "#f0f921"
             ]
            ],
            "type": "heatmap"
           }
          ],
          "histogram": [
           {
            "marker": {
             "pattern": {
              "fillmode": "overlay",
              "size": 10,
              "solidity": 0.2
             }
            },
            "type": "histogram"
           }
          ],
          "histogram2d": [
           {
            "colorbar": {
             "outlinewidth": 0,
             "ticks": ""
            },
            "colorscale": [
             [
              0,
              "#0d0887"
             ],
             [
              0.1111111111111111,
              "#46039f"
             ],
             [
              0.2222222222222222,
              "#7201a8"
             ],
             [
              0.3333333333333333,
              "#9c179e"
             ],
             [
              0.4444444444444444,
              "#bd3786"
             ],
             [
              0.5555555555555556,
              "#d8576b"
             ],
             [
              0.6666666666666666,
              "#ed7953"
             ],
             [
              0.7777777777777778,
              "#fb9f3a"
             ],
             [
              0.8888888888888888,
              "#fdca26"
             ],
             [
              1,
              "#f0f921"
             ]
            ],
            "type": "histogram2d"
           }
          ],
          "histogram2dcontour": [
           {
            "colorbar": {
             "outlinewidth": 0,
             "ticks": ""
            },
            "colorscale": [
             [
              0,
              "#0d0887"
             ],
             [
              0.1111111111111111,
              "#46039f"
             ],
             [
              0.2222222222222222,
              "#7201a8"
             ],
             [
              0.3333333333333333,
              "#9c179e"
             ],
             [
              0.4444444444444444,
              "#bd3786"
             ],
             [
              0.5555555555555556,
              "#d8576b"
             ],
             [
              0.6666666666666666,
              "#ed7953"
             ],
             [
              0.7777777777777778,
              "#fb9f3a"
             ],
             [
              0.8888888888888888,
              "#fdca26"
             ],
             [
              1,
              "#f0f921"
             ]
            ],
            "type": "histogram2dcontour"
           }
          ],
          "mesh3d": [
           {
            "colorbar": {
             "outlinewidth": 0,
             "ticks": ""
            },
            "type": "mesh3d"
           }
          ],
          "parcoords": [
           {
            "line": {
             "colorbar": {
              "outlinewidth": 0,
              "ticks": ""
             }
            },
            "type": "parcoords"
           }
          ],
          "pie": [
           {
            "automargin": true,
            "type": "pie"
           }
          ],
          "scatter": [
           {
            "fillpattern": {
             "fillmode": "overlay",
             "size": 10,
             "solidity": 0.2
            },
            "type": "scatter"
           }
          ],
          "scatter3d": [
           {
            "line": {
             "colorbar": {
              "outlinewidth": 0,
              "ticks": ""
             }
            },
            "marker": {
             "colorbar": {
              "outlinewidth": 0,
              "ticks": ""
             }
            },
            "type": "scatter3d"
           }
          ],
          "scattercarpet": [
           {
            "marker": {
             "colorbar": {
              "outlinewidth": 0,
              "ticks": ""
             }
            },
            "type": "scattercarpet"
           }
          ],
          "scattergeo": [
           {
            "marker": {
             "colorbar": {
              "outlinewidth": 0,
              "ticks": ""
             }
            },
            "type": "scattergeo"
           }
          ],
          "scattergl": [
           {
            "marker": {
             "colorbar": {
              "outlinewidth": 0,
              "ticks": ""
             }
            },
            "type": "scattergl"
           }
          ],
          "scattermap": [
           {
            "marker": {
             "colorbar": {
              "outlinewidth": 0,
              "ticks": ""
             }
            },
            "type": "scattermap"
           }
          ],
          "scattermapbox": [
           {
            "marker": {
             "colorbar": {
              "outlinewidth": 0,
              "ticks": ""
             }
            },
            "type": "scattermapbox"
           }
          ],
          "scatterpolar": [
           {
            "marker": {
             "colorbar": {
              "outlinewidth": 0,
              "ticks": ""
             }
            },
            "type": "scatterpolar"
           }
          ],
          "scatterpolargl": [
           {
            "marker": {
             "colorbar": {
              "outlinewidth": 0,
              "ticks": ""
             }
            },
            "type": "scatterpolargl"
           }
          ],
          "scatterternary": [
           {
            "marker": {
             "colorbar": {
              "outlinewidth": 0,
              "ticks": ""
             }
            },
            "type": "scatterternary"
           }
          ],
          "surface": [
           {
            "colorbar": {
             "outlinewidth": 0,
             "ticks": ""
            },
            "colorscale": [
             [
              0,
              "#0d0887"
             ],
             [
              0.1111111111111111,
              "#46039f"
             ],
             [
              0.2222222222222222,
              "#7201a8"
             ],
             [
              0.3333333333333333,
              "#9c179e"
             ],
             [
              0.4444444444444444,
              "#bd3786"
             ],
             [
              0.5555555555555556,
              "#d8576b"
             ],
             [
              0.6666666666666666,
              "#ed7953"
             ],
             [
              0.7777777777777778,
              "#fb9f3a"
             ],
             [
              0.8888888888888888,
              "#fdca26"
             ],
             [
              1,
              "#f0f921"
             ]
            ],
            "type": "surface"
           }
          ],
          "table": [
           {
            "cells": {
             "fill": {
              "color": "#EBF0F8"
             },
             "line": {
              "color": "white"
             }
            },
            "header": {
             "fill": {
              "color": "#C8D4E3"
             },
             "line": {
              "color": "white"
             }
            },
            "type": "table"
           }
          ]
         },
         "layout": {
          "annotationdefaults": {
           "arrowcolor": "#2a3f5f",
           "arrowhead": 0,
           "arrowwidth": 1
          },
          "autotypenumbers": "strict",
          "coloraxis": {
           "colorbar": {
            "outlinewidth": 0,
            "ticks": ""
           }
          },
          "colorscale": {
           "diverging": [
            [
             0,
             "#8e0152"
            ],
            [
             0.1,
             "#c51b7d"
            ],
            [
             0.2,
             "#de77ae"
            ],
            [
             0.3,
             "#f1b6da"
            ],
            [
             0.4,
             "#fde0ef"
            ],
            [
             0.5,
             "#f7f7f7"
            ],
            [
             0.6,
             "#e6f5d0"
            ],
            [
             0.7,
             "#b8e186"
            ],
            [
             0.8,
             "#7fbc41"
            ],
            [
             0.9,
             "#4d9221"
            ],
            [
             1,
             "#276419"
            ]
           ],
           "sequential": [
            [
             0,
             "#0d0887"
            ],
            [
             0.1111111111111111,
             "#46039f"
            ],
            [
             0.2222222222222222,
             "#7201a8"
            ],
            [
             0.3333333333333333,
             "#9c179e"
            ],
            [
             0.4444444444444444,
             "#bd3786"
            ],
            [
             0.5555555555555556,
             "#d8576b"
            ],
            [
             0.6666666666666666,
             "#ed7953"
            ],
            [
             0.7777777777777778,
             "#fb9f3a"
            ],
            [
             0.8888888888888888,
             "#fdca26"
            ],
            [
             1,
             "#f0f921"
            ]
           ],
           "sequentialminus": [
            [
             0,
             "#0d0887"
            ],
            [
             0.1111111111111111,
             "#46039f"
            ],
            [
             0.2222222222222222,
             "#7201a8"
            ],
            [
             0.3333333333333333,
             "#9c179e"
            ],
            [
             0.4444444444444444,
             "#bd3786"
            ],
            [
             0.5555555555555556,
             "#d8576b"
            ],
            [
             0.6666666666666666,
             "#ed7953"
            ],
            [
             0.7777777777777778,
             "#fb9f3a"
            ],
            [
             0.8888888888888888,
             "#fdca26"
            ],
            [
             1,
             "#f0f921"
            ]
           ]
          },
          "colorway": [
           "#636efa",
           "#EF553B",
           "#00cc96",
           "#ab63fa",
           "#FFA15A",
           "#19d3f3",
           "#FF6692",
           "#B6E880",
           "#FF97FF",
           "#FECB52"
          ],
          "font": {
           "color": "#2a3f5f"
          },
          "geo": {
           "bgcolor": "white",
           "lakecolor": "white",
           "landcolor": "#E5ECF6",
           "showlakes": true,
           "showland": true,
           "subunitcolor": "white"
          },
          "hoverlabel": {
           "align": "left"
          },
          "hovermode": "closest",
          "mapbox": {
           "style": "light"
          },
          "paper_bgcolor": "white",
          "plot_bgcolor": "#E5ECF6",
          "polar": {
           "angularaxis": {
            "gridcolor": "white",
            "linecolor": "white",
            "ticks": ""
           },
           "bgcolor": "#E5ECF6",
           "radialaxis": {
            "gridcolor": "white",
            "linecolor": "white",
            "ticks": ""
           }
          },
          "scene": {
           "xaxis": {
            "backgroundcolor": "#E5ECF6",
            "gridcolor": "white",
            "gridwidth": 2,
            "linecolor": "white",
            "showbackground": true,
            "ticks": "",
            "zerolinecolor": "white"
           },
           "yaxis": {
            "backgroundcolor": "#E5ECF6",
            "gridcolor": "white",
            "gridwidth": 2,
            "linecolor": "white",
            "showbackground": true,
            "ticks": "",
            "zerolinecolor": "white"
           },
           "zaxis": {
            "backgroundcolor": "#E5ECF6",
            "gridcolor": "white",
            "gridwidth": 2,
            "linecolor": "white",
            "showbackground": true,
            "ticks": "",
            "zerolinecolor": "white"
           }
          },
          "shapedefaults": {
           "line": {
            "color": "#2a3f5f"
           }
          },
          "ternary": {
           "aaxis": {
            "gridcolor": "white",
            "linecolor": "white",
            "ticks": ""
           },
           "baxis": {
            "gridcolor": "white",
            "linecolor": "white",
            "ticks": ""
           },
           "bgcolor": "#E5ECF6",
           "caxis": {
            "gridcolor": "white",
            "linecolor": "white",
            "ticks": ""
           }
          },
          "title": {
           "x": 0.05
          },
          "xaxis": {
           "automargin": true,
           "gridcolor": "white",
           "linecolor": "white",
           "ticks": "",
           "title": {
            "standoff": 15
           },
           "zerolinecolor": "white",
           "zerolinewidth": 2
          },
          "yaxis": {
           "automargin": true,
           "gridcolor": "white",
           "linecolor": "white",
           "ticks": "",
           "title": {
            "standoff": 15
           },
           "zerolinecolor": "white",
           "zerolinewidth": 2
          }
         }
        },
        "title": {
         "text": "Map of High vs. Low Availability Listings"
        }
       }
      },
      "image/png": "[encoded data removed]"
     },
     "metadata": {},
     "output_type": "display_data"
    }
   ],
   "source": [
    "df['availability_category'] = df['availability_365'].apply(lambda x: 'High' if x > 90 else 'Low')\n",
    "\n",
    "fig = px.scatter_map(df,\n",
    "                        lat=\"latitude\",\n",
    "                        lon=\"longitude\",\n",
    "                        color=\"availability_category\",\n",
    "                        color_discrete_map={'High': 'red', 'Low': 'blue'},\n",
    "                        zoom=10,\n",
    "                        map_style=\"carto-positron\",\n",
    "                        title=\"Map of High vs. Low Availability Listings\")\n",
    "fig.show()"
   ]
  },
  {
   "cell_type": "code",
   "execution_count": 8,
   "id": "b4e6cf3d-7011-4b9c-90e5-bdec7330e4d8",
   "metadata": {},
   "outputs": [
    {
     "data": {
      "application/vnd.plotly.v1+json": {
       "config": {
        "plotlyServerURL": "https://plot.ly"
       },
       "data": [
        {
         "hovertemplate": "Number of Reviews=%{x}<br>Price (USD)=%{y}<extra></extra>",
         "legendgroup": "",
         "marker": {
          "color": "#636efa",
          "symbol": "circle"
         },
         "mode": "markers",
         "name": "",
         "orientation": "v",
         "showlegend": false,
         "type": "scatter",
         "x": {
          "bdata": "CQA0AXMBSwFsAqIBGAO8AOcAHAC9AHEAMADpAYQAOgBSAHMATQCDADAALgCDALUAIAAaAHkAegAyAKADDgCOABoADgBcAA8BswJ0AgcAawBEACAAAQDAAcsBPgHGADQBNgCmASwAGACCAK0ABAAYALsAGwBzAHAAEgBbAHIBLgEaAIEAKACaAGMAegCQAAEBXQBBAEcArAAVAAkAqACnAOQATABmAAQAWQC5ABAALQD/ABwACQBOAFoACwBIAEABhwBZAFoAVQBMAM0APgCeAA0BdwAoAGkARQCFAPMA4AA4ADkAAgAtAA0AewALALEACAAKABAAOQA5AAgABgAzAAUAAgBnAIgAcgADAAQACgFoAAQAAwAIAEEA6ABAAAEATwAuACYAEQAgABEAGwBUAFgAEQAOADMALQAfAD4AEgADAAQAJABuAEMADgAOAAYAAwAUAAYACQABABEAKAADACAAZwAGAAwAAgB0ABMAAgCuABAAFgAEABQAPQAbAB0ANQAxABIAQgADAEMAKwApAAIABwAHAAIABgAQABkAIgAJAAYAEwCsAHYAEwBkABUAewAZAAQABwASAAkAIwA3AEAAQABGABYAKQABABAAVgA9AI4AFQAdAFMAAgAwABMAAQAJAAEAEgAMAAIAGAAHAAEAEQBAAC0AHAAyAAsADgAmABwABgAxAAQABQADADAAAgAGADgAFABIAAsAAgAOAAIALgASADcAGQAVABEAEACCABsAFwAhAAYAAgAKAAIABwAOACEAKwA3AAIAGwAHACAABAAHAAEACgAGAAgAGQAGAAEADwAFACIAAgASAAIAAgABAAMAAQAdAAkAKwAUAAgAGwABAAEADAAEAAgAAQADABQAAgADABoADgAGAA0AAQACAAMAAgAFAAEAAwACAAEAAgACAAMAAQAFAAEA",
          "dtype": "i2"
         },
         "xaxis": "x",
         "y": {
          "bdata": "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",
          "dtype": "f8"
         },
         "yaxis": "y"
        },
        {
         "hovertemplate": "<b>OLS trendline</b><br>price = -0.0366766 * number_of_reviews + 111.127<br>R<sup>2</sup>=0.005242<br><br>Number of Reviews=%{x}<br>Price (USD)=%{y} <b>(trend)</b><extra></extra>",
         "legendgroup": "",
         "marker": {
          "color": "#636efa",
          "symbol": "circle"
         },
         "mode": "lines",
         "name": "",
         "showlegend": false,
         "type": "scatter",
         "x": {
          "bdata": "AQABAAEAAQABAAEAAQABAAEAAQABAAEAAQABAAEAAQABAAEAAQACAAIAAgACAAIAAgACAAIAAgACAAIAAgACAAIAAgACAAIAAgACAAIAAgACAAIAAwADAAMAAwADAAMAAwADAAMAAwADAAMAAwAEAAQABAAEAAQABAAEAAQABAAEAAUABQAFAAUABQAGAAYABgAGAAYABgAGAAYABgAGAAYABgAHAAcABwAHAAcABwAHAAcACAAIAAgACAAIAAgACQAJAAkACQAJAAkACQAJAAoACgAKAAsACwALAAsADAAMAAwADQANAA4ADgAOAA4ADgAOAA4ADgAOAA8AEAAQABAAEAAQABAAEQARABEAEQARABEAEgASABIAEgASABIAEgATABMAEwATABQAFAAUABQAFAAVABUAFQAVABYAFgAXABgAGAAYABkAGQAZABkAGgAaABoAGgAbABsAGwAbABsAGwAcABwAHAAcAB0AHQAdAB8AIAAgACAAIAAgACEAIQAiACIAIwAkACYAJgAoACgAKAApACkAKwArACsALAAtAC0ALQAtAC4ALgAuADAAMAAwADAAMQAxADIAMgAzADMANQA2ADcANwA3ADgAOAA5ADkAOQA6AD0APQA+AD4AQABAAEAAQABBAEEAQgBDAEMARABFAEYARwBIAEgATABMAE0ATgBPAFIAUwBUAFUAVgBYAFkAWQBaAFoAWwBcAF0AYwBkAGYAZwBnAGgAaQBrAG4AcABxAHIAcwBzAHQAdgB3AHkAegB6AHsAewCBAIIAggCDAIMAhACFAIcAiACOAI4AkACaAJ4ApwCoAKwArACtAK4AsQC1ALkAuwC8AL0AxgDNAOAA5ADnAOgA8wD/AAEBCgENAQ8BLgE0ATQBPgFAAUsBcgFzAaIBpgHAAcsB6QFsAnQCswIYA6AD",
          "dtype": "i2"
         },
         "xaxis": "x",
         "y": {
          "bdata": "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",
          "dtype": "f8"
         },
         "yaxis": "y"
        }
       ],
       "layout": {
        "legend": {
         "tracegroupgap": 0
        },
        "template": {
         "data": {
          "bar": [
           {
            "error_x": {
             "color": "#2a3f5f"
            },
            "error_y": {
             "color": "#2a3f5f"
            },
            "marker": {
             "line": {
              "color": "#E5ECF6",
              "width": 0.5
             },
             "pattern": {
              "fillmode": "overlay",
              "size": 10,
              "solidity": 0.2
             }
            },
            "type": "bar"
           }
          ],
          "barpolar": [
           {
            "marker": {
             "line": {
              "color": "#E5ECF6",
              "width": 0.5
             },
             "pattern": {
              "fillmode": "overlay",
              "size": 10,
              "solidity": 0.2
             }
            },
            "type": "barpolar"
           }
          ],
          "carpet": [
           {
            "aaxis": {
             "endlinecolor": "#2a3f5f",
             "gridcolor": "white",
             "linecolor": "white",
             "minorgridcolor": "white",
             "startlinecolor": "#2a3f5f"
            },
            "baxis": {
             "endlinecolor": "#2a3f5f",
             "gridcolor": "white",
             "linecolor": "white",
             "minorgridcolor": "white",
             "startlinecolor": "#2a3f5f"
            },
            "type": "carpet"
           }
          ],
          "choropleth": [
           {
            "colorbar": {
             "outlinewidth": 0,
             "ticks": ""
            },
            "type": "choropleth"
           }
          ],
          "contour": [
           {
            "colorbar": {
             "outlinewidth": 0,
             "ticks": ""
            },
            "colorscale": [
             [
              0,
              "#0d0887"
             ],
             [
              0.1111111111111111,
              "#46039f"
             ],
             [
              0.2222222222222222,
              "#7201a8"
             ],
             [
              0.3333333333333333,
              "#9c179e"
             ],
             [
              0.4444444444444444,
              "#bd3786"
             ],
             [
              0.5555555555555556,
              "#d8576b"
             ],
             [
              0.6666666666666666,
              "#ed7953"
             ],
             [
              0.7777777777777778,
              "#fb9f3a"
             ],
             [
              0.8888888888888888,
              "#fdca26"
             ],
             [
              1,
              "#f0f921"
             ]
            ],
            "type": "contour"
           }
          ],
          "contourcarpet": [
           {
            "colorbar": {
             "outlinewidth": 0,
             "ticks": ""
            },
            "type": "contourcarpet"
           }
          ],
          "heatmap": [
           {
            "colorbar": {
             "outlinewidth": 0,
             "ticks": ""
            },
            "colorscale": [
             [
              0,
              "#0d0887"
             ],
             [
              0.1111111111111111,
              "#46039f"
             ],
             [
              0.2222222222222222,
              "#7201a8"
             ],
             [
              0.3333333333333333,
              "#9c179e"
             ],
             [
              0.4444444444444444,
              "#bd3786"
             ],
             [
              0.5555555555555556,
              "#d8576b"
             ],
             [
              0.6666666666666666,
              "#ed7953"
             ],
             [
              0.7777777777777778,
              "#fb9f3a"
             ],
             [
              0.8888888888888888,
              "#fdca26"
             ],
             [
              1,
              "#f0f921"
             ]
            ],
            "type": "heatmap"
           }
          ],
          "histogram": [
           {
            "marker": {
             "pattern": {
              "fillmode": "overlay",
              "size": 10,
              "solidity": 0.2
             }
            },
            "type": "histogram"
           }
          ],
          "histogram2d": [
           {
            "colorbar": {
             "outlinewidth": 0,
             "ticks": ""
            },
            "colorscale": [
             [
              0,
              "#0d0887"
             ],
             [
              0.1111111111111111,
              "#46039f"
             ],
             [
              0.2222222222222222,
              "#7201a8"
             ],
             [
              0.3333333333333333,
              "#9c179e"
             ],
             [
              0.4444444444444444,
              "#bd3786"
             ],
             [
              0.5555555555555556,
              "#d8576b"
             ],
             [
              0.6666666666666666,
              "#ed7953"
             ],
             [
              0.7777777777777778,
              "#fb9f3a"
             ],
             [
              0.8888888888888888,
              "#fdca26"
             ],
             [
              1,
              "#f0f921"
             ]
            ],
            "type": "histogram2d"
           }
          ],
          "histogram2dcontour": [
           {
            "colorbar": {
             "outlinewidth": 0,
             "ticks": ""
            },
            "colorscale": [
             [
              0,
              "#0d0887"
             ],
             [
              0.1111111111111111,
              "#46039f"
             ],
             [
              0.2222222222222222,
              "#7201a8"
             ],
             [
              0.3333333333333333,
              "#9c179e"
             ],
             [
              0.4444444444444444,
              "#bd3786"
             ],
             [
              0.5555555555555556,
              "#d8576b"
             ],
             [
              0.6666666666666666,
              "#ed7953"
             ],
             [
              0.7777777777777778,
              "#fb9f3a"
             ],
             [
              0.8888888888888888,
              "#fdca26"
             ],
             [
              1,
              "#f0f921"
             ]
            ],
            "type": "histogram2dcontour"
           }
          ],
          "mesh3d": [
           {
            "colorbar": {
             "outlinewidth": 0,
             "ticks": ""
            },
            "type": "mesh3d"
           }
          ],
          "parcoords": [
           {
            "line": {
             "colorbar": {
              "outlinewidth": 0,
              "ticks": ""
             }
            },
            "type": "parcoords"
           }
          ],
          "pie": [
           {
            "automargin": true,
            "type": "pie"
           }
          ],
          "scatter": [
           {
            "fillpattern": {
             "fillmode": "overlay",
             "size": 10,
             "solidity": 0.2
            },
            "type": "scatter"
           }
          ],
          "scatter3d": [
           {
            "line": {
             "colorbar": {
              "outlinewidth": 0,
              "ticks": ""
             }
            },
            "marker": {
             "colorbar": {
              "outlinewidth": 0,
              "ticks": ""
             }
            },
            "type": "scatter3d"
           }
          ],
          "scattercarpet": [
           {
            "marker": {
             "colorbar": {
              "outlinewidth": 0,
              "ticks": ""
             }
            },
            "type": "scattercarpet"
           }
          ],
          "scattergeo": [
           {
            "marker": {
             "colorbar": {
              "outlinewidth": 0,
              "ticks": ""
             }
            },
            "type": "scattergeo"
           }
          ],
          "scattergl": [
           {
            "marker": {
             "colorbar": {
              "outlinewidth": 0,
              "ticks": ""
             }
            },
            "type": "scattergl"
           }
          ],
          "scattermap": [
           {
            "marker": {
             "colorbar": {
              "outlinewidth": 0,
              "ticks": ""
             }
            },
            "type": "scattermap"
           }
          ],
          "scattermapbox": [
           {
            "marker": {
             "colorbar": {
              "outlinewidth": 0,
              "ticks": ""
             }
            },
            "type": "scattermapbox"
           }
          ],
          "scatterpolar": [
           {
            "marker": {
             "colorbar": {
              "outlinewidth": 0,
              "ticks": ""
             }
            },
            "type": "scatterpolar"
           }
          ],
          "scatterpolargl": [
           {
            "marker": {
             "colorbar": {
              "outlinewidth": 0,
              "ticks": ""
             }
            },
            "type": "scatterpolargl"
           }
          ],
          "scatterternary": [
           {
            "marker": {
             "colorbar": {
              "outlinewidth": 0,
              "ticks": ""
             }
            },
            "type": "scatterternary"
           }
          ],
          "surface": [
           {
            "colorbar": {
             "outlinewidth": 0,
             "ticks": ""
            },
            "colorscale": [
             [
              0,
              "#0d0887"
             ],
             [
              0.1111111111111111,
              "#46039f"
             ],
             [
              0.2222222222222222,
              "#7201a8"
             ],
             [
              0.3333333333333333,
              "#9c179e"
             ],
             [
              0.4444444444444444,
              "#bd3786"
             ],
             [
              0.5555555555555556,
              "#d8576b"
             ],
             [
              0.6666666666666666,
              "#ed7953"
             ],
             [
              0.7777777777777778,
              "#fb9f3a"
             ],
             [
              0.8888888888888888,
              "#fdca26"
             ],
             [
              1,
              "#f0f921"
             ]
            ],
            "type": "surface"
           }
          ],
          "table": [
           {
            "cells": {
             "fill": {
              "color": "#EBF0F8"
             },
             "line": {
              "color": "white"
             }
            },
            "header": {
             "fill": {
              "color": "#C8D4E3"
             },
             "line": {
              "color": "white"
             }
            },
            "type": "table"
           }
          ]
         },
         "layout": {
          "annotationdefaults": {
           "arrowcolor": "#2a3f5f",
           "arrowhead": 0,
           "arrowwidth": 1
          },
          "autotypenumbers": "strict",
          "coloraxis": {
           "colorbar": {
            "outlinewidth": 0,
            "ticks": ""
           }
          },
          "colorscale": {
           "diverging": [
            [
             0,
             "#8e0152"
            ],
            [
             0.1,
             "#c51b7d"
            ],
            [
             0.2,
             "#de77ae"
            ],
            [
             0.3,
             "#f1b6da"
            ],
            [
             0.4,
             "#fde0ef"
            ],
            [
             0.5,
             "#f7f7f7"
            ],
            [
             0.6,
             "#e6f5d0"
            ],
            [
             0.7,
             "#b8e186"
            ],
            [
             0.8,
             "#7fbc41"
            ],
            [
             0.9,
             "#4d9221"
            ],
            [
             1,
             "#276419"
            ]
           ],
           "sequential": [
            [
             0,
             "#0d0887"
            ],
            [
             0.1111111111111111,
             "#46039f"
            ],
            [
             0.2222222222222222,
             "#7201a8"
            ],
            [
             0.3333333333333333,
             "#9c179e"
            ],
            [
             0.4444444444444444,
             "#bd3786"
            ],
            [
             0.5555555555555556,
             "#d8576b"
            ],
            [
             0.6666666666666666,
             "#ed7953"
            ],
            [
             0.7777777777777778,
             "#fb9f3a"
            ],
            [
             0.8888888888888888,
             "#fdca26"
            ],
            [
             1,
             "#f0f921"
            ]
           ],
           "sequentialminus": [
            [
             0,
             "#0d0887"
            ],
            [
             0.1111111111111111,
             "#46039f"
            ],
            [
             0.2222222222222222,
             "#7201a8"
            ],
            [
             0.3333333333333333,
             "#9c179e"
            ],
            [
             0.4444444444444444,
             "#bd3786"
            ],
            [
             0.5555555555555556,
             "#d8576b"
            ],
            [
             0.6666666666666666,
             "#ed7953"
            ],
            [
             0.7777777777777778,
             "#fb9f3a"
            ],
            [
             0.8888888888888888,
             "#fdca26"
            ],
            [
             1,
             "#f0f921"
            ]
           ]
          },
          "colorway": [
           "#636efa",
           "#EF553B",
           "#00cc96",
           "#ab63fa",
           "#FFA15A",
           "#19d3f3",
           "#FF6692",
           "#B6E880",
           "#FF97FF",
           "#FECB52"
          ],
          "font": {
           "color": "#2a3f5f"
          },
          "geo": {
           "bgcolor": "white",
           "lakecolor": "white",
           "landcolor": "#E5ECF6",
           "showlakes": true,
           "showland": true,
           "subunitcolor": "white"
          },
          "hoverlabel": {
           "align": "left"
          },
          "hovermode": "closest",
          "mapbox": {
           "style": "light"
          },
          "paper_bgcolor": "white",
          "plot_bgcolor": "#E5ECF6",
          "polar": {
           "angularaxis": {
            "gridcolor": "white",
            "linecolor": "white",
            "ticks": ""
           },
           "bgcolor": "#E5ECF6",
           "radialaxis": {
            "gridcolor": "white",
            "linecolor": "white",
            "ticks": ""
           }
          },
          "scene": {
           "xaxis": {
            "backgroundcolor": "#E5ECF6",
            "gridcolor": "white",
            "gridwidth": 2,
            "linecolor": "white",
            "showbackground": true,
            "ticks": "",
            "zerolinecolor": "white"
           },
           "yaxis": {
            "backgroundcolor": "#E5ECF6",
            "gridcolor": "white",
            "gridwidth": 2,
            "linecolor": "white",
            "showbackground": true,
            "ticks": "",
            "zerolinecolor": "white"
           },
           "zaxis": {
            "backgroundcolor": "#E5ECF6",
            "gridcolor": "white",
            "gridwidth": 2,
            "linecolor": "white",
            "showbackground": true,
            "ticks": "",
            "zerolinecolor": "white"
           }
          },
          "shapedefaults": {
           "line": {
            "color": "#2a3f5f"
           }
          },
          "ternary": {
           "aaxis": {
            "gridcolor": "white",
            "linecolor": "white",
            "ticks": ""
           },
           "baxis": {
            "gridcolor": "white",
            "linecolor": "white",
            "ticks": ""
           },
           "bgcolor": "#E5ECF6",
           "caxis": {
            "gridcolor": "white",
            "linecolor": "white",
            "ticks": ""
           }
          },
          "title": {
           "x": 0.05
          },
          "xaxis": {
           "automargin": true,
           "gridcolor": "white",
           "linecolor": "white",
           "ticks": "",
           "title": {
            "standoff": 15
           },
           "zerolinecolor": "white",
           "zerolinewidth": 2
          },
          "yaxis": {
           "automargin": true,
           "gridcolor": "white",
           "linecolor": "white",
           "ticks": "",
           "title": {
            "standoff": 15
           },
           "zerolinecolor": "white",
           "zerolinewidth": 2
          }
         }
        },
        "title": {
         "text": "Price vs. Number of Reviews"
        },
        "xaxis": {
         "anchor": "y",
         "domain": [
          0,
          1
         ],
         "title": {
          "text": "Number of Reviews"
         }
        },
        "yaxis": {
         "anchor": "x",
         "domain": [
          0,
          1
         ],
         "title": {
          "text": "Price (USD)"
         }
        }
       }
      }
     },
     "metadata": {},
     "output_type": "display_data"
    }
   ],
   "source": [
    "reviews_df = df[(df['number_of_reviews'] > 0) & (df['price'] < 500)]\n",
    "\n",
    "fig = px.scatter(reviews_df,\n",
    "                 x=\"number_of_reviews\",\n",
    "                 y=\"price\",\n",
    "                 title=\"Price vs. Number of Reviews\",\n",
    "                 labels={'number_of_reviews': 'Number of Reviews', 'price': 'Price (USD)'},\n",
    "                 trendline=\"ols\")\n",
    "fig.show()"
   ]
  },
  {
   "cell_type": "code",
   "execution_count": 9,
   "id": "6a82b3d0-c416-42bd-9724-cc2816613dd6",
   "metadata": {},
   "outputs": [
    {
     "name": "stdout",
     "output_type": "stream",
     "text": [
      "The correlation between price and number of reviews is: -0.0724\n"
     ]
    }
   ],
   "source": [
    "correlation = reviews_df['price'].corr(reviews_df['number_of_reviews'])\n",
    "\n",
    "print(f\"The correlation between price and number of reviews is: {correlation:.4f}\")"
   ]
  }
 ],
 "metadata": {
  "kernelspec": {
   "display_name": "Python 3 (ipykernel)",
   "language": "python",
   "name": "python3"
  },
  "language_info": {
   "codemirror_mode": {
    "name": "ipython",
    "version": 3
   },
   "file_extension": ".py",
   "mimetype": "text/x-python",
   "name": "python",
   "nbconvert_exporter": "python",
   "pygments_lexer": "ipython3",
   "version": "3.9.6"
  }
 },
 "nbformat": 4,
 "nbformat_minor": 5
}
